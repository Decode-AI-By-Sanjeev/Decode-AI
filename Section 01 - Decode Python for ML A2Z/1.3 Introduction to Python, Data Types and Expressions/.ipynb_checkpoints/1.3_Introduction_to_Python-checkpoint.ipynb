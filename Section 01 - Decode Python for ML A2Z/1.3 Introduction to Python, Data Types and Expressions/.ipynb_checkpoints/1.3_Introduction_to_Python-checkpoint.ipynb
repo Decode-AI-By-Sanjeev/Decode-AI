{
 "cells": [
  {
   "cell_type": "markdown",
   "id": "d884f304-84f5-4d5e-957f-8485d59758ea",
   "metadata": {},
   "source": [
    "# 1.4 Introudction to Python!\n",
    "\n",
    "> *“Any fool can write code that a computer can understand. Good programmers write code that humans can understand.”*  \n",
    "> — Martin Fowler\n",
    "\n",
    "---\n",
    "## 📘 Topics to be Covered\n",
    "\n",
    "1. **What is Python ?**  \n",
    "2. **Key Features of Python**  \n",
    "3. **Limitations of Python**  \n",
    "4. **Scope of Python**  \n",
    "5. **Python — A Programming or a Scripting Language?**  \n",
    "6. **Primitive data types in Python**  \n",
    "\n",
    "---"
   ]
  },
  {
   "cell_type": "markdown",
   "id": "01bba19a-0562-494a-99c0-cf7ca8b54ed7",
   "metadata": {},
   "source": [
    "## 7. Fundamental Data types in Python\n",
    "In Python, datatypes define what kind of value a variable can hold. Python is dynamically typed, so you don’t have to declare types explicitly—they're inferred at runtime.\n",
    "\n",
    "Fundamental (or primitive) data types are the basic building blocks of data in Python. They are simple, core types from which more complex structures can be made.\n",
    "\n",
    "A literal is a value. A variable is a name pointing to that value.\n",
    "\n",
    "A variable in Python is defined through assignment. There is no concept of declaring a variable outside of that assignment."
   ]
  },
  {
   "cell_type": "code",
   "execution_count": null,
   "id": "e716701b-e1c2-4f1e-b283-1c27e312da9b",
   "metadata": {},
   "outputs": [],
   "source": []
  },
  {
   "cell_type": "markdown",
   "id": "d7a5ca4d-fa8b-4906-ac3f-7ba44f4bd820",
   "metadata": {},
   "source": [
    "### Integers\n",
    "\n",
    "Integer literals are created by any number without a decimal or complex component."
   ]
  },
  {
   "cell_type": "code",
   "execution_count": 11,
   "id": "cf84d4de-1180-42f8-a23c-5b776f612e81",
   "metadata": {},
   "outputs": [
    {
     "name": "stdout",
     "output_type": "stream",
     "text": [
      "Type : <class 'int'>\n",
      "val : 1234\n"
     ]
    }
   ],
   "source": [
    "# integers\n",
    "x = 1234\n",
    "\n",
    "print(f'Type : {type(x)}')\n",
    "print(f'val : {x}')"
   ]
  },
  {
   "cell_type": "markdown",
   "id": "52091ca6-fa66-4b01-87d3-a92df2680a52",
   "metadata": {},
   "source": [
    "In Python, everything — even primitive data types like int, str, bool, etc. — is a class\n",
    "\n",
    "Every value (even 5, \"hello\", True) is an instance of a class.\n",
    "\n",
    "This makes Python powerful and flexible."
   ]
  },
  {
   "cell_type": "markdown",
   "id": "21b14672-a733-432f-86c7-875e57666b19",
   "metadata": {},
   "source": [
    "### Floats\n",
    "\n",
    "Float literals can be created by adding a decimal component to a number."
   ]
  },
  {
   "cell_type": "code",
   "execution_count": 12,
   "id": "c478f341-195f-4c5d-8c46-ca96cb149a35",
   "metadata": {},
   "outputs": [
    {
     "name": "stdout",
     "output_type": "stream",
     "text": [
      "Type : <class 'float'>\n",
      "val : 1.0\n"
     ]
    }
   ],
   "source": [
    "# float\n",
    "x = 1.0\n",
    "\n",
    "print(f'Type : {type(x)}')\n",
    "print(f'val : {x}')"
   ]
  },
  {
   "cell_type": "markdown",
   "id": "1f2ae8c1-194f-4114-875d-a20dba2f97c6",
   "metadata": {},
   "source": [
    "### Boolean\n",
    "\n",
    "Boolean can be defined by typing True/False without quotes"
   ]
  },
  {
   "cell_type": "code",
   "execution_count": 13,
   "id": "46c4bc0f-6a17-4748-a9e2-42601b8054bb",
   "metadata": {},
   "outputs": [
    {
     "name": "stdout",
     "output_type": "stream",
     "text": [
      "Type : <class 'bool'>\n",
      "val : True\n"
     ]
    }
   ],
   "source": [
    "# boolean\n",
    "b1 = True\n",
    "b2 = False\n",
    "\n",
    "print(f'Type : {type(b1)}')\n",
    "print(f'val : {b1}')"
   ]
  },
  {
   "cell_type": "code",
   "execution_count": 19,
   "id": "53ed6cf8-384f-4f6a-beaf-e6e143d3baee",
   "metadata": {},
   "outputs": [
    {
     "name": "stdout",
     "output_type": "stream",
     "text": [
      "False\n",
      "True\n",
      "False\n",
      "True\n"
     ]
    }
   ],
   "source": [
    "# Boolean evaluation\n",
    "print(True and False)\n",
    "print(True or False)\n",
    "print(not True)\n",
    "print('a' == 'a')"
   ]
  },
  {
   "cell_type": "markdown",
   "id": "6f43234a-a14d-452a-8b8e-da6ed6dc25fc",
   "metadata": {},
   "source": [
    "### Strings\n",
    "\n",
    "String literals can be defined with any of single quotes ('), double quotes (\") or triple quotes (''' or \"\"\"). All give the same result with two important differences.\n",
    "\n",
    "If you quote with single quotes, you do not have to escape double quotes and vice-versa.\n",
    "If you quote with triple quotes, your string can span multiple lines."
   ]
  },
  {
   "cell_type": "code",
   "execution_count": 14,
   "id": "4f22b601-7132-4b58-a5d6-7c26f50e9a0e",
   "metadata": {},
   "outputs": [
    {
     "name": "stdout",
     "output_type": "stream",
     "text": [
      "name Type : <class 'str'>\n",
      "name val : Hello I'm double quotes !\n",
      "greet Type : <class 'str'>\n",
      "greet val : Hello I'm single quotes!\n",
      "multi_line Type : <class 'str'>\n",
      "multi_line val : \n",
      "Hi\n",
      "This is Python\n",
      "\n"
     ]
    }
   ],
   "source": [
    "name = \"Hello I'm double quotes !\"           # Double quotes\n",
    "print(f'name Type : {type(name)}')\n",
    "print(f'name val : {name}')\n",
    "#--------------\n",
    "greet = 'Hello I\\'m single quotes!'            # Single quotes\n",
    "print(f'greet Type : {type(greet)}')\n",
    "print(f'greet val : {greet}')\n",
    "#--------------\n",
    "multi_line = '''\n",
    "Hi\n",
    "This is Python\n",
    "'''          # Triple quotes for multi-line strings\n",
    "print(f'multi_line Type : {type(multi_line)}')\n",
    "print(f'multi_line val : {multi_line}')"
   ]
  },
  {
   "cell_type": "markdown",
   "id": "d3e143a0-6615-4b91-a91f-1b7e9347552a",
   "metadata": {},
   "source": [
    "### Complex\n",
    "\n",
    "Complex literals can be created by using the notation x + yj where x is the real component and y is the imaginary component."
   ]
  },
  {
   "cell_type": "code",
   "execution_count": 15,
   "id": "2686b89b-f2b8-491b-bbe2-85ccb0125df3",
   "metadata": {},
   "outputs": [
    {
     "data": {
      "text/plain": [
       "complex"
      ]
     },
     "execution_count": 15,
     "metadata": {},
     "output_type": "execute_result"
    }
   ],
   "source": [
    "# complex numbers: note the use of `j` to specify the imaginary part\n",
    "x = 1.0 - 2.0j\n",
    "type(x)"
   ]
  },
  {
   "cell_type": "code",
   "execution_count": 16,
   "id": "aab66c16-fe4e-4e2c-bdde-dc5b75e18285",
   "metadata": {},
   "outputs": [
    {
     "name": "stdout",
     "output_type": "stream",
     "text": [
      "(1-2j)\n"
     ]
    }
   ],
   "source": [
    "print(x)"
   ]
  },
  {
   "cell_type": "code",
   "execution_count": 17,
   "id": "e5a04c61-9c56-4af5-98b6-35d6c4660431",
   "metadata": {},
   "outputs": [
    {
     "name": "stdout",
     "output_type": "stream",
     "text": [
      "1.0 -2.0\n"
     ]
    }
   ],
   "source": [
    "print(x.real, x.imag)"
   ]
  },
  {
   "cell_type": "markdown",
   "id": "99175e38-b7da-4831-9572-405a6c26b0ab",
   "metadata": {},
   "source": [
    "### Dynamic Typing\n",
    "\n",
    "In Python, while the value that a variable points to has a type, the variable itself has no strict type in its definition. You can re-use the same variable to point to an object of a different type. "
   ]
  },
  {
   "cell_type": "code",
   "execution_count": 18,
   "id": "3a5afb0e-7f82-405b-99c0-10132eb3765a",
   "metadata": {},
   "outputs": [
    {
     "name": "stdout",
     "output_type": "stream",
     "text": [
      "10\n",
      "ten\n"
     ]
    }
   ],
   "source": [
    "ten = 10\n",
    "print(ten)\n",
    "\n",
    "ten = 'ten'\n",
    "print(ten)"
   ]
  },
  {
   "cell_type": "markdown",
   "id": "45d807e4-9195-41dd-9762-313845db8072",
   "metadata": {},
   "source": [
    "### None Type\n",
    "\n",
    "Represents the absence of a value."
   ]
  },
  {
   "cell_type": "code",
   "execution_count": 20,
   "id": "38bfe5cd-437b-4e3b-98c5-1c7e52ce8637",
   "metadata": {},
   "outputs": [
    {
     "name": "stdout",
     "output_type": "stream",
     "text": [
      "None\n",
      "<class 'NoneType'>\n"
     ]
    }
   ],
   "source": [
    "data = None\n",
    "print(data)\n",
    "print(type(data))"
   ]
  },
  {
   "cell_type": "markdown",
   "id": "4809a19c-059f-404c-9936-ecff177b374b",
   "metadata": {},
   "source": [
    "### Type Checking and Conversion"
   ]
  },
  {
   "cell_type": "code",
   "execution_count": 21,
   "id": "e9736f77-2c7e-446d-868e-1d026d0183a5",
   "metadata": {},
   "outputs": [
    {
     "name": "stdout",
     "output_type": "stream",
     "text": [
      "<class 'str'>\n",
      "<class 'int'>\n"
     ]
    }
   ],
   "source": [
    "a = \"10\"\n",
    "print(type(a))\n",
    "a = int(a)\n",
    "print(type(a))"
   ]
  },
  {
   "cell_type": "markdown",
   "id": "d08d5b68-5444-42aa-8b36-56a4048a4580",
   "metadata": {},
   "source": [
    "### Branching (if / elif / else)\n",
    "\n",
    "Python provides the if statement to allow branching based on conditions. Multiple elif checks can also be performed followed by an optional else clause. The if statement can be used with any evaluation of truthiness."
   ]
  },
  {
   "cell_type": "code",
   "execution_count": 2,
   "id": "a24bb247-d8cd-41c1-8335-b4e211a7dc2f",
   "metadata": {},
   "outputs": [
    {
     "name": "stdin",
     "output_type": "stream",
     "text": [
      "What would you like to order? (espresso/latte/cappuccino):  espresso\n"
     ]
    },
    {
     "name": "stdout",
     "output_type": "stream",
     "text": [
      "Brewing a strong espresso for you ☕\n"
     ]
    }
   ],
   "source": [
    "choice = input(\"What would you like to order? (espresso/latte/cappuccino): \")\n",
    "\n",
    "if choice == \"espresso\":\n",
    "    print(\"Brewing a strong espresso for you ☕\")\n",
    "elif choice == \"latte\":\n",
    "    print(\"Steaming milk and making your latte 🥛☕\")\n",
    "elif choice == \"cappuccino\":\n",
    "    print(\"Frothing milk and preparing your cappuccino 🌫️☕\")\n",
    "else:\n",
    "    print(\"Sorry, we don't serve that drink 😢\")\n"
   ]
  },
  {
   "cell_type": "markdown",
   "id": "45f09d3e-a178-4415-8153-2858ccbcb1ac",
   "metadata": {},
   "source": [
    "### Block Structure and Whitespace\n",
    "\n",
    "The code that is executed when a specific condition is met is defined in a \"block.\" \n",
    "\n",
    "In Python, the block structure is signalled by changes in indentation. Each line of code in a certain block level must be indented equally and indented more than the surrounding scope. The standard (defined in PEP-8) is to use 4 spaces for each level of block indentation. Statements preceding blocks generally end with a colon (:).\n",
    "\n",
    "Because there are no semi-colons or other end-of-line indicators in Python, breaking lines of code requires either a continuation character (\\ as the last char) or for the break to occur inside an unfinished structure (such as open parentheses)."
   ]
  },
  {
   "cell_type": "code",
   "execution_count": 3,
   "id": "6221d7c8-00fa-465e-927d-d07fd764bee1",
   "metadata": {},
   "outputs": [
    {
     "name": "stdout",
     "output_type": "stream",
     "text": [
      "150\n"
     ]
    }
   ],
   "source": [
    "total = 10 + 20 + 30 + \\\n",
    "        40 + 50\n",
    "print(total)"
   ]
  },
  {
   "cell_type": "markdown",
   "id": "bfd377e4-16e2-4348-86ed-4f634991ab45",
   "metadata": {},
   "source": [
    "In Python, primitive data types and container data types are fundamental concepts that help you store and manage data in different ways.\n",
    "\n",
    "Since we have already seen Primitive data types in last lecture, let's see some common Container data types."
   ]
  },
  {
   "cell_type": "markdown",
   "id": "7165e82a-74d7-44cd-8cf1-807cb45377d8",
   "metadata": {},
   "source": [
    "### Containers in Python\n",
    "\n",
    "In Python, containers are built-in data types that hold collections of items. They allow you to group multiple values together into a single object, making it easier to manage, organize, and manipulate data. \n",
    "\n",
    "They are part of Python’s core language — available by default without importing anything.\n",
    "\n",
    "Let's see some common containers.\n",
    "\n",
    "| Type        | Description                             | Mutable? | Ordered? | Duplicates? |\n",
    "| ----------- | --------------------------------------- | -------- | -------- | ----------- |\n",
    "| `list`      | Ordered collection of items             | ✅ Yes    | ✅ Yes    | ✅ Yes       |\n",
    "| `tuple`     | Immutable ordered collection            | ❌ No     | ✅ Yes    | ✅ Yes       |\n",
    "| `dict`      | Key-value pairs                         | ✅ Yes    | ✅ Yes    | ❌ No (keys) |\n",
    "| `set`       | Unordered collection of unique elements | ✅ Yes    | ❌ No     | ❌ No        |\n",
    "| `frozenset` | Immutable version of a set              | ❌ No     | ❌ No     | ❌ No        |\n",
    "| `str`       | Immutable sequence of characters        | ❌ No     | ✅ Yes    | ✅ Yes       |\n",
    "\n",
    "Let's see in brief some examples for each of these items."
   ]
  },
  {
   "cell_type": "code",
   "execution_count": 4,
   "id": "0cfd01eb-5def-411c-8d46-49f724f65dd1",
   "metadata": {},
   "outputs": [
    {
     "name": "stdout",
     "output_type": "stream",
     "text": [
      "['apple', 'banana', 'cherry', 'orange']\n"
     ]
    }
   ],
   "source": [
    "# 1. list – A Mutable Ordered Container\n",
    "fruits = [\"apple\", \"banana\", \"cherry\"]\n",
    "fruits.append(\"orange\")\n",
    "print(fruits)  # ['apple', 'banana', 'cherry', 'orange']"
   ]
  },
  {
   "cell_type": "code",
   "execution_count": 6,
   "id": "80e639c7-4d53-49a4-a060-a1b9198a091b",
   "metadata": {},
   "outputs": [],
   "source": [
    "# 2. tuple – An Immutable Ordered Container\n",
    "coordinates = (10, 20)\n",
    "# coordinates[0] = 30  # ❌ Error, tuples can't be modified"
   ]
  },
  {
   "cell_type": "code",
   "execution_count": 7,
   "id": "bf5a3bd9-e0a0-40e0-86fe-86f8d3b9e247",
   "metadata": {},
   "outputs": [
    {
     "name": "stdout",
     "output_type": "stream",
     "text": [
      "{'name': 'Alice', 'age': 22, 'grade': 'A'}\n"
     ]
    }
   ],
   "source": [
    "# 3. dict – A Key-Value Pair Container\n",
    "student = {\"name\": \"Alice\", \"age\": 22}\n",
    "student[\"grade\"] = \"A\"\n",
    "print(student)  # {'name': 'Alice', 'age': 22, 'grade': 'A'}"
   ]
  },
  {
   "cell_type": "code",
   "execution_count": 8,
   "id": "7b420e4f-1fb9-45d8-979b-c5779a146fda",
   "metadata": {},
   "outputs": [
    {
     "name": "stdout",
     "output_type": "stream",
     "text": [
      "{1, 2, 3}\n"
     ]
    }
   ],
   "source": [
    "# 4. set – A Collection of Unique Elements\n",
    "unique_numbers = {1, 2, 3, 2, 1}\n",
    "print(unique_numbers)  # {1, 2, 3}"
   ]
  },
  {
   "cell_type": "code",
   "execution_count": 9,
   "id": "6a10e160-2d19-44cc-9082-94418ddf211b",
   "metadata": {},
   "outputs": [],
   "source": [
    "# 5. frozenset – Immutable Set\n",
    "fs = frozenset([1, 2, 3])\n",
    "# fs.add(4)  # ❌ Error: frozenset is immutable"
   ]
  },
  {
   "cell_type": "code",
   "execution_count": 10,
   "id": "2e111f8a-01b3-4ddb-b6f6-8304d8cfd6b6",
   "metadata": {},
   "outputs": [
    {
     "name": "stdout",
     "output_type": "stream",
     "text": [
      "e\n"
     ]
    }
   ],
   "source": [
    "# 6. str – Technically a Container of Characters\n",
    "message = \"hello\"\n",
    "print(message[1])  # 'e'\n",
    "# message[0] = 'H'  # ❌ Error: strings are immutable"
   ]
  },
  {
   "cell_type": "markdown",
   "id": "e4dc8927-3883-43e5-8446-3584ee69c1a6",
   "metadata": {},
   "source": [
    "> We will see few containers in very details in the next lecture."
   ]
  },
  {
   "cell_type": "markdown",
   "id": "d4f47015-186d-4a6a-8cd4-96198bcd9759",
   "metadata": {},
   "source": [
    "## Loops in Python\n",
    "\n",
    "In general, statements are executed sequentially: The first statement in a function is executed first, followed by the second, and so on. There may be a situation when you need to execute a block of code several number of times.\n",
    "\n",
    "Programming languages provide various control structures that allow for more complicated execution paths.\n",
    "\n",
    "### 1. For loop\n",
    "\n",
    "The for loop in Python is used to iterate over a sequence (list, tuple, string) or other iterable objects. Iterating over a sequence is called traversal.\n",
    "\n",
    "Loop continues until we reach the last item in the sequence. The body of for loop is separated from the rest of the code using indentation."
   ]
  },
  {
   "cell_type": "markdown",
   "id": "b8ac3ece-2118-4b2e-a2ad-cba7fd58efcc",
   "metadata": {},
   "source": [
    "## 📚 References\n",
    "\n",
    "1. [The Python execution model details src 1](https://www.geeksforgeeks.org/internal-working-of-python/)  \n",
    "2. [The Python execution model src 2](https://medium.com/@rajat01221/execution-policy-in-python-the-math-behind-python-18bd289eb40e)  "
   ]
  }
 ],
 "metadata": {
  "kernelspec": {
   "display_name": "Python 3 (ipykernel)",
   "language": "python",
   "name": "python3"
  },
  "language_info": {
   "codemirror_mode": {
    "name": "ipython",
    "version": 3
   },
   "file_extension": ".py",
   "mimetype": "text/x-python",
   "name": "python",
   "nbconvert_exporter": "python",
   "pygments_lexer": "ipython3",
   "version": "3.13.5"
  }
 },
 "nbformat": 4,
 "nbformat_minor": 5
}
