{
 "cells": [
  {
   "cell_type": "code",
   "execution_count": null,
   "metadata": {
    "id": "D5z10AQh4Yi-"
   },
   "outputs": [],
   "source": []
  },
  {
   "cell_type": "code",
   "execution_count": null,
   "metadata": {
    "id": "rd5S7lJ56Rgk"
   },
   "outputs": [],
   "source": []
  },
  {
   "cell_type": "markdown",
   "metadata": {
    "id": "E8zDlu-i41Mo"
   },
   "source": [
    "### Lecture 7 : Access Modifiers in Python"
   ]
  },
  {
   "cell_type": "markdown",
   "metadata": {
    "id": "x3xHxCkJ5OwG"
   },
   "source": [
    "### Lecture 8 : Getters and Setters in Python"
   ]
  },
  {
   "cell_type": "code",
   "execution_count": null,
   "metadata": {
    "id": "wPfuSvYpul5n"
   },
   "outputs": [],
   "source": [
    "# In the last lecture, we had seen Access modifier in Python in details. Please go through it for better clarity."
   ]
  },
  {
   "cell_type": "markdown",
   "metadata": {
    "id": "FKZAtrWkvRHd"
   },
   "source": [
    "In Python, getters and setters are used to access and modify private attributes of a class in a controlled way. They are part of encapsulation, a core OOP principle that helps in maintaining clean, modular, and safe code."
   ]
  },
  {
   "cell_type": "markdown",
   "metadata": {
    "id": "UvuXtykfwUHe"
   },
   "source": [
    "**AI/ML usecase of Getters and Setters**\n",
    "\n",
    "- Setting Input data Shape"
   ]
  },
  {
   "cell_type": "code",
   "execution_count": 10,
   "metadata": {
    "colab": {
     "base_uri": "https://localhost:8080/"
    },
    "executionInfo": {
     "elapsed": 9,
     "status": "ok",
     "timestamp": 1750950479179,
     "user": {
      "displayName": "Decode AI",
      "userId": "00665917665354843584"
     },
     "user_tz": -330
    },
    "id": "D2rUb5h2uz5I",
    "outputId": "8f5e5b57-d01d-43d8-8b1d-006905b8f503"
   },
   "outputs": [
    {
     "name": "stdout",
     "output_type": "stream",
     "text": [
      "Data shape set to: (100, 20)\n"
     ]
    }
   ],
   "source": [
    "import numpy as np\n",
    "\n",
    "class DataLoader:\n",
    "    def __init__(self):\n",
    "        self._data = None\n",
    "\n",
    "    @property\n",
    "    def data(self):\n",
    "        return self._data\n",
    "\n",
    "    @data.setter\n",
    "    def data(self, arr):\n",
    "        if not isinstance(arr, np.ndarray):\n",
    "            raise TypeError(\"Data must be a NumPy array.\")\n",
    "        if arr.ndim != 2:\n",
    "            raise ValueError(\"Input data must be 2-dimensional.\")\n",
    "        print(f\"Data shape set to: {arr.shape}\")\n",
    "        self._data = arr\n",
    "\n",
    "# Example usage\n",
    "loader = DataLoader()\n",
    "loader.data = np.random.rand(100, 20)  # OK\n",
    "# loader.data = [1, 2, 3]              # Raises TypeError\n",
    "# loader.data = np.random.rand(100)   # Raises ValueError\n"
   ]
  },
  {
   "cell_type": "markdown",
   "metadata": {
    "id": "J1REOogzy69N"
   },
   "source": [
    "The` @` symbol is used to apply a decorator to a function or method.\n",
    "\n",
    "A decorator is a function that:\n",
    "- Takes another function or method as input\n",
    "- Adds some extra behavior\n",
    "- Returns a modified function or method"
   ]
  },
  {
   "cell_type": "code",
   "execution_count": null,
   "metadata": {
    "id": "dom44105u_pv"
   },
   "outputs": [],
   "source": [
    "# In real ML pipelines, the wrong shape can crash models or silently produce incorrect results.\n",
    "# Catching errors early (during data loading) avoids wasting time on failed or flawed training runs.\n",
    "# You won't have to debug mysterious shape mismatch errors deep in model code."
   ]
  },
  {
   "cell_type": "code",
   "execution_count": null,
   "metadata": {
    "id": "ZSr4YWt8u_s4"
   },
   "outputs": [],
   "source": []
  },
  {
   "cell_type": "code",
   "execution_count": null,
   "metadata": {
    "id": "7TQbFDLdu_wc"
   },
   "outputs": [],
   "source": []
  },
  {
   "cell_type": "markdown",
   "metadata": {
    "id": "3ZWv5_s4zWHp"
   },
   "source": [
    "### Lecture 9: Decorators in Python"
   ]
  },
  {
   "cell_type": "markdown",
   "metadata": {
    "id": "aJksJsa12Mlo"
   },
   "source": [
    "A decorator is just a function that takes another function and adds extra behavior to it — without changing the original function’s code.\n",
    "\n",
    "Think of it like wrapping a gift 🎁 — the gift is still inside, but now it has something extra on top."
   ]
  },
  {
   "cell_type": "markdown",
   "metadata": {
    "id": "lV7UJzYH2iUN"
   },
   "source": [
    "**Hello-World Decorator Program**"
   ]
  },
  {
   "cell_type": "code",
   "execution_count": 12,
   "metadata": {
    "executionInfo": {
     "elapsed": 9,
     "status": "ok",
     "timestamp": 1750951708340,
     "user": {
      "displayName": "Decode AI",
      "userId": "00665917665354843584"
     },
     "user_tz": -330
    },
    "id": "UkEfWH0z2ofx"
   },
   "outputs": [],
   "source": [
    "def say_hello():\n",
    "    print(\"Hello, world!\")"
   ]
  },
  {
   "cell_type": "code",
   "execution_count": 13,
   "metadata": {
    "executionInfo": {
     "elapsed": 11,
     "status": "ok",
     "timestamp": 1750951720194,
     "user": {
      "displayName": "Decode AI",
      "userId": "00665917665354843584"
     },
     "user_tz": -330
    },
    "id": "4mNYo_B72ojQ"
   },
   "outputs": [],
   "source": [
    "def my_decorator(func): # my_decorator is a function that takes another function (func)\n",
    "    def wrapper(): # Inside, it defines a wrapper function that:\n",
    "        print(\"Before the function runs\")\n",
    "        func()\n",
    "        print(\"After the function runs\")\n",
    "    return wrapper # Then it returns the wrapper, not the original\n"
   ]
  },
  {
   "cell_type": "code",
   "execution_count": 14,
   "metadata": {
    "executionInfo": {
     "elapsed": 12,
     "status": "ok",
     "timestamp": 1750951805546,
     "user": {
      "displayName": "Decode AI",
      "userId": "00665917665354843584"
     },
     "user_tz": -330
    },
    "id": "Kiomb10Y2wAQ"
   },
   "outputs": [],
   "source": [
    "@my_decorator\n",
    "def say_hello(): # say_hello = my_decorator(say_hello)\n",
    "    print(\"Hello, world!\")"
   ]
  },
  {
   "cell_type": "code",
   "execution_count": 15,
   "metadata": {
    "colab": {
     "base_uri": "https://localhost:8080/"
    },
    "executionInfo": {
     "elapsed": 35,
     "status": "ok",
     "timestamp": 1750951874997,
     "user": {
      "displayName": "Decode AI",
      "userId": "00665917665354843584"
     },
     "user_tz": -330
    },
    "id": "8NActd_P2wak",
    "outputId": "34dbc207-f53c-48a8-c31c-f2b91af946b1"
   },
   "outputs": [
    {
     "name": "stdout",
     "output_type": "stream",
     "text": [
      "Before the function runs\n",
      "Hello, world!\n",
      "After the function runs\n"
     ]
    }
   ],
   "source": [
    "say_hello()"
   ]
  },
  {
   "cell_type": "markdown",
   "metadata": {
    "id": "J9vYWJA13a1Q"
   },
   "source": [
    "---"
   ]
  },
  {
   "cell_type": "code",
   "execution_count": 11,
   "metadata": {
    "colab": {
     "base_uri": "https://localhost:8080/"
    },
    "executionInfo": {
     "elapsed": 20,
     "status": "ok",
     "timestamp": 1750950922576,
     "user": {
      "displayName": "Decode AI",
      "userId": "00665917665354843584"
     },
     "user_tz": -330
    },
    "id": "Su1hgLPXzgkr",
    "outputId": "1abda1b0-e50b-4913-d309-87ea28e54703"
   },
   "outputs": [
    {
     "name": "stdout",
     "output_type": "stream",
     "text": [
      "Data shape set to: (100, 20)\n"
     ]
    }
   ],
   "source": [
    "import numpy as np\n",
    "\n",
    "class DataLoader:\n",
    "    def __init__(self):\n",
    "        self._data = None\n",
    "\n",
    "    @property\n",
    "    def data(self):\n",
    "        return self._data\n",
    "\n",
    "    @data.setter\n",
    "    def data(self, arr):\n",
    "        if not isinstance(arr, np.ndarray):\n",
    "            raise TypeError(\"Data must be a NumPy array.\")\n",
    "        if arr.ndim != 2:\n",
    "            raise ValueError(\"Input data must be 2-dimensional.\")\n",
    "        print(f\"Data shape set to: {arr.shape}\")\n",
    "        self._data = arr\n",
    "\n",
    "# Example usage\n",
    "loader = DataLoader()\n",
    "loader.data = np.random.rand(100, 20)  # OK\n",
    "# loader.data = [1, 2, 3]              # Raises TypeError\n",
    "# loader.data = np.random.rand(100)   # Raises ValueError\n"
   ]
  },
  {
   "cell_type": "markdown",
   "metadata": {
    "id": "tXsu1jV9z4I6"
   },
   "source": [
    "The `@` symbol is used to apply a decorator to a function or method.\n",
    "\n",
    "A decorator is a function that:\n",
    "- Takes another function or method as input\n",
    "- Adds some extra behavior\n",
    "- Returns a modified function or method"
   ]
  },
  {
   "cell_type": "markdown",
   "metadata": {
    "id": "2QIssaTw0FRw"
   },
   "source": [
    "**In Your Code: `@property` and `@data.setter`**\n",
    "These decorators are used to define getters and setters for the data attribute of your DataLoader class."
   ]
  },
  {
   "cell_type": "markdown",
   "metadata": {
    "id": "fzUFScZd0RAu"
   },
   "source": [
    "---\n",
    "**Step-by-Step Breakdown**"
   ]
  },
  {
   "cell_type": "code",
   "execution_count": null,
   "metadata": {
    "id": "TsvtkMPhztS9"
   },
   "outputs": [],
   "source": [
    "# 1. @property\n",
    "@property\n",
    "def data(self):\n",
    "    return self._data\n",
    "\n",
    "# This makes data() behave like a read-only attribute.\n",
    "# So now, you can access loader.data instead of calling loader.data()."
   ]
  },
  {
   "cell_type": "code",
   "execution_count": null,
   "metadata": {
    "id": "kZsFWiCEztWH"
   },
   "outputs": [],
   "source": [
    "# 2. @data.setter\n",
    "\n",
    "@data.setter\n",
    "def data(self, arr):\n",
    "    if not isinstance(arr, np.ndarray):\n",
    "        raise TypeError(\"Data must be a NumPy array.\")\n",
    "    if arr.ndim != 2:\n",
    "        raise ValueError(\"Input data must be 2-dimensional.\")\n",
    "    print(f\"Data shape set to: {arr.shape}\")\n",
    "    self._data = arr\n",
    "\n",
    "# This decorates the method to be the setter for the data property.\n",
    "# When you write loader.data = ..., it calls this method automatically.\n",
    "# Here, it performs type and shape checks, then assigns to _data."
   ]
  },
  {
   "cell_type": "code",
   "execution_count": null,
   "metadata": {
    "id": "XgQGq-VfztZt"
   },
   "outputs": [],
   "source": []
  },
  {
   "cell_type": "markdown",
   "metadata": {
    "id": "m3AdCcE15YPO"
   },
   "source": [
    "### Lecture 10 : Dunder Methods in Python"
   ]
  },
  {
   "cell_type": "markdown",
   "metadata": {
    "id": "2vCNe81Lm1XH"
   },
   "source": [
    "Dunder methods (short for double underscore methods) are special methods in Python with names that start and end with double underscores, like `__init__`, `__str__`, etc.\n",
    "\n",
    "They're also known as:\n",
    "\n",
    "1. Magic methods\n",
    "\n",
    "2. Special methods\n",
    "\n",
    "These are special methods that let you customize the behavior of your objects when they interact with built-in Python syntax, operators, or functions."
   ]
  },
  {
   "cell_type": "markdown",
   "metadata": {
    "id": "dzXen0jDnFeB"
   },
   "source": [
    "They’re called “dunder” because their names start and end with double underscores, like __init__, __str__, or __add__.\n",
    "\n",
    "---"
   ]
  },
  {
   "cell_type": "markdown",
   "metadata": {
    "id": "_HvItAgRnxUB"
   },
   "source": [
    "Dunder methods \"hook into\" Python's built-in behaviors. Let's look into few examples:"
   ]
  },
  {
   "cell_type": "markdown",
   "metadata": {
    "id": "pt-Uz50eoN1M"
   },
   "source": []
  },
  {
   "cell_type": "markdown",
   "metadata": {
    "id": "6trfQeezoRpV"
   },
   "source": [
    "**1. Want to define how your object looks when printed? Use `__str__()`.**"
   ]
  },
  {
   "cell_type": "code",
   "execution_count": 1,
   "metadata": {
    "colab": {
     "base_uri": "https://localhost:8080/"
    },
    "executionInfo": {
     "elapsed": 29,
     "status": "ok",
     "timestamp": 1750948023764,
     "user": {
      "displayName": "Decode AI",
      "userId": "00665917665354843584"
     },
     "user_tz": -330
    },
    "id": "SOBPGLmbn8jH",
    "outputId": "487b2f4f-6b74-49c2-f444-73f785ccdba0"
   },
   "outputs": [
    {
     "name": "stdout",
     "output_type": "stream",
     "text": [
      "<__main__.Book object at 0x7f43e1baa150>\n"
     ]
    }
   ],
   "source": [
    "# without __str__()\n",
    "class Book:\n",
    "    def __init__(self, title):\n",
    "        self.title = title\n",
    "\n",
    "b = Book(\"1984\")\n",
    "print(b)   # Output: Book: 1984"
   ]
  },
  {
   "cell_type": "code",
   "execution_count": 2,
   "metadata": {
    "colab": {
     "base_uri": "https://localhost:8080/"
    },
    "executionInfo": {
     "elapsed": 17,
     "status": "ok",
     "timestamp": 1750948031728,
     "user": {
      "displayName": "Decode AI",
      "userId": "00665917665354843584"
     },
     "user_tz": -330
    },
    "id": "2w_n1bRAooMt",
    "outputId": "d03009d7-6417-4393-a9a5-6f2baf006577"
   },
   "outputs": [
    {
     "name": "stdout",
     "output_type": "stream",
     "text": [
      "Book: 1984\n"
     ]
    }
   ],
   "source": [
    "# with __str__()\n",
    "class Book:\n",
    "    def __init__(self, title):\n",
    "        self.title = title\n",
    "\n",
    "    def __str__(self):\n",
    "        return f\"Book: {self.title}\"\n",
    "\n",
    "b = Book(\"1984\")\n",
    "print(b)   # Output: Book: 1984"
   ]
  },
  {
   "cell_type": "markdown",
   "metadata": {
    "id": "DuZzh4V4oy3Q"
   },
   "source": [
    "**2. Want to define what happens when someone uses + on your object? Use `__add__()`.**"
   ]
  },
  {
   "cell_type": "code",
   "execution_count": 4,
   "metadata": {
    "colab": {
     "base_uri": "https://localhost:8080/",
     "height": 176
    },
    "executionInfo": {
     "elapsed": 23,
     "status": "error",
     "timestamp": 1750948235887,
     "user": {
      "displayName": "Decode AI",
      "userId": "00665917665354843584"
     },
     "user_tz": -330
    },
    "id": "-x-OqyC8o9JZ",
    "outputId": "4b3f9e16-387e-4299-fece-3819721db4f9"
   },
   "outputs": [
    {
     "ename": "TypeError",
     "evalue": "unsupported operand type(s) for +: 'Vector' and 'Vector'",
     "output_type": "error",
     "traceback": [
      "\u001b[0;31m---------------------------------------------------------------------------\u001b[0m",
      "\u001b[0;31mTypeError\u001b[0m                                 Traceback (most recent call last)",
      "\u001b[0;32m/tmp/ipython-input-4-3548394787.py\u001b[0m in \u001b[0;36m<cell line: 0>\u001b[0;34m()\u001b[0m\n\u001b[1;32m     10\u001b[0m \u001b[0mv1\u001b[0m \u001b[0;34m=\u001b[0m \u001b[0mVector\u001b[0m\u001b[0;34m(\u001b[0m\u001b[0;36m1\u001b[0m\u001b[0;34m,\u001b[0m \u001b[0;36m2\u001b[0m\u001b[0;34m)\u001b[0m\u001b[0;34m\u001b[0m\u001b[0;34m\u001b[0m\u001b[0m\n\u001b[1;32m     11\u001b[0m \u001b[0mv2\u001b[0m \u001b[0;34m=\u001b[0m \u001b[0mVector\u001b[0m\u001b[0;34m(\u001b[0m\u001b[0;36m3\u001b[0m\u001b[0;34m,\u001b[0m \u001b[0;36m4\u001b[0m\u001b[0;34m)\u001b[0m\u001b[0;34m\u001b[0m\u001b[0;34m\u001b[0m\u001b[0m\n\u001b[0;32m---> 12\u001b[0;31m \u001b[0mprint\u001b[0m\u001b[0;34m(\u001b[0m\u001b[0mv1\u001b[0m \u001b[0;34m+\u001b[0m \u001b[0mv2\u001b[0m\u001b[0;34m)\u001b[0m  \u001b[0;31m# Output: Vector(4, 6)\u001b[0m\u001b[0;34m\u001b[0m\u001b[0;34m\u001b[0m\u001b[0m\n\u001b[0m",
      "\u001b[0;31mTypeError\u001b[0m: unsupported operand type(s) for +: 'Vector' and 'Vector'"
     ]
    }
   ],
   "source": [
    "# without __add__()\n",
    "class Vector:\n",
    "    def __init__(self, x, y):\n",
    "        self.x = x\n",
    "        self.y = y\n",
    "\n",
    "    def __str__(self):\n",
    "        return f\"Vector({self.x}, {self.y})\"\n",
    "\n",
    "v1 = Vector(1, 2)\n",
    "v2 = Vector(3, 4)\n",
    "print(v1 + v2)  # Output: Vector(4, 6)\n"
   ]
  },
  {
   "cell_type": "code",
   "execution_count": 3,
   "metadata": {
    "colab": {
     "base_uri": "https://localhost:8080/"
    },
    "executionInfo": {
     "elapsed": 32,
     "status": "ok",
     "timestamp": 1750948191315,
     "user": {
      "displayName": "Decode AI",
      "userId": "00665917665354843584"
     },
     "user_tz": -330
    },
    "id": "wNIKsMGBpMiz",
    "outputId": "8045d431-3c23-437f-dc7a-66af37899906"
   },
   "outputs": [
    {
     "name": "stdout",
     "output_type": "stream",
     "text": [
      "Vector(4, 6)\n"
     ]
    }
   ],
   "source": [
    "# with __add__()\n",
    "class Vector:\n",
    "    def __init__(self, x, y):\n",
    "        self.x = x\n",
    "        self.y = y\n",
    "\n",
    "    def __add__(self, other):\n",
    "        return Vector(self.x + other.x, self.y + other.y)\n",
    "\n",
    "    def __str__(self):\n",
    "        return f\"Vector({self.x}, {self.y})\"\n",
    "\n",
    "v1 = Vector(1, 2)\n",
    "v2 = Vector(3, 4)\n",
    "print(v1 + v2)  # Output: Vector(4, 6)\n"
   ]
  },
  {
   "cell_type": "markdown",
   "metadata": {
    "id": "5h2a4c7jpxbX"
   },
   "source": [
    "**3. Want to control how len(obj) behaves? Use `__len__()`.**"
   ]
  },
  {
   "cell_type": "code",
   "execution_count": 5,
   "metadata": {
    "colab": {
     "base_uri": "https://localhost:8080/",
     "height": 176
    },
    "executionInfo": {
     "elapsed": 28,
     "status": "error",
     "timestamp": 1750948416063,
     "user": {
      "displayName": "Decode AI",
      "userId": "00665917665354843584"
     },
     "user_tz": -330
    },
    "id": "2Tx454C8pp43",
    "outputId": "c95ad670-3e21-445d-9e13-14e608a3a8cf"
   },
   "outputs": [
    {
     "ename": "TypeError",
     "evalue": "object of type 'Basket' has no len()",
     "output_type": "error",
     "traceback": [
      "\u001b[0;31m---------------------------------------------------------------------------\u001b[0m",
      "\u001b[0;31mTypeError\u001b[0m                                 Traceback (most recent call last)",
      "\u001b[0;32m/tmp/ipython-input-5-1439219960.py\u001b[0m in \u001b[0;36m<cell line: 0>\u001b[0;34m()\u001b[0m\n\u001b[1;32m      6\u001b[0m \u001b[0;34m\u001b[0m\u001b[0m\n\u001b[1;32m      7\u001b[0m \u001b[0mb\u001b[0m \u001b[0;34m=\u001b[0m \u001b[0mBasket\u001b[0m\u001b[0;34m(\u001b[0m\u001b[0;34m[\u001b[0m\u001b[0;34m'apple'\u001b[0m\u001b[0;34m,\u001b[0m \u001b[0;34m'banana'\u001b[0m\u001b[0;34m]\u001b[0m\u001b[0;34m)\u001b[0m\u001b[0;34m\u001b[0m\u001b[0;34m\u001b[0m\u001b[0m\n\u001b[0;32m----> 8\u001b[0;31m \u001b[0mprint\u001b[0m\u001b[0;34m(\u001b[0m\u001b[0mlen\u001b[0m\u001b[0;34m(\u001b[0m\u001b[0mb\u001b[0m\u001b[0;34m)\u001b[0m\u001b[0;34m)\u001b[0m   \u001b[0;31m# Output: 2\u001b[0m\u001b[0;34m\u001b[0m\u001b[0;34m\u001b[0m\u001b[0m\n\u001b[0m",
      "\u001b[0;31mTypeError\u001b[0m: object of type 'Basket' has no len()"
     ]
    }
   ],
   "source": [
    "# without __len__()\n",
    "class Basket:\n",
    "    def __init__(self, items):\n",
    "        self.items = items\n",
    "\n",
    "\n",
    "b = Basket(['apple', 'banana'])\n",
    "print(len(b))   # Output: 2\n"
   ]
  },
  {
   "cell_type": "code",
   "execution_count": 6,
   "metadata": {
    "colab": {
     "base_uri": "https://localhost:8080/"
    },
    "executionInfo": {
     "elapsed": 8,
     "status": "ok",
     "timestamp": 1750948419744,
     "user": {
      "displayName": "Decode AI",
      "userId": "00665917665354843584"
     },
     "user_tz": -330
    },
    "id": "AA4KUUv0onIM",
    "outputId": "0e4d382e-89ad-4507-80bb-e17f5a18d210"
   },
   "outputs": [
    {
     "name": "stdout",
     "output_type": "stream",
     "text": [
      "2\n"
     ]
    }
   ],
   "source": [
    "# with __len__()\n",
    "class Basket:\n",
    "    def __init__(self, items):\n",
    "        self.items = items\n",
    "\n",
    "    def __len__(self):\n",
    "        return len(self.items)\n",
    "\n",
    "b = Basket(['apple', 'banana'])\n",
    "print(len(b))   # Output: 2\n"
   ]
  },
  {
   "cell_type": "code",
   "execution_count": null,
   "metadata": {
    "id": "alha6yTDqJax"
   },
   "outputs": [],
   "source": []
  },
  {
   "cell_type": "markdown",
   "metadata": {
    "id": "M50W39W6qTVn"
   },
   "source": [
    "#### Some Common Dunder Methods\n",
    "\n",
    "| Dunder Method              | Purpose                              |\n",
    "| -------------------------- | ------------------------------------ |\n",
    "| `__init__`                 | Object constructor                   |\n",
    "| `__str__`                  | String representation (`print(obj)`) |\n",
    "| `__repr__`                 | Official string for debugging        |\n",
    "| `__len__`                  | Length (`len(obj)`)                  |\n",
    "| `__getitem__`              | Indexing (`obj[0]`)                  |\n",
    "| `__setitem__`              | Assignment to index (`obj[1] = x`)   |\n",
    "| `__eq__`, `__lt__`, etc.   | Comparisons (`==`, `<`, etc.)        |\n",
    "| `__add__`, `__sub__`, etc. | Arithmetic operations                |\n"
   ]
  },
  {
   "cell_type": "markdown",
   "metadata": {
    "id": "mX_vfPp3rEph"
   },
   "source": [
    "**What Does `__add__()` Do?**"
   ]
  },
  {
   "cell_type": "code",
   "execution_count": null,
   "metadata": {
    "id": "J1TzFDfNrNCu"
   },
   "outputs": [],
   "source": [
    "# In Python, when you use the + operator like this: a + b\n",
    "# Python internally tries to call: a.__add__(b)\n",
    "# So, if you define a custom class and implement the __add__() method, you are telling Python how to \"add\" two objects\n",
    "# of your class. This is called operator overloading. -- Runtime Polymorphism\n",
    "# Python has default behavior for the + operator only for built-in types (like integers, strings, lists).\n",
    "# Your class doesn't support + by default. When you implement __add__(), you are providing that logic for your class.\n",
    "# So you’re not overwriting existing behavior, but rather:\n",
    "# 1. Adding support for + in your class\n",
    "# 2. Overriding the default \"unsupported operand\" error"
   ]
  },
  {
   "cell_type": "markdown",
   "metadata": {
    "id": "36SjrXHnuIUG"
   },
   "source": [
    "**Bonus:**\n",
    "\n",
    "`__iter__()` and `__next__()` are magic methods (also called dunder methods), just like `__add__()` and `__str__()`. These two are specifically used to make your object iterable, so it can be used in a for loop or with functions like `next()`.\n",
    "\n",
    "What they Do?\n",
    "\n",
    "| Method       | Purpose                                |\n",
    "| ------------ | -------------------------------------- |\n",
    "| `__iter__()` | Returns the iterator object itself     |\n",
    "| `__next__()` | Returns the next value in the sequence |\n"
   ]
  },
  {
   "cell_type": "code",
   "execution_count": null,
   "metadata": {
    "id": "5MfnN-wcrNF4"
   },
   "outputs": [],
   "source": []
  },
  {
   "cell_type": "code",
   "execution_count": null,
   "metadata": {
    "id": "Zc9B9R67rNI5"
   },
   "outputs": [],
   "source": []
  },
  {
   "cell_type": "code",
   "execution_count": null,
   "metadata": {
    "id": "gJxn9bf8rNMX"
   },
   "outputs": [],
   "source": []
  }
 ],
 "metadata": {
  "colab": {
   "authorship_tag": "ABX9TyPdDA2X3BLzVOja8n7KFQel",
   "collapsed_sections": [
    "x3xHxCkJ5OwG",
    "3ZWv5_s4zWHp",
    "m3AdCcE15YPO"
   ],
   "provenance": []
  },
  "kernelspec": {
   "display_name": "Python 3 (ipykernel)",
   "language": "python",
   "name": "python3"
  },
  "language_info": {
   "codemirror_mode": {
    "name": "ipython",
    "version": 3
   },
   "file_extension": ".py",
   "mimetype": "text/x-python",
   "name": "python",
   "nbconvert_exporter": "python",
   "pygments_lexer": "ipython3",
   "version": "3.13.5"
  }
 },
 "nbformat": 4,
 "nbformat_minor": 4
}
