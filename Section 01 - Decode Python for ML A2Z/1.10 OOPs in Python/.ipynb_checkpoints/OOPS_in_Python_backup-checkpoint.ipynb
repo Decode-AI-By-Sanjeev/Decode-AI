{
 "cells": [
  {
   "cell_type": "markdown",
   "metadata": {},
   "source": [
    "# <center>Mastering Object-Oriented Programming with Python</center>"
   ]
  },
  {
   "cell_type": "markdown",
   "metadata": {},
   "source": [
    "### Table of Content\n",
    "1. Procedural Programming Vs Object-oriented Programming\n",
    "2. Introduction to OOPs in Python\n",
    "3. Writing our First Class In Python\n",
    "4. Hands-On OOPs Concept : Pizza Analogy\n",
    "5. Pillars of OOPs - Overview\n",
    "6. Inheritance in Python\n",
    "7. Encapsulation in Python\n",
    "8. Polymorphism in Python\n",
    "9. Data Abastraction in Python\n",
    "10.Static Concept and Copy Constructor"
   ]
  },
  {
   "cell_type": "code",
   "execution_count": null,
   "metadata": {},
   "outputs": [],
   "source": []
  },
  {
   "cell_type": "code",
   "execution_count": null,
   "metadata": {},
   "outputs": [],
   "source": []
  },
  {
   "cell_type": "markdown",
   "metadata": {
    "id": "wjqUSN2P4o-3"
   },
   "source": [
    "## Lecture 1️⃣: Limitations of Procedural Programming"
   ]
  },
  {
   "cell_type": "markdown",
   "metadata": {},
   "source": [
    "**1. Programming style so far**"
   ]
  },
  {
   "cell_type": "code",
   "execution_count": 1,
   "metadata": {},
   "outputs": [],
   "source": [
    "# 1. So far we have seen Procedural Programming style of coding in python\n",
    "# 2. Procedural programming organizes code using functions and procedures, following a top down approach\n",
    "# 3. Even though Python doesn’t have a separate procedure keyword, any function that does not return a value (i.e., returns None) is procedural in nature.\n"
   ]
  },
  {
   "cell_type": "code",
   "execution_count": 2,
   "metadata": {},
   "outputs": [
    {
     "data": {
      "text/plain": [
       "'\\nProblem: Student Management System\\n\\n1. Add student details\\n2. Display student details\\n'"
      ]
     },
     "execution_count": 2,
     "metadata": {},
     "output_type": "execute_result"
    }
   ],
   "source": [
    "\"\"\"\n",
    "Problem: Student Management System\n",
    "\n",
    "1. Add student details\n",
    "2. Display student details\n",
    "\"\"\""
   ]
  },
  {
   "cell_type": "code",
   "execution_count": 3,
   "metadata": {},
   "outputs": [
    {
     "name": "stdout",
     "output_type": "stream",
     "text": [
      "Name: Alice, Age: 14, Grade: 8th\n",
      "Name: Bob, Age: 15, Grade: 9th\n"
     ]
    }
   ],
   "source": [
    "# Procedural version using global list\n",
    "students = []\n",
    "\n",
    "def add_student(name, age, grade):\n",
    "    students.append({'name': name, 'age': age, 'grade': grade})\n",
    "\n",
    "def display_students():\n",
    "    for s in students:\n",
    "        print(f\"Name: {s['name']}, Age: {s['age']}, Grade: {s['grade']}\")\n",
    "\n",
    "# Usage\n",
    "add_student(\"Alice\", 14, \"8th\")\n",
    "add_student(\"Bob\", 15, \"9th\")\n",
    "display_students()\n"
   ]
  },
  {
   "cell_type": "markdown",
   "metadata": {},
   "source": [
    "**❌ Limitations in Procedural:**\n",
    "\n",
    "- Global variable `students` — risky in large codebases\n",
    "- Data (`dict`) and behavior (`add`, `display`) are separate\n",
    "- No protection — any code can change student data incorrectly\n",
    "- Can't easily create multiple independent student groups"
   ]
  },
  {
   "cell_type": "markdown",
   "metadata": {},
   "source": [
    "**2. Object-Oriented Approach**"
   ]
  },
  {
   "cell_type": "code",
   "execution_count": 5,
   "metadata": {},
   "outputs": [],
   "source": [
    "# - Python supports both Object-oriented programming and Procedural programming approach"
   ]
  },
  {
   "cell_type": "code",
   "execution_count": 6,
   "metadata": {},
   "outputs": [
    {
     "name": "stdout",
     "output_type": "stream",
     "text": [
      "Name: Alice, Age: 14, Grade: 8th\n",
      "Name: Bob, Age: 15, Grade: 9th\n"
     ]
    }
   ],
   "source": [
    "class Student:\n",
    "    def __init__(self, name, age, grade):\n",
    "        self.name = name\n",
    "        self.age = age\n",
    "        self.grade = grade\n",
    "\n",
    "    def display(self):\n",
    "        print(f\"Name: {self.name}, Age: {self.age}, Grade: {self.grade}\")\n",
    "\n",
    "class StudentManager:\n",
    "    def __init__(self):\n",
    "        self.students = []\n",
    "\n",
    "    def add_student(self, name, age, grade):\n",
    "        student = Student(name, age, grade)\n",
    "        self.students.append(student)\n",
    "\n",
    "    def display_all(self):\n",
    "        for student in self.students:\n",
    "            student.display()\n",
    "\n",
    "# Usage\n",
    "manager = StudentManager()\n",
    "manager.add_student(\"Alice\", 14, \"8th\")\n",
    "manager.add_student(\"Bob\", 15, \"9th\")\n",
    "manager.display_all()\n"
   ]
  },
  {
   "cell_type": "markdown",
   "metadata": {},
   "source": [
    "**✅ Benefits of OOP in This Example**\n",
    "\n",
    "| Benefit                         | Explanation                                                                              |\n",
    "| ------------------------------- | ---------------------------------------------------------------------------------------- |\n",
    "| 🔐 **Encapsulation**            | Student data (`name`, `age`, `grade`) is tied with behavior (`display()`) in one object. |\n",
    "| 📦 **Modularity**               | `Student` and `StudentManager` are separate, reusable components.                        |\n",
    "| 🧪 **Testability**              | You can test `Student` and `StudentManager` independently.                               |\n",
    "| 🔄 **Reusability & Extension**  | Can subclass `Student` (e.g., `HighSchoolStudent`) to extend behavior.                   |\n",
    "| 👥 **Multiple Instances**       | Can create multiple independent `StudentManager` objects for different classes/schools.  |\n",
    "| 💡 **Clear Real-world Mapping** | `Student` models a real student naturally, making the code easier to understand.         |\n"
   ]
  },
  {
   "cell_type": "code",
   "execution_count": null,
   "metadata": {},
   "outputs": [],
   "source": [
    "# Let's look at some real world examples\n",
    "\n",
    "# Flipkart - Class(Customer, Merchant, Product, DeliveryBoy, Employee)\n",
    "# Swiggy - class(Customer, Restaurant, FoodItem, DeiveryBoy, Employee)\n",
    "# Ola - class(Rider, Captain, Employee)\n",
    "# Domino's - class(Customer, Outlet, PizzaItem, Employee)"
   ]
  },
  {
   "cell_type": "markdown",
   "metadata": {},
   "source": [
    "**Final Thought**\n",
    "\n",
    "Procedural programming is fine for small scripts\n",
    "\n",
    "but OOP provides structure, safety, and scalability for real-world systems.\n",
    "\n",
    "---"
   ]
  },
  {
   "cell_type": "markdown",
   "metadata": {},
   "source": [
    "## Lecture 2️⃣: Introduction to OOPs in Python"
   ]
  },
  {
   "cell_type": "code",
   "execution_count": null,
   "metadata": {},
   "outputs": [],
   "source": []
  },
  {
   "cell_type": "markdown",
   "metadata": {
    "id": "kHdOdzHkv7Kk"
   },
   "source": [
    "\n",
    "\n",
    "Object-Oriented Programming (OOP) is a way of organizing code by creating **objects** that represent **real-world things**.\n",
    "\n",
    "**Object-Oriented Programming (OOP)** is a programming paradigm that organizes code using **objects** and **classes**.\n",
    "\n",
    "> A **programming paradigm** is a style or approach to solving problems using code.\n",
    "\n",
    "OOP focuses on:\n",
    "- **Data (attributes)**\n",
    "- **Behavior (methods)**\n",
    "\n",
    "This promotes:\n",
    "- ✅ Code reusability\n",
    "- ✅ Modularity\n",
    "- ✅ Easier maintenance\n",
    "\n",
    "OOP models real-world entities as **software objects** that:\n",
    "- Have some **data**\n",
    "- Can perform **operations**\n",
    "\n",
    "---\n",
    "\n",
    "## 🧠 Think in Terms of:\n",
    "\n",
    "- **Objects** → Real-world things  \n",
    "- **Classes** → Blueprints for those things  \n",
    "- **Properties** → Data or attributes  \n",
    "- **Methods** → Actions or behaviors  \n",
    "\n",
    "---\n"
   ]
  },
  {
   "cell_type": "markdown",
   "metadata": {
    "id": "GkpcfdMKKvfS"
   },
   "source": [
    "**How Do You Define a Class in Python?**"
   ]
  },
  {
   "cell_type": "code",
   "execution_count": null,
   "metadata": {
    "id": "mCjl7BUnHBts"
   },
   "outputs": [],
   "source": [
    "# use .__init__() to declare which attributes each instance of the class should have\n",
    "class Employee:\n",
    "    def __init__(self, name, age):\n",
    "        self.name =  name\n",
    "        self.age = age"
   ]
  },
  {
   "cell_type": "markdown",
   "metadata": {
    "id": "FZPAWBOKK6tu"
   },
   "source": [
    "Primitive data structures—like **numbers**, **strings**, and **lists**—are designed to represent **straightforward pieces of information**, such as:\n",
    "\n",
    "- the **cost of an apple** 🍎 (number),\n",
    "- the **name of a poem** 📜 (string),\n",
    "- or your **favorite colors** 🎨 (list).\n",
    "\n",
    "But what if you want to represent something more **complex and real-world**, like:\n",
    "\n",
    "- an **Employee** 👨‍💼,\n",
    "- a **Pizza** 🍕,\n",
    "- or a **Vehicle** 🚗?\n",
    "\n",
    "---\n",
    "\n",
    "## ❌ Using Lists or Dictionaries\n",
    "\n",
    "We can represent such complex items using **lists** or **dictionaries**, like this:\n",
    "\n",
    "\n",
    "- We can represent using different data-types like list, dict etc.\n",
    "```python\n",
    "kirk = [\"James Kirk\", 34, \"Captain\", 2265]\n",
    "spock = [\"Spock\", 35, \"Science Officer\", 2254]\n",
    "mccoy = [\"Leonard McCoy\", \"Chief Medical Officer\", 2266]\n",
    "```\n",
    "---\n",
    "But it has some challenges.\n",
    "1. First, it can make larger code files more difficult to manage.\n",
    "2. It can introduce errors if employees don’t have the same number of elements in their respective lists.\n",
    "\n",
    "---\n",
    "\n",
    "**The best implementation is done using Classes and Objects** because it makes the real world Item representation code more manageable and more maintainable\n",
    "\n",
    "---"
   ]
  },
  {
   "cell_type": "code",
   "execution_count": null,
   "metadata": {},
   "outputs": [],
   "source": []
  },
  {
   "cell_type": "markdown",
   "metadata": {},
   "source": [
    "## Lecture 3️⃣: Writing our First Class In Python"
   ]
  },
  {
   "cell_type": "code",
   "execution_count": null,
   "metadata": {},
   "outputs": [],
   "source": [
    "# Let's Learn Class and Object in terms of Modeling a Computer"
   ]
  },
  {
   "cell_type": "markdown",
   "metadata": {
    "id": "kC2v2-OvXvJp"
   },
   "source": [
    "**💡 Class Definition:**"
   ]
  },
  {
   "cell_type": "code",
   "execution_count": 9,
   "metadata": {
    "id": "p60CAKEvHBxA"
   },
   "outputs": [],
   "source": [
    "# You start all class definitions with the class keyword, then add the name of the class and a colon.\n",
    "# Python will consider any code that you indent below the class definition as part of the class’s body.\n",
    "# Python class names are written in CapitalizedWords notation by convention.\n",
    "class Computer:\n",
    "    pass"
   ]
  },
  {
   "cell_type": "code",
   "execution_count": 10,
   "metadata": {
    "id": "thyGxIVbHB0b"
   },
   "outputs": [],
   "source": [
    "# Add brand, ram, processor for Computer"
   ]
  },
  {
   "cell_type": "code",
   "execution_count": 12,
   "metadata": {
    "id": "rNEQU1rcY-lZ"
   },
   "outputs": [],
   "source": [
    "# You can give .__init__() any number of parameters, but the first parameter will always be a variable called self.\n",
    "class Computer:\n",
    "    def __init__(self, brand, ram, processor):\n",
    "        self.brand = brand\n",
    "        self.ram = ram\n",
    "        self.processor = processor"
   ]
  },
  {
   "cell_type": "markdown",
   "metadata": {},
   "source": [
    "**💡 `__init__()` method**"
   ]
  },
  {
   "cell_type": "markdown",
   "metadata": {
    "id": "M6kicFEWZeRS"
   },
   "source": [
    "Make sure that you indent the`.__init__()` method’s signature by four spaces, and the body of the method by eight spaces. This indentation is vitally important. It tells Python that the `.__init__()` method belongs to the Dog class."
   ]
  },
  {
   "cell_type": "markdown",
   "metadata": {
    "id": "s64ISDXWZv03"
   },
   "source": [
    "\n",
    "Attributes created in `.__init__()` are called instance attributes. An instance attribute’s value is specific to a particular instance of the class. All Dog objects have a name and an age, but the values for the name and age attributes will vary depending on the Dog instance.\n",
    "\n",
    "---"
   ]
  },
  {
   "cell_type": "markdown",
   "metadata": {},
   "source": [
    "**💡 Self Parameter:**\n",
    "\n",
    "The self parameter in Python is a convention that represents the instance of the class.\n",
    "\n",
    "It is the first parameter in instance methods and is automatically passed when calling the method.\n",
    "\n",
    "---"
   ]
  },
  {
   "cell_type": "code",
   "execution_count": 13,
   "metadata": {
    "id": "-AGBd6FEZUQE"
   },
   "outputs": [],
   "source": [
    "# add some class attributes for the Computer class"
   ]
  },
  {
   "cell_type": "code",
   "execution_count": 14,
   "metadata": {
    "id": "JWWO9kk2ZUWO"
   },
   "outputs": [],
   "source": [
    "class Computer:\n",
    "    # Class member variable (shared by all instances)\n",
    "    device_type = \"Laptop\"\n",
    "    \n",
    "    def __init__(self, brand, ram, processor):\n",
    "        self.brand = brand\n",
    "        self.ram = ram\n",
    "        self.processor = processor\n"
   ]
  },
  {
   "cell_type": "markdown",
   "metadata": {
    "id": "qcq_S49haLbO"
   },
   "source": [
    "class attributes are attributes that have the same value for all class instances. You can define a class attribute by assigning a value to a variable name outside of `.__init__()`."
   ]
  },
  {
   "cell_type": "markdown",
   "metadata": {
    "id": "rw9beicDawra"
   },
   "source": [
    "| Feature        | Class Attribute                             | Instance Attribute                      |\n",
    "| -------------- | ------------------------------------------- | --------------------------------------- |\n",
    "| Defined at     | Class level                                 | Inside `__init__()` or instance methods |\n",
    "| Shared by      | All instances of the class                  | Unique to each instance                 |\n",
    "| Accessed using | `ClassName.attribute` or `object.attribute` | `object.attribute`                      |\n",
    "| Best used for  | Common values for all objects               | Values that vary for each object        |\n"
   ]
  },
  {
   "cell_type": "markdown",
   "metadata": {
    "id": "-vrxKAo5bUW3"
   },
   "source": [
    "---\n",
    "**💡How to instantiate a Class in Python?**"
   ]
  },
  {
   "cell_type": "markdown",
   "metadata": {
    "id": "V2d7zpLLbd_Q"
   },
   "source": [
    "Creating a new object from a class is called **instantiating a class**.\n",
    "\n",
    "You can create a new object by typing the name of the class, followed by opening and closing parentheses:"
   ]
  },
  {
   "cell_type": "code",
   "execution_count": 15,
   "metadata": {
    "id": "wFlqIJOPZUZb"
   },
   "outputs": [],
   "source": [
    "class Computer:\n",
    "  pass"
   ]
  },
  {
   "cell_type": "code",
   "execution_count": 16,
   "metadata": {
    "colab": {
     "base_uri": "https://localhost:8080/"
    },
    "id": "LobPur4EZUcz",
    "outputId": "cfa21173-9127-4bca-be16-401f2fc0c127"
   },
   "outputs": [
    {
     "data": {
      "text/plain": [
       "<__main__.Computer at 0x198cfa78980>"
      ]
     },
     "execution_count": 16,
     "metadata": {},
     "output_type": "execute_result"
    }
   ],
   "source": [
    "Computer()"
   ]
  },
  {
   "cell_type": "markdown",
   "metadata": {
    "id": "lwkhEilgb17s"
   },
   "source": [
    "This funny-looking string of letters and numbers is a memory address that indicates where Python stores the Dog object in your computer’s memory."
   ]
  },
  {
   "cell_type": "code",
   "execution_count": 17,
   "metadata": {
    "colab": {
     "base_uri": "https://localhost:8080/"
    },
    "id": "JMIU1mjMbrxR",
    "outputId": "3d2a8d6a-330f-4eeb-8be1-58110885ca8b"
   },
   "outputs": [
    {
     "data": {
      "text/plain": [
       "<__main__.Computer at 0x198cf89dbd0>"
      ]
     },
     "execution_count": 17,
     "metadata": {},
     "output_type": "execute_result"
    }
   ],
   "source": [
    "Computer()"
   ]
  },
  {
   "cell_type": "markdown",
   "metadata": {
    "id": "bsv2_k2Gb8l8"
   },
   "source": [
    "Address is different"
   ]
  },
  {
   "cell_type": "code",
   "execution_count": 18,
   "metadata": {
    "colab": {
     "base_uri": "https://localhost:8080/"
    },
    "id": "OaksRRU9br0K",
    "outputId": "490cb2eb-c2d0-44d9-f7b8-afd985ecc319"
   },
   "outputs": [
    {
     "data": {
      "text/plain": [
       "False"
      ]
     },
     "execution_count": 18,
     "metadata": {},
     "output_type": "execute_result"
    }
   ],
   "source": [
    "# Let's see something interesting\n",
    "a = Computer()\n",
    "b = Computer()\n",
    "a == b"
   ]
  },
  {
   "cell_type": "markdown",
   "metadata": {
    "id": "tVg9LXZAcVEQ"
   },
   "source": [
    "Even though a and b are both instances of the Dog class, they represent two distinct objects in memory."
   ]
  },
  {
   "cell_type": "markdown",
   "metadata": {
    "id": "I0Ht-XNYcZqX"
   },
   "source": [
    "**💡Class and Instance Attributes**"
   ]
  },
  {
   "cell_type": "code",
   "execution_count": 19,
   "metadata": {
    "id": "-x8ZnYbAbr30"
   },
   "outputs": [],
   "source": [
    "class Computer:\n",
    "    # Class member variable (shared by all instances)\n",
    "    device_type = \"Laptop\"\n",
    "    \n",
    "    def __init__(self, brand, ram, processor):\n",
    "        self.brand = brand\n",
    "        self.ram = ram\n",
    "        self.processor = processor\n"
   ]
  },
  {
   "cell_type": "code",
   "execution_count": 20,
   "metadata": {
    "colab": {
     "base_uri": "https://localhost:8080/"
    },
    "id": "2H8TK-7ecNsF",
    "outputId": "d6061fa0-81f8-4d9f-fd64-f2f42094f562"
   },
   "outputs": [
    {
     "ename": "TypeError",
     "evalue": "Computer.__init__() missing 3 required positional arguments: 'brand', 'ram', and 'processor'",
     "output_type": "error",
     "traceback": [
      "\u001b[31m---------------------------------------------------------------------------\u001b[39m",
      "\u001b[31mTypeError\u001b[39m                                 Traceback (most recent call last)",
      "\u001b[36mCell\u001b[39m\u001b[36m \u001b[39m\u001b[32mIn[20]\u001b[39m\u001b[32m, line 2\u001b[39m\n\u001b[32m      1\u001b[39m \u001b[38;5;66;03m# instantiate this Computer class\u001b[39;00m\n\u001b[32m----> \u001b[39m\u001b[32m2\u001b[39m Computer()\n",
      "\u001b[31mTypeError\u001b[39m: Computer.__init__() missing 3 required positional arguments: 'brand', 'ram', and 'processor'"
     ]
    }
   ],
   "source": [
    "# instantiate this Computer class\n",
    "Computer()"
   ]
  },
  {
   "cell_type": "code",
   "execution_count": 21,
   "metadata": {
    "id": "6w-zsZxrcu6_"
   },
   "outputs": [],
   "source": [
    "my_laptop = Computer(\"Dell\", \"8GB\", \"Intel i5\") # Python creates a new instance of Computer and passes it to the first parameter of .__init__()"
   ]
  },
  {
   "cell_type": "code",
   "execution_count": null,
   "metadata": {},
   "outputs": [],
   "source": []
  },
  {
   "cell_type": "markdown",
   "metadata": {
    "id": "dd83K8eqEgVq"
   },
   "source": [
    "**💡Access their instance attributes using dot notation**"
   ]
  },
  {
   "cell_type": "code",
   "execution_count": 22,
   "metadata": {
    "colab": {
     "base_uri": "https://localhost:8080/"
    },
    "id": "_Si4KlBkcu-G",
    "outputId": "18b8870a-fc99-429d-b0be-8404126f80c8"
   },
   "outputs": [
    {
     "name": "stdout",
     "output_type": "stream",
     "text": [
      "Dell\n",
      "8GB\n",
      "Intel i5\n"
     ]
    }
   ],
   "source": [
    "print(my_laptop.brand)\n",
    "print(my_laptop.ram)\n",
    "print(my_laptop.processor)"
   ]
  },
  {
   "cell_type": "code",
   "execution_count": 23,
   "metadata": {
    "colab": {
     "base_uri": "https://localhost:8080/"
    },
    "id": "I-26iW2jcvBk",
    "outputId": "d0abfc33-47d5-47aa-8428-4edf7782b899"
   },
   "outputs": [
    {
     "name": "stdout",
     "output_type": "stream",
     "text": [
      "Laptop\n",
      "Laptop\n"
     ]
    }
   ],
   "source": [
    "# accessing class attributes\n",
    "print(my_laptop.device_type) # using instance of class\n",
    "print(Computer.device_type) # using class name"
   ]
  },
  {
   "cell_type": "markdown",
   "metadata": {
    "id": "gCmZc1C7FKEr"
   },
   "source": [
    "**💡Changing attribute values of an instance and class**"
   ]
  },
  {
   "cell_type": "code",
   "execution_count": 25,
   "metadata": {
    "colab": {
     "base_uri": "https://localhost:8080/"
    },
    "id": "kt30d-recNvJ",
    "outputId": "834ffbae-3dbc-4db3-da8c-2898915d3dff"
   },
   "outputs": [
    {
     "name": "stdout",
     "output_type": "stream",
     "text": [
      "old name is Dell\n",
      "new name is HP\n"
     ]
    }
   ],
   "source": [
    "print(f'old name is {my_laptop.brand}')\n",
    "my_laptop.brand = \"HP\"\n",
    "print(f'new name is {my_laptop.brand}')"
   ]
  },
  {
   "cell_type": "code",
   "execution_count": 26,
   "metadata": {
    "colab": {
     "base_uri": "https://localhost:8080/"
    },
    "id": "dQaliGgZcNyH",
    "outputId": "cd951091-5f2a-4126-c8df-8edcfda763ac"
   },
   "outputs": [
    {
     "name": "stdout",
     "output_type": "stream",
     "text": [
      "old name is - Laptop\n",
      "new name is - Gaming Laptop\n"
     ]
    }
   ],
   "source": [
    "# change the .species attribute of the miles object to \"Felis silvestris\"\n",
    "print(f'old name is - {my_laptop.device_type}')\n",
    "my_laptop.device_type = \"Gaming Laptop\"\n",
    "print(f'new name is - {my_laptop.device_type}')"
   ]
  },
  {
   "cell_type": "code",
   "execution_count": 28,
   "metadata": {},
   "outputs": [
    {
     "name": "stdout",
     "output_type": "stream",
     "text": [
      "Laptop\n",
      "Gaming Laptop\n"
     ]
    }
   ],
   "source": [
    "# No change in Class attribute value\n",
    "print(Computer.device_type)\n",
    "\n",
    "# Class attribute value change in above case is very specific to object\n",
    "print(my_laptop.device_type)"
   ]
  },
  {
   "cell_type": "markdown",
   "metadata": {
    "id": "zI_VYF0AGWRd"
   },
   "source": [
    "The key takeaway here is that custom objects are mutable by default.\n",
    "\n",
    "---"
   ]
  },
  {
   "cell_type": "markdown",
   "metadata": {
    "id": "wllpndi1Gdu_"
   },
   "source": [
    "**💡 Instance Methods**"
   ]
  },
  {
   "cell_type": "markdown",
   "metadata": {
    "id": "KOsD6mqAGq3E"
   },
   "source": [
    "Instance methods are functions that you define inside a class and can only call on an instance of that class. Just like .`__init__()`, an instance method always takes self as its first parameter.\n"
   ]
  },
  {
   "cell_type": "code",
   "execution_count": 29,
   "metadata": {
    "id": "CvuyL02XcN1E"
   },
   "outputs": [],
   "source": [
    "class Computer:\n",
    "    # Class member variable (shared by all instances)\n",
    "    device_type = \"Laptop\"\n",
    "\n",
    "    def __init__(self, brand, ram, processor):\n",
    "        # Instance variables (unique to each object)\n",
    "        self.brand = brand\n",
    "        self.ram = ram\n",
    "        self.processor = processor\n",
    "\n",
    "    def display_info(self):\n",
    "        print(f\"Device Type: {Computer.device_type}\")  # Access class variable\n",
    "        print(f\"Brand: {self.brand}\")\n",
    "        print(f\"RAM: {self.ram}\")\n",
    "        print(f\"Processor: {self.processor}\")\n",
    "        print(\"-------------------------\")"
   ]
  },
  {
   "cell_type": "code",
   "execution_count": 30,
   "metadata": {
    "id": "M7_H4CMJGKnU"
   },
   "outputs": [],
   "source": [
    "# Creating two objects (instances)\n",
    "comp1 = Computer(\"Dell\", \"8GB\", \"Intel i5\")\n",
    "comp2 = Computer(\"HP\", \"16GB\", \"AMD Ryzen 5\")"
   ]
  },
  {
   "cell_type": "code",
   "execution_count": 31,
   "metadata": {
    "colab": {
     "base_uri": "https://localhost:8080/"
    },
    "id": "3eG4iEDxGKq7",
    "outputId": "7225fc2f-dcc5-4f40-b7b4-8df3389e0a3b"
   },
   "outputs": [
    {
     "name": "stdout",
     "output_type": "stream",
     "text": [
      "Device Type: Laptop\n",
      "Brand: Dell\n",
      "RAM: 8GB\n",
      "Processor: Intel i5\n",
      "-------------------------\n",
      "None\n",
      "Device Type: Laptop\n",
      "Brand: HP\n",
      "RAM: 16GB\n",
      "Processor: AMD Ryzen 5\n",
      "-------------------------\n",
      "None\n"
     ]
    }
   ],
   "source": [
    "# Displaying their info\n",
    "print(comp1.display_info())\n",
    "print(comp2.display_info())"
   ]
  },
  {
   "cell_type": "code",
   "execution_count": 32,
   "metadata": {
    "colab": {
     "base_uri": "https://localhost:8080/"
    },
    "id": "RsH8N0WqGK0H",
    "outputId": "7681fb9f-21f3-4527-cd5d-1b47e3bf811f"
   },
   "outputs": [
    {
     "name": "stdout",
     "output_type": "stream",
     "text": [
      "<__main__.Computer object at 0x00000198CFA7A270>\n"
     ]
    }
   ],
   "source": [
    "print(comp1)"
   ]
  },
  {
   "cell_type": "markdown",
   "metadata": {
    "id": "nwoOIH95JJjd"
   },
   "source": [
    "When you print comp1, you get a cryptic-looking message telling you that comp1 is a Computer object at the memory address 0x00000198CFA7A270.\n",
    "\n",
    "You can change what gets printed by defining a special instance method called `.__str__()`."
   ]
  },
  {
   "cell_type": "code",
   "execution_count": 33,
   "metadata": {
    "id": "CS20HlcGGK3-"
   },
   "outputs": [],
   "source": [
    "class Computer:\n",
    "    # Class member variable (shared by all instances)\n",
    "    device_type = \"Laptop\"\n",
    "\n",
    "    def __init__(self, brand, ram, processor):\n",
    "        # Instance variables (unique to each object)\n",
    "        self.brand = brand\n",
    "        self.ram = ram\n",
    "        self.processor = processor\n",
    "\n",
    "    def __str__(self):\n",
    "        return f\"Your {self.device_type} specifications : Brand: {self.brand}, Ram: {self.ram}, Processor: {self.processor}\"\n",
    "\n",
    "    def display_info(self):\n",
    "        print(f\"Device Type: {Computer.device_type}\")  # Access class variable\n",
    "        print(f\"Brand: {self.brand}\")\n",
    "        print(f\"RAM: {self.ram}\")\n",
    "        print(f\"Processor: {self.processor}\")\n",
    "        print(\"-------------------------\")\n",
    "        "
   ]
  },
  {
   "cell_type": "code",
   "execution_count": 34,
   "metadata": {
    "colab": {
     "base_uri": "https://localhost:8080/"
    },
    "id": "6A_EU6FqJVJ6",
    "outputId": "08c56d60-98c1-40d7-a3ad-ae582d0bf0a7"
   },
   "outputs": [
    {
     "name": "stdout",
     "output_type": "stream",
     "text": [
      "Your Laptop specifications : Brand: Dell, Ram: 8GB, Processor: Intel i5\n"
     ]
    }
   ],
   "source": [
    "comp1 = Computer(\"Dell\", \"8GB\", \"Intel i5\")\n",
    "print(comp1)"
   ]
  },
  {
   "cell_type": "markdown",
   "metadata": {
    "id": "FVqHv2fVJnyF"
   },
   "source": [
    "Methods like `.__init__()` and `.__str__()` are called dunder methods because they begin and end with double underscores. There are many dunder methods that you can use to customize classes in Python."
   ]
  },
  {
   "cell_type": "markdown",
   "metadata": {},
   "source": [
    "**💡Object as Parameter**\n",
    "\n",
    "In Python, you can pass objects as parameters to functions or methods, allowing you to manipulate or interact with those objects within the function.\n",
    "\n",
    "When an object is passed as a parameter, the function receives a reference to the object, allowing it to access and modify the object's attributes.\n",
    "\n",
    "When you pass an object as a parameter, you're passing a reference to the object, so any changes made to the object's properties within the method will affect the original object outside the method as well.\n",
    "\n",
    "This is because the reference points to the same memory location where the object's data is stored."
   ]
  },
  {
   "cell_type": "code",
   "execution_count": 92,
   "metadata": {},
   "outputs": [
    {
     "name": "stdout",
     "output_type": "stream",
     "text": [
      "Name: Sanjeev\n",
      "Grade: A+\n"
     ]
    }
   ],
   "source": [
    "class Student:\n",
    "    def __init__(self, name, grade):\n",
    "        self.name = name\n",
    "        self.grade = grade\n",
    "\n",
    "    def display(self):\n",
    "        print(f\"Name: {self.name}\")\n",
    "        print(f\"Grade: {self.grade}\")\n",
    "\n",
    "# Function that accepts a Student object\n",
    "def print_student_details(student_obj):\n",
    "    student_obj.display()  # Accessing method of the passed object\n",
    "\n",
    "# Create a Student object\n",
    "s1 = Student(\"Sanjeev\", \"A+\")\n",
    "\n",
    "# Pass the object to the function\n",
    "print_student_details(s1)\n"
   ]
  },
  {
   "cell_type": "code",
   "execution_count": 93,
   "metadata": {},
   "outputs": [
    {
     "name": "stdout",
     "output_type": "stream",
     "text": [
      "Sanjeev's grade upgraded!\n",
      "Name: Sanjeev\n",
      "Grade: B+\n"
     ]
    }
   ],
   "source": [
    "def upgrade_grade(student_obj):\n",
    "    student_obj.grade = \"B+\"\n",
    "    print(f\"{student_obj.name}'s grade upgraded!\")\n",
    "\n",
    "upgrade_grade(s1)\n",
    "s1.display()"
   ]
  },
  {
   "cell_type": "markdown",
   "metadata": {
    "id": "e9w_fmngO_3E"
   },
   "source": [
    "## Lecture 4️⃣: Hands-On OOPs Concept : Pizza Analogy"
   ]
  },
  {
   "cell_type": "markdown",
   "metadata": {
    "id": "oPwKWff2xWCY"
   },
   "source": [
    "\n",
    "We’ll learn the key concepts of OOP with the example of a **Pizza**.\n",
    "\n",
    "---\n",
    "\n",
    "#### Class → Blueprint\n",
    "\n",
    "Think of a **Pizza Recipe** as a class. It’s just the **instructions**, not a real pizza.\n",
    "\n",
    "It’s a **blueprint** that tells you how to make a pizza — what ingredients to use and how to cook it.\n",
    "\n",
    "```python\n",
    "class Pizza:\n",
    "    def __init__(self, size, toppings):\n",
    "        self.size = size\n",
    "        self.toppings = toppings\n",
    "\n",
    "    def bake(self):\n",
    "        print(f\"Baking a {self.size} pizza with {', '.join(self.toppings)}.\")\n",
    "\n",
    "    def serve(self):\n",
    "        print(\"Pizza is ready to serve!\")\n",
    "\n",
    "```\n",
    "---\n",
    "#### Object → Actual Pizza\n",
    "\n",
    "Now when you follow the recipe and actually make a pizza, that’s an object.\n",
    "\n",
    "```python\n",
    "my_pizza = Pizza(\"Medium\", [\"Cheese\", \"Olives\"])\n",
    "\n",
    "```\n",
    "---\n",
    "#### Attributes → Pizza Details\n",
    "\n",
    "These are like the **ingredients or properties** of the pizza:\n",
    "\n",
    "- Size (Small, Medium, Large)\n",
    "- Toppings (Cheese, Veggies, Paneer, etc.)\n",
    "\n",
    "```python\n",
    "my_pizza.size        # \"Medium\"\n",
    "my_pizza.toppings    # [\"Cheese\", \"Olives\"]\n",
    "\n",
    "```\n",
    "---\n",
    "#### Methods → Actions on Pizza\n",
    "These are the **things you can do** with a pizza:\n",
    "- bake()\n",
    "- slice()\n",
    "- serve()\n",
    "\n",
    "They are written as functions inside the class:\n",
    "\n",
    "```python\n",
    "def bake(self):\n",
    "    print(f\"Baking a {self.size} pizza with {', '.join(self.toppings)}.\")\n",
    "\n",
    "def serve(self):\n",
    "    print(\"Pizza is ready to serve!\")\n",
    "```\n",
    "---\n",
    "#### Constructor __init__() → Making the Pizza\n",
    "\n",
    "When you call the recipe with your own size and toppings, Python uses the **__init__()** method to create a fresh pizza object.\n",
    "\n",
    "```python\n",
    "def __init__(self, size, toppings):\n",
    "    self.size = size\n",
    "    self.toppings = toppings\n",
    "```\n",
    "---\n",
    "#### self → The current pizza you're working on\n",
    "\n",
    "Inside the class, self refers to the pizza being made.\n",
    "It helps keep track of which object you’re working with.\n",
    "\n",
    "---\n",
    "#### Summary\n",
    "\n",
    "<div align=\"center\">\n",
    "\n",
    "| OOP Concept     | Pizza Example                         | Python Code                       |\n",
    "|------------------|----------------------------------------|------------------------------------|\n",
    "| Class            | Pizza Recipe                          | `class Pizza:`                     |\n",
    "| Object           | Real Pizza made from recipe           | `my_pizza = Pizza(...)`            |\n",
    "| Attributes       | Size, Toppings                        | `self.size`, `self.toppings`       |\n",
    "| Methods          | Bake, Slice, Serve                    | `def bake(self): ...`              |\n",
    "| Constructor      | Making the pizza                      | `def __init__(self): ...`          |\n",
    "| `self`           | The pizza being made or used          | `self.size`, `self.bake()`         |\n",
    "\n",
    "</div>\n",
    "\n",
    "---"
   ]
  },
  {
   "cell_type": "markdown",
   "metadata": {
    "id": "0P-TT0JY0VAJ"
   },
   "source": [
    "#### Class → Blueprint\n",
    "\n",
    "Think of a **Pizza Recipe** as a class. It’s just the **instructions**, not a real pizza.\n",
    "\n",
    "```python\n",
    "class Pizza:\n",
    "    def __init__(self, size, toppings):\n",
    "        self.size = size\n",
    "        self.toppings = toppings\n",
    "\n",
    "    def bake(self):\n",
    "        print(f\"Baking a {self.size} pizza with {', '.join(self.toppings)}.\")\n",
    "\n",
    "    def serve(self):\n",
    "        print(\"Pizza is ready to serve!\")\n",
    "```"
   ]
  },
  {
   "cell_type": "code",
   "execution_count": 51,
   "metadata": {
    "id": "zN3Llljnl2s8"
   },
   "outputs": [],
   "source": [
    "\"\"\"\n",
    "Problem 1: Create a Pizza class with below details\n",
    "\n",
    "Member Attributes:\n",
    "1. Size\n",
    "2. Toppings\n",
    "\n",
    "Member Functions:\n",
    "1. bake()\n",
    "2. Serve()\n",
    "\n",
    "\"\"\"\n",
    "\n",
    "class Pizza:\n",
    "    def __init__(self, size, toppings):\n",
    "        self.size = size\n",
    "        self.toppings = toppings\n",
    "\n",
    "    def __str__(self):\n",
    "        return f\"{self.size} Size Pizza with Toppings {\",\".join(self.toppings)}\"\n",
    "        \n",
    "    def bake(self):\n",
    "        print(f\"Baking a {self.size} pizza with {', '.join(self.toppings)}.\")\n",
    "\n",
    "    def serve(self):\n",
    "        print(\"Pizza is ready to serve!\")\n"
   ]
  },
  {
   "cell_type": "code",
   "execution_count": 40,
   "metadata": {
    "colab": {
     "base_uri": "https://localhost:8080/"
    },
    "id": "MA6K38qJ6W9a",
    "outputId": "1937e1e2-748a-487c-c55a-8651fc12ab37"
   },
   "outputs": [
    {
     "name": "stdout",
     "output_type": "stream",
     "text": [
      "Baking a Large pizza with Cheese, Paneer, Capsicum.\n",
      "Pizza is ready to serve!\n",
      "Baking a Small pizza with Mushroom, Olives.\n",
      "Pizza is ready to serve!\n"
     ]
    }
   ],
   "source": [
    "\"\"\"\n",
    "Problem 2: You have a pizza shop. You have received 2 pizza orders You have to prepare it based on customer demand\n",
    "\n",
    "Customer 1 (Ramesh):\n",
    "- Large Pizza\n",
    "- Toppings : Cheese, Panner, Capsicum\n",
    "\n",
    "Customer 2 (Mahesh):\n",
    "- Small Pizza\n",
    "- Toppings : Mushrrom, Olives\n",
    "\n",
    "\"\"\"\n",
    "# Creating pizza objects\n",
    "pizza_for_ramesh = Pizza(\"Large\", [\"Cheese\", \"Paneer\", \"Capsicum\"])\n",
    "pizza_for_ramesh.bake()\n",
    "pizza_for_ramesh.serve()\n",
    "\n",
    "\n",
    "pizza_for_mahesh = Pizza(\"Small\", [\"Mushroom\", \"Olives\"])\n",
    "pizza_for_mahesh.bake()\n",
    "pizza_for_mahesh.serve()\n"
   ]
  },
  {
   "cell_type": "code",
   "execution_count": 41,
   "metadata": {
    "colab": {
     "base_uri": "https://localhost:8080/"
    },
    "id": "XQXhOXuA6XAk",
    "outputId": "5ef5e5e2-1aa4-4b6e-9974-584d7561db36"
   },
   "outputs": [
    {
     "name": "stdout",
     "output_type": "stream",
     "text": [
      "Baking a Large pizza with Cheese, Paneer, Capsicum.\n",
      "Pizza is ready to serve!\n",
      "Baking a Large pizza with Cheese, Paneer, Capsicum.\n",
      "Pizza is ready to serve!\n",
      "Baking a Large pizza with Cheese, Paneer, Capsicum.\n",
      "Pizza is ready to serve!\n",
      "Baking a Large pizza with Cheese, Paneer, Capsicum.\n",
      "Pizza is ready to serve!\n",
      "Baking a Medium pizza with Mushroom, Olives.\n",
      "Pizza is ready to serve!\n",
      "Baking a Small pizza with Cheese, Paneer, Capsicum.\n",
      "Pizza is ready to serve!\n",
      "Baking a Small pizza with Cheese, Paneer, Capsicum.\n",
      "Pizza is ready to serve!\n",
      "Baking a Small pizza with Mushroom, Olives.\n",
      "Pizza is ready to serve!\n",
      "Baking a Small pizza with Mushroom, Olives.\n",
      "Pizza is ready to serve!\n",
      "Baking a Small pizza with Mushroom, Olives.\n",
      "Pizza is ready to serve!\n"
     ]
    }
   ],
   "source": [
    "\"\"\"\n",
    "Problem 3: You have a pizza shop. You have received 20 pizza party orders You have to prepare it based on customer demand\n",
    "\n",
    "request_pizza =\n",
    "[\n",
    "    [4,\"Large\", [\"Cheese\", \"Paneer\", \"Capsicum\"]],\n",
    "    [1,\"Medium\", [\"Mushroom\", \"Olives\"]],\n",
    "    [2,\"Small\", [\"Cheese\", \"Paneer\", \"Capsicum\"]],\n",
    "    [3,\"Small\", [\"Mushroom\", \"Olives\"]],\n",
    "]\n",
    "\n",
    "\"\"\"\n",
    "requests_pizza_by_ramesh = [\n",
    "    [4,\"Large\", [\"Cheese\", \"Paneer\", \"Capsicum\"]],\n",
    "    [1,\"Medium\", [\"Mushroom\", \"Olives\"]],\n",
    "    [2,\"Small\", [\"Cheese\", \"Paneer\", \"Capsicum\"]],\n",
    "    [3,\"Small\", [\"Mushroom\", \"Olives\"]],\n",
    "]\n",
    "\n",
    "pizza_of_ramesh = []\n",
    "\n",
    "for req in requests_pizza_by_ramesh:\n",
    "  for idx in range(req[0]):\n",
    "    pizza_obj = Pizza(req[1], req[2])\n",
    "    pizza_obj.bake()\n",
    "    pizza_obj.serve()\n",
    "    pizza_of_ramesh.append(pizza_obj)\n"
   ]
  },
  {
   "cell_type": "code",
   "execution_count": 54,
   "metadata": {
    "colab": {
     "base_uri": "https://localhost:8080/"
    },
    "id": "RCGvT-J06XEK",
    "outputId": "8bca897d-046e-4709-c5fb-949db546e501"
   },
   "outputs": [
    {
     "name": "stdout",
     "output_type": "stream",
     "text": [
      "Large Size Pizza with Toppings Cheese,Paneer,Capsicum\n",
      "Large Size Pizza with Toppings Cheese,Paneer,Capsicum\n",
      "Large Size Pizza with Toppings Cheese,Paneer,Capsicum\n",
      "Large Size Pizza with Toppings Cheese,Paneer,Capsicum\n",
      "Medium Size Pizza with Toppings Mushroom,Olives\n",
      "Small Size Pizza with Toppings Cheese,Paneer,Capsicum\n",
      "Small Size Pizza with Toppings Cheese,Paneer,Capsicum\n",
      "Small Size Pizza with Toppings Mushroom,Olives\n",
      "Small Size Pizza with Toppings Mushroom,Olives\n",
      "Small Size Pizza with Toppings Mushroom,Olives\n"
     ]
    }
   ],
   "source": [
    "for item in pizza_of_ramesh:\n",
    "    print(item)"
   ]
  },
  {
   "cell_type": "markdown",
   "metadata": {
    "id": "QPCKi0v0P-7i"
   },
   "source": [
    "## Lecture 5️⃣ : Pillars of OOPs - Overview"
   ]
  },
  {
   "cell_type": "markdown",
   "metadata": {
    "id": "t-8d3sdnQrOq"
   },
   "source": [
    "Object-Oriented Programming (OOP) is built on four main principles called the **4 pillars**. These help us write clean, organized, and reusable code.\n",
    "\n",
    "---"
   ]
  },
  {
   "cell_type": "markdown",
   "metadata": {
    "id": "dYtQPU--RYye"
   },
   "source": [
    "---\n",
    "### 1. Inheritance\n",
    "\n",
    "Inheritance means a class (child) can inherit properties and methods from another class (parent), reducing code repetition.\n",
    "\n",
    "\n",
    "\n",
    "#### Example:"
   ]
  },
  {
   "cell_type": "code",
   "execution_count": 57,
   "metadata": {
    "id": "YWAb5Kn5Si47"
   },
   "outputs": [],
   "source": [
    "# Single Inheritance Example\n",
    "# Base class\n",
    "class Animal:\n",
    "    def __init__(self, name):\n",
    "        self.name = name\n",
    "\n",
    "    def speak(self):\n",
    "        print(f\"{self.name} makes a sound\")\n",
    "\n",
    "# Derived class inheriting from Animal\n",
    "class Dog(Animal):\n",
    "    def speak(self):\n",
    "        print(f\"The {self.name} barks !\")\n"
   ]
  },
  {
   "cell_type": "code",
   "execution_count": 58,
   "metadata": {
    "colab": {
     "base_uri": "https://localhost:8080/"
    },
    "id": "qUMwf1VLSi-g",
    "outputId": "011e5319-3989-4b6a-d31d-298991ede26d"
   },
   "outputs": [
    {
     "name": "stdout",
     "output_type": "stream",
     "text": [
      "The Buddy barks !\n"
     ]
    }
   ],
   "source": [
    "# Creating an instance of the derived class\n",
    "dog_instance = Dog(\"Buddy\")\n",
    "\n",
    "# Calling methods from the base and derived classes\n",
    "dog_instance.speak()  # This will call the overridden method in Dog class"
   ]
  },
  {
   "cell_type": "markdown",
   "metadata": {
    "id": "xlctLL7NRwk1"
   },
   "source": [
    " Dog reuses code from Animal — this is inheritance.\n",
    "\n",
    " We will look inheritance in details in the next section\n",
    "\n",
    " ---"
   ]
  },
  {
   "cell_type": "markdown",
   "metadata": {
    "id": "OR9cVX7mQv8l"
   },
   "source": [
    "### 2. Encapsulation\n",
    "\n",
    "Encapsulation is the **bundling** of **data (attributes)** and **methods (functions)** within a class, **restricting access** to some components to control interactions.\n",
    "\n",
    "A class is an example of encapsulation as it encapsulates all the data that is member functions, variables, etc.\n",
    "\n",
    "It allows hiding internal data and only allowing access through controlled methods.\n",
    "\n",
    "#### Example:"
   ]
  },
  {
   "cell_type": "code",
   "execution_count": 60,
   "metadata": {
    "id": "nqRayP5Qjgan"
   },
   "outputs": [],
   "source": [
    "class BankAccount:\n",
    "    def __init__(self, owner, balance=0):\n",
    "        self.owner = owner\n",
    "        self.__balance = balance  # 👈 Private variable (encapsulated)\n",
    "\n",
    "    def deposit(self, amount):\n",
    "        if amount > 0:\n",
    "            self.__balance += amount\n",
    "            print(f\"Deposited ₹{amount}\")\n",
    "        else:\n",
    "            print(\"Invalid deposit amount.\")\n",
    "\n",
    "    def withdraw(self, amount):\n",
    "        if 0 < amount <= self.__balance:\n",
    "            self.__balance -= amount\n",
    "            print(f\"Withdrew ₹{amount}\")\n",
    "        else:\n",
    "            print(\"Insufficient balance or invalid amount.\")\n",
    "\n",
    "    def get_balance(self):\n",
    "        return self.__balance  # 👈 Controlled access\n"
   ]
  },
  {
   "cell_type": "code",
   "execution_count": 61,
   "metadata": {
    "id": "mikyj0aalbL_"
   },
   "outputs": [
    {
     "name": "stdout",
     "output_type": "stream",
     "text": [
      "Deposited ₹500\n",
      "Withdrew ₹200\n",
      "Current Balance: 1300\n"
     ]
    }
   ],
   "source": [
    "# Usage\n",
    "account = BankAccount(\"Sanjeev\", 1000)\n",
    "account.deposit(500)\n",
    "account.withdraw(200)\n",
    "\n",
    "print(\"Current Balance:\", account.get_balance())\n"
   ]
  },
  {
   "cell_type": "code",
   "execution_count": 62,
   "metadata": {},
   "outputs": [],
   "source": [
    "# Trying to access private variable directly (not allowed)\n",
    "# print(account.__balance)  ❌ This will cause an error"
   ]
  },
  {
   "cell_type": "markdown",
   "metadata": {
    "id": "pHAVvMRCRmWC"
   },
   "source": [
    "### 3. Polymorphism\n",
    "\n",
    "Polymorphism means the same method name behaves differently based on the object/class using it.\n",
    "\n",
    "#### Example:"
   ]
  },
  {
   "cell_type": "code",
   "execution_count": 67,
   "metadata": {
    "id": "-evSckELSEK0"
   },
   "outputs": [],
   "source": [
    "# Base class\n",
    "class Animal:\n",
    "    def __init__(self, name):\n",
    "        self.name = name\n",
    "\n",
    "    def speak(self):\n",
    "        print(f\"{self.name} makes a sound\")\n",
    "\n",
    "# Derived class inheriting from Animal\n",
    "class Dog(Animal):\n",
    "    def speak(self):\n",
    "        print(f\"The {self.name} barks !\")\n"
   ]
  },
  {
   "cell_type": "code",
   "execution_count": 70,
   "metadata": {
    "colab": {
     "base_uri": "https://localhost:8080/"
    },
    "id": "QULljbuYSMTE",
    "outputId": "d2a28329-7668-4ac3-cf6b-c4d7b9d09196"
   },
   "outputs": [
    {
     "name": "stdout",
     "output_type": "stream",
     "text": [
      "The Lokey barks !\n",
      "Buddy makes a sound\n"
     ]
    }
   ],
   "source": [
    "lokey = Dog(\"Lokey\")\n",
    "buddy = Animal(\"Buddy\")\n",
    "\n",
    "lokey.speak()\n",
    "buddy.speak()\n"
   ]
  },
  {
   "cell_type": "markdown",
   "metadata": {
    "id": "PlWHJ5PeSS94"
   },
   "source": [
    "The speak() method behaves differently depending on the object — this is polymorphism."
   ]
  },
  {
   "cell_type": "markdown",
   "metadata": {
    "id": "5G1E0OMwRmZk"
   },
   "source": [
    "### 4. Data Abastraction\n",
    "\n",
    "Abstraction means hiding complex internal details and showing only essential features.\n",
    "\n",
    "It helps focus on \"what to do\" rather than \"how to do it.\"\n",
    "\n",
    "In Python, abstraction is often done using abstract base classes (abc module).\n",
    "\n",
    "\n",
    "\n",
    "#### Example:"
   ]
  },
  {
   "cell_type": "code",
   "execution_count": 63,
   "metadata": {
    "colab": {
     "base_uri": "https://localhost:8080/"
    },
    "id": "pnxGR49xREj-",
    "outputId": "534ecee4-47f5-4bdb-9efb-114d3ef937fe"
   },
   "outputs": [],
   "source": [
    "from abc import ABC, abstractmethod\n",
    "\n",
    "class Vehicle(ABC):\n",
    "    @abstractmethod\n",
    "    def start_engine(self):\n",
    "        pass\n",
    "\n",
    "class Car(Vehicle):\n",
    "    def start_engine(self):\n",
    "        print(\"Engine started\")\n"
   ]
  },
  {
   "cell_type": "code",
   "execution_count": 64,
   "metadata": {},
   "outputs": [],
   "source": [
    "# v = Vehicle() ❌ Cannot create object of abstract class"
   ]
  },
  {
   "cell_type": "code",
   "execution_count": 65,
   "metadata": {},
   "outputs": [
    {
     "name": "stdout",
     "output_type": "stream",
     "text": [
      "Engine started\n"
     ]
    }
   ],
   "source": [
    "c = Car()\n",
    "c.start_engine()  # Engine started"
   ]
  },
  {
   "cell_type": "markdown",
   "metadata": {
    "id": "JJxsZkWrSoIC"
   },
   "source": [
    "Only the necessary function start_engine() is exposed — this is abstraction.\n",
    "\n",
    "---"
   ]
  },
  {
   "cell_type": "markdown",
   "metadata": {
    "id": "jn_oQLFXQc9x"
   },
   "source": [
    "**Summary**\n",
    "<div align=\"center\">\n",
    "\n",
    "| Pillar        | Meaning                             | Benefit                               |\n",
    "| ------------- | ----------------------------------- | ------------------------------------- |\n",
    "| Inheritance   | Reuse code from parent class        | DRY principle (Don't Repeat Yourself) |\n",
    "| Encapsulation | Hide data inside a class            | Data protection and control           |\n",
    "| Polymorphism  | One method, different behavior      | Flexibility                           |\n",
    "| Abstraction   | Hide complex logic, show essentials | Simplified interface                  |\n",
    "\n",
    "</div>\n",
    "\n",
    "---"
   ]
  },
  {
   "cell_type": "markdown",
   "metadata": {
    "id": "oYBSDw4ASsZZ"
   },
   "source": [
    "# **Lecture 6️⃣ : Inheritance in Python**"
   ]
  },
  {
   "cell_type": "markdown",
   "metadata": {
    "id": "dYtQPU--RYye"
   },
   "source": [
    "\n",
    "Inheritance means a class (child) can inherit properties and methods from another class (parent), reducing code repetition.\n",
    "\n",
    "Inheritance analaogy to a human being (attributes, behaviours).\n",
    "\n",
    "#### Example:"
   ]
  },
  {
   "cell_type": "code",
   "execution_count": 78,
   "metadata": {
    "id": "YWAb5Kn5Si47"
   },
   "outputs": [],
   "source": [
    "# Simple Inheritance Example\n",
    "# Base class\n",
    "class Animal:\n",
    "    def __init__(self, name):\n",
    "        self.name = name\n",
    "\n",
    "    def speak(self):\n",
    "        print(f\"{self.name} makes a sound\")\n",
    "\n",
    "# Derived class inheriting from Animal\n",
    "class Dog(Animal):\n",
    "    def speak(self):\n",
    "        print(f\"The {self.name} barks !\")\n"
   ]
  },
  {
   "cell_type": "code",
   "execution_count": 79,
   "metadata": {
    "colab": {
     "base_uri": "https://localhost:8080/"
    },
    "id": "qUMwf1VLSi-g",
    "outputId": "011e5319-3989-4b6a-d31d-298991ede26d"
   },
   "outputs": [
    {
     "name": "stdout",
     "output_type": "stream",
     "text": [
      "The Buddy barks !\n"
     ]
    }
   ],
   "source": [
    "# Creating an instance of the derived class\n",
    "dog_instance = Dog(\"Buddy\")\n",
    "\n",
    "# Calling methods from the base and derived classes\n",
    "dog_instance.speak()  # This will call the overridden method in Dog class"
   ]
  },
  {
   "attachments": {},
   "cell_type": "markdown",
   "metadata": {
    "id": "OwvQOGOtfPqW"
   },
   "source": [
    " Dog reuses code from Animal — this is inheritance.\n",
    "\n",
    "\n",
    " ---\n",
    "\n",
    "The **visibility of inherited members (attributes and methods)** in Python depends on their access modifiers.\n",
    "\n",
    "In Python, access modifiers are used to control the visibility and accessibility of attributes and methods within a class.\n",
    "\n",
    "Python does not have explicit keywords like \"public,\" \"private,\" or \"protected\".\n",
    "\n",
    "Instead, It relies on naming conventions to indicate the intended visibility\n",
    "\n",
    "---\n",
    "\n",
    "1. Public (default): Members are accessible from anywhere, both within the class and outside the class.\n",
    "\n",
    "2. Protected (_single): Members are accessible within the class, within derived classes, and within the same module. However, they are considered conventionally private, and their use outside the class or module is discouraged.\n",
    "\n",
    "3. Private (__double): Members are accessible only within the class. They are not accessible in derived classes or outside the class.\n",
    "\n",
    "| Member Visibility| Public (default) | Protected (_single)              | Private (__double)  |\n",
    "|------------------|------------------|----------------------------------|---------------------|\n",
    "| In Base Class    | Accessible       | Accessible                       | Accessible          |\n",
    "| In Derived Class | Accessible       | Accessible within subclass/module| Not Accessible      |\n",
    "\n",
    "> **Python does not enforce strict access control. It relies on conventions and developer discipline.**"
   ]
  },
  {
   "cell_type": "markdown",
   "metadata": {
    "id": "pwT8_Bg2gIGE"
   },
   "source": [
    "---\n",
    "\n",
    "Python supports five types of inheritance:\n",
    "1. Single inheritance\n",
    "2. Hierarchical inheritance\n",
    "3. Multilevel inheritance\n",
    "4. Multiple inheritance\n",
    "5. Hybrid inheritance"
   ]
  },
  {
   "cell_type": "markdown",
   "metadata": {
    "id": "tIy8lwBJgVxs"
   },
   "source": [
    "---\n",
    "**Single Inheritance Explained with examples**\n",
    "\n",
    "Single inheritance is a type of inheritance in object-oriented programming where a class inherits from only one base class."
   ]
  },
  {
   "cell_type": "code",
   "execution_count": null,
   "metadata": {
    "id": "YWAb5Kn5Si47"
   },
   "outputs": [],
   "source": [
    "# Single Inheritance Example\n",
    "# Base class\n",
    "class Animal:\n",
    "    def __init__(self, name):\n",
    "        self.name = name\n",
    "\n",
    "    def speak(self):\n",
    "        print(f\"{self.name} makes a sound\")\n",
    "\n",
    "# Derived class inheriting from Animal\n",
    "class Dog(Animal):\n",
    "    def speak(self):\n",
    "        print(f\"{self.name} says Woof!\")\n"
   ]
  },
  {
   "cell_type": "code",
   "execution_count": null,
   "metadata": {
    "colab": {
     "base_uri": "https://localhost:8080/"
    },
    "id": "qUMwf1VLSi-g",
    "outputId": "011e5319-3989-4b6a-d31d-298991ede26d"
   },
   "outputs": [
    {
     "name": "stdout",
     "output_type": "stream",
     "text": [
      "Buddy says Woof!\n"
     ]
    }
   ],
   "source": [
    "# Creating an instance of the derived class\n",
    "dog_instance = Dog(\"Buddy\")\n",
    "\n",
    "# Calling methods from the base and derived classes\n",
    "dog_instance.speak()  # This will call the overridden method in Dog class"
   ]
  },
  {
   "cell_type": "markdown",
   "metadata": {
    "id": "H0x5FZ2hgvAh"
   },
   "source": [
    "**Multilevel Inheritance Explained with Examples**\n",
    "\n",
    "Multilevel inheritance in Python involves creating a chain of classes where each class extends the previous one.\n",
    "\n",
    "In other words, a derived class serves as the base class for another class."
   ]
  },
  {
   "cell_type": "code",
   "execution_count": null,
   "metadata": {
    "id": "YG_OBe2hSjD3"
   },
   "outputs": [],
   "source": [
    "# Multilevel Inheritance Examples\n",
    "class Animal:\n",
    "    def __init__(self, name):\n",
    "        self.name = name\n",
    "\n",
    "    def speak(self):\n",
    "        print(f\"{self.name} makes a sound.\")\n",
    "\n",
    "class Dog(Animal):\n",
    "    def bark(self):\n",
    "        print(f\"{self.name} barks.\")\n",
    "\n",
    "class Labrador(Dog):\n",
    "    def swim(self):\n",
    "        print(f\"{self.name} can swim.\")\n"
   ]
  },
  {
   "cell_type": "code",
   "execution_count": null,
   "metadata": {
    "colab": {
     "base_uri": "https://localhost:8080/"
    },
    "id": "zxzEVmG0SjIO",
    "outputId": "999049e9-c85b-4ee8-de65-7d6befabb7a9"
   },
   "outputs": [
    {
     "name": "stdout",
     "output_type": "stream",
     "text": [
      "Generic Animal makes a sound.\n",
      "Buddy makes a sound.\n",
      "Buddy barks.\n",
      "Max makes a sound.\n",
      "Max barks.\n",
      "Max can swim.\n"
     ]
    }
   ],
   "source": [
    "# Creating instances of the classes\n",
    "animal = Animal(\"Generic Animal\")\n",
    "dog = Dog(\"Buddy\")\n",
    "labrador = Labrador(\"Max\")\n",
    "\n",
    "# Calling methods\n",
    "animal.speak()      # Output: Generic Animal makes a sound.\n",
    "dog.speak()         # Output: Buddy makes a sound.\n",
    "dog.bark()          # Output: Buddy barks.\n",
    "labrador.speak()    # Output: Max makes a sound.\n",
    "labrador.bark()     # Output: Max barks.\n",
    "labrador.swim()     # Output: Max can swim."
   ]
  },
  {
   "cell_type": "markdown",
   "metadata": {
    "id": "Bj_sWoiVhE5Q"
   },
   "source": [
    "---\n",
    "**Hierarchical inheritance**\n",
    "\n",
    "In hierarchical inheritance, a single base class (parent class) is inherited by multiple derived classes (child classes).\n",
    "\n",
    "Each derived class shares common attributes and methods from the base class but may have its own additional attributes and methods."
   ]
  },
  {
   "cell_type": "code",
   "execution_count": null,
   "metadata": {
    "id": "PP2fAshiSjc8"
   },
   "outputs": [],
   "source": [
    "# Hierarchical Inheritance explained with Examples\n",
    "class Animal:\n",
    "    def __init__(self, name):\n",
    "        self.name = name\n",
    "\n",
    "    def speak(self):\n",
    "        pass\n",
    "\n",
    "class Dog(Animal):\n",
    "    def speak(self):\n",
    "        return f\"{self.name} says Woof!\"\n",
    "\n",
    "class Cat(Animal):\n",
    "    def speak(self):\n",
    "        return f\"{self.name} says Meow!\"\n",
    "\n",
    "class Bird(Animal):\n",
    "    def speak(self):\n",
    "        return f\"{self.name} sings beautifully!\"\n"
   ]
  },
  {
   "cell_type": "code",
   "execution_count": null,
   "metadata": {
    "id": "ZM96LslDSjil"
   },
   "outputs": [],
   "source": [
    "# Creating objects of the derived classes\n",
    "dog = Dog(\"Buddy\")\n",
    "cat = Cat(\"Whiskers\")\n",
    "bird = Bird(\"Tweetie\")\n",
    "\n",
    "# Calling the speak method on each object\n",
    "print(dog.speak())   # Output: Buddy says Woof!\n",
    "print(cat.speak())   # Output: Whiskers says Meow!\n",
    "print(bird.speak())  # Output: Tweetie sings beautifully!"
   ]
  },
  {
   "cell_type": "markdown",
   "metadata": {
    "id": "W3OWdYZ1il_Z"
   },
   "source": [
    "**Method Overriding with Single Inheritance**\n",
    "\n",
    "Method overriding in Python is a mechanism that allows a subclass to provide a specific implementation for a method that is already defined in its superclass.\n",
    "\n",
    "The overriding method in the subclass should have the same name and parameters (if overridden), but it may provide a different implementation."
   ]
  },
  {
   "cell_type": "code",
   "execution_count": 80,
   "metadata": {
    "id": "LSSCIvHjSjmS"
   },
   "outputs": [],
   "source": [
    "# Base class\n",
    "class Animal:\n",
    "    def make_sound(self):\n",
    "        print(\"Animal makes a sound\")\n",
    "\n",
    "# Subclass 1\n",
    "class Dog(Animal):\n",
    "    def make_sound(self):\n",
    "        print(\"Dog barks\")\n",
    "\n",
    "# Subclass 2\n",
    "class Cat(Animal):\n",
    "    def make_sound(self):\n",
    "        print(\"Cat meows\")\n"
   ]
  },
  {
   "cell_type": "code",
   "execution_count": 81,
   "metadata": {
    "colab": {
     "base_uri": "https://localhost:8080/"
    },
    "id": "a3dbR8A1Gnv6",
    "outputId": "fc721f99-e40b-40b5-8007-e841b966f186"
   },
   "outputs": [
    {
     "name": "stdout",
     "output_type": "stream",
     "text": [
      "Dog barks\n",
      "Cat meows\n"
     ]
    }
   ],
   "source": [
    "animal1 = Dog()\n",
    "animal2 = Cat()\n",
    "\n",
    "animal1.make_sound()  # Calls Dog's make_sound method\n",
    "animal2.make_sound()  # Calls Cat's make_sound method"
   ]
  },
  {
   "cell_type": "markdown",
   "metadata": {
    "id": "IqTsXn2Ej2bt"
   },
   "source": [
    "---\n",
    "**Orblem Practice: Hierarchical Inheritance in Vehicle Classes**"
   ]
  },
  {
   "cell_type": "code",
   "execution_count": null,
   "metadata": {
    "colab": {
     "base_uri": "https://localhost:8080/"
    },
    "id": "izyvUj3BjBvR",
    "outputId": "90acd816-5193-4838-9f3e-859655db860d"
   },
   "outputs": [
    {
     "name": "stdout",
     "output_type": "stream",
     "text": [
      "Starting the Toyota Camry\n",
      "Honking the horn of the Toyota Camry\n",
      "Stopping the Toyota Camry\n"
     ]
    }
   ],
   "source": [
    "# Base class\n",
    "class Vehicle:\n",
    "    def __init__(self, make, model):\n",
    "        self.make = make\n",
    "        self.model = model\n",
    "\n",
    "    def start(self):\n",
    "        print(\"Starting the\", self.make, self.model)\n",
    "\n",
    "    def stop(self):\n",
    "        print(\"Stopping the\", self.make, self.model)\n",
    "\n",
    "# Derived class Car inheriting from Vehicle\n",
    "class Car(Vehicle):\n",
    "    def __init__(self, make, model, numberOfDoors):\n",
    "        super().__init__(make, model)\n",
    "        self.numberOfDoors = numberOfDoors\n",
    "\n",
    "    def honk(self):\n",
    "        print(\"Honking the horn of the\", self.make, self.model)\n",
    "\n",
    "# Derived class Motorcycle inheriting from Vehicle\n",
    "class Motorcycle(Vehicle):\n",
    "    def __init__(self, make, model, engineType):\n",
    "        super().__init__(make, model)\n",
    "        self.engineType = engineType\n",
    "\n",
    "    def wheelie(self):\n",
    "        print(\"Performing a wheelie on the\", self.make, self.model)\n",
    "\n",
    "# Create an instance of the Car class\n",
    "my_car = Car(\"Toyota\", \"Camry\", 4)\n",
    "my_car.start()\n",
    "my_car.honk()\n",
    "my_car.stop()"
   ]
  },
  {
   "cell_type": "code",
   "execution_count": null,
   "metadata": {
    "id": "Wj2O0KP-jFEM"
   },
   "outputs": [],
   "source": [
    "# Create an instance of the Motorcycle class\n",
    "my_motorcycle = Motorcycle(\"Harley-Davidson\", \"Sportster\", \"4-stroke\")\n",
    "my_motorcycle.start()\n",
    "my_motorcycle.wheelie()\n",
    "my_motorcycle.stop()"
   ]
  },
  {
   "cell_type": "markdown",
   "metadata": {
    "id": "ko8iMKc3kRM3"
   },
   "source": [
    "**Constructor call sequence**"
   ]
  },
  {
   "cell_type": "code",
   "execution_count": 82,
   "metadata": {
    "id": "ap9eFCL3jFK5"
   },
   "outputs": [],
   "source": [
    "class Vehicle:\n",
    "    def __init__(self):\n",
    "        print(\"Vehicle constructor\")\n",
    "\n",
    "    def start(self):\n",
    "        print(\"Vehicle started\")\n",
    "\n",
    "\n",
    "class Car(Vehicle):\n",
    "    def __init__(self):\n",
    "        super().__init__()\n",
    "        print(\"Car constructor\")\n",
    "\n",
    "    def start(self):\n",
    "        print(\"Car started\")\n",
    "\n",
    "\n",
    "class ElectricCar(Car):\n",
    "    def __init__(self):\n",
    "        super().__init__()\n",
    "        print(\"ElectricCar constructor\")\n",
    "\n",
    "    def start(self):\n",
    "        print(\"ElectricCar started\")\n"
   ]
  },
  {
   "cell_type": "code",
   "execution_count": 83,
   "metadata": {},
   "outputs": [
    {
     "name": "stdout",
     "output_type": "stream",
     "text": [
      "Vehicle constructor\n",
      "Car constructor\n",
      "ElectricCar constructor\n"
     ]
    }
   ],
   "source": [
    "tesla = ElectricCar()"
   ]
  },
  {
   "cell_type": "markdown",
   "metadata": {},
   "source": [
    "---"
   ]
  },
  {
   "cell_type": "markdown",
   "metadata": {},
   "source": [
    "# **Lecture 7️⃣ : Encapsulation in Python**"
   ]
  },
  {
   "cell_type": "code",
   "execution_count": null,
   "metadata": {},
   "outputs": [],
   "source": []
  },
  {
   "cell_type": "markdown",
   "metadata": {
    "id": "OR9cVX7mQv8l"
   },
   "source": [
    "Encapsulation is the **bundling** of **data (attributes)** and **methods (functions)** within a class, **restricting access** to some components to control interactions.\n",
    "\n",
    "A class is an example of encapsulation as it encapsulates all the data that is member functions, variables, etc.\n",
    "\n",
    "It allows hiding internal data and only allowing access through controlled methods.\n",
    "\n",
    "#### Example:"
   ]
  },
  {
   "cell_type": "code",
   "execution_count": 60,
   "metadata": {
    "id": "nqRayP5Qjgan"
   },
   "outputs": [],
   "source": [
    "class BankAccount:\n",
    "    def __init__(self, owner, balance=0):\n",
    "        self.owner = owner\n",
    "        self.__balance = balance  # 👈 Private variable (encapsulated)\n",
    "\n",
    "    def deposit(self, amount):\n",
    "        if amount > 0:\n",
    "            self.__balance += amount\n",
    "            print(f\"Deposited ₹{amount}\")\n",
    "        else:\n",
    "            print(\"Invalid deposit amount.\")\n",
    "\n",
    "    def withdraw(self, amount):\n",
    "        if 0 < amount <= self.__balance:\n",
    "            self.__balance -= amount\n",
    "            print(f\"Withdrew ₹{amount}\")\n",
    "        else:\n",
    "            print(\"Insufficient balance or invalid amount.\")\n",
    "\n",
    "    def get_balance(self):\n",
    "        return self.__balance  # 👈 Controlled access\n"
   ]
  },
  {
   "cell_type": "code",
   "execution_count": 61,
   "metadata": {
    "id": "mikyj0aalbL_"
   },
   "outputs": [
    {
     "name": "stdout",
     "output_type": "stream",
     "text": [
      "Deposited ₹500\n",
      "Withdrew ₹200\n",
      "Current Balance: 1300\n"
     ]
    }
   ],
   "source": [
    "# Usage\n",
    "account = BankAccount(\"Sanjeev\", 1000)\n",
    "account.deposit(500)\n",
    "account.withdraw(200)\n",
    "\n",
    "print(\"Current Balance:\", account.get_balance())\n"
   ]
  },
  {
   "cell_type": "code",
   "execution_count": 62,
   "metadata": {},
   "outputs": [],
   "source": [
    "# Trying to access private variable directly (not allowed)\n",
    "# print(account.__balance)  ❌ This will cause an error"
   ]
  },
  {
   "cell_type": "markdown",
   "metadata": {
    "id": "drtUn4oDHP0g"
   },
   "source": [
    "**Access Modifiers in Python :**\n"
   ]
  },
  {
   "cell_type": "markdown",
   "metadata": {
    "id": "ByH4LgZgHaST"
   },
   "source": [
    "In Python, access modifiers are used to control the visibility and accessibility of attributes and methods within a class.\n",
    "\n",
    "Python does not have explicit keywords like \"public,\" \"private,\" or \"protected\".\n",
    "\n",
    "Instead, It relies on naming conventions to indicate the intended visibility"
   ]
  },
  {
   "cell_type": "markdown",
   "metadata": {
    "id": "XUbqi2TnHndV"
   },
   "source": [
    "1.**Public**: By default, all attributes and methods in a class are considered public. They can be accessed and modified from outside the class.\n",
    "\n",
    "2.**Protected**: Attributes and methods intended for internal use within the class and its subclasses are often marked as protected by prefixing them with a single underscore (_).\n",
    "\n",
    "3.**Private**: Attributes and methods that should not be accessed from outside the class are conventionally marked as private by prefixing them with a double underscore (__)."
   ]
  },
  {
   "cell_type": "code",
   "execution_count": null,
   "metadata": {
    "id": "06l5BC1J6LCl"
   },
   "outputs": [],
   "source": [
    "class Person:\n",
    "    def __init__(self):\n",
    "        self.name = \"Alice\"         # public attribute\n",
    "        self._age = 30              # protected attribute\n",
    "        self.__salary = 50000       # private attribute\n",
    "\n",
    "    def display(self):\n",
    "        print(\"Name:\", self.name)\n",
    "        print(\"Age:\", self._age)\n",
    "        print(\"Salary:\", self.__salary)\n"
   ]
  },
  {
   "cell_type": "code",
   "execution_count": null,
   "metadata": {
    "id": "cmPGC-o9GnWz"
   },
   "outputs": [],
   "source": [
    "obj = Person()\n",
    "obj.display()\n",
    "\n",
    "# Accessing attributes from outside\n",
    "print(obj.name)         # ✅ Public: Accessible\n",
    "print(obj._age)         # ⚠️ Protected: Accessible but discouraged\n",
    "print(obj.__salary)     # ❌ Private: Will raise AttributeError"
   ]
  },
  {
   "cell_type": "code",
   "execution_count": null,
   "metadata": {
    "colab": {
     "base_uri": "https://localhost:8080/"
    },
    "id": "nrQ1XyENGncr",
    "outputId": "2013153d-883e-4aa9-eef0-5f15e27bd483"
   },
   "outputs": [
    {
     "data": {
      "text/plain": [
       "50000"
      ]
     },
     "execution_count": 5,
     "metadata": {},
     "output_type": "execute_result"
    }
   ],
   "source": [
    "# Accessing Private Variables (Name Mangling)\n",
    "obj._Person__salary"
   ]
  },
  {
   "cell_type": "markdown",
   "metadata": {
    "id": "H5iGWSo4JfF4"
   },
   "source": [
    "> Python does not enforce strict access control. It relies on conventions and developer discipline.\n",
    "\n",
    "---"
   ]
  },
  {
   "cell_type": "markdown",
   "metadata": {
    "id": "NV-dHxIPJro-"
   },
   "source": [
    "**Accessing and Modifying Private Data Members:**\n",
    "\n",
    "In Python, getter and setter methods are used to access and modify private data members (fields) of a class."
   ]
  },
  {
   "cell_type": "code",
   "execution_count": 84,
   "metadata": {
    "id": "Y5ztiD0zGnl6"
   },
   "outputs": [],
   "source": [
    "class MyClass :\n",
    "    __myField = None\n",
    "\n",
    "    # Getter method for myField\n",
    "    def getMyField(self):\n",
    "        return MyClass.__myField\n",
    "\n",
    "    # Setter method for myField\n",
    "    def setMyField(self , value):\n",
    "        MyClass.__myField = value"
   ]
  },
  {
   "cell_type": "markdown",
   "metadata": {},
   "source": [
    "# **Lecture 8️⃣ : Polymorphism in Python**"
   ]
  },
  {
   "cell_type": "markdown",
   "metadata": {
    "id": "In2vdOvPl75e"
   },
   "source": [
    "---\n",
    "\n",
    "**Polymorphism in Python**\n",
    "\n",
    "Polymorphism is a fundamental concept in object-oriented programming that allows objects of different types to be treated as objects of a common base type.\n",
    "\n",
    "It enables flexibility in code design and promotes code reuse. Here are the two main types of polymorphism in Python:"
   ]
  },
  {
   "cell_type": "markdown",
   "metadata": {
    "id": "_iASwU7fpWHR"
   },
   "source": [
    "**1. Compile-time Polymorphism** (Static Binding or Method Overloading):\n",
    "\n",
    "In some languages, such as Java or C++, method overloading allows you to define multiple methods with the same name in the same class, but with different parameter lists.\n",
    "\n",
    "In Python, method overloading is achieved in a different way, as the language does not support multiple methods with the same name but different parameter lists."
   ]
  },
  {
   "cell_type": "code",
   "execution_count": null,
   "metadata": {
    "id": "XT9AVuPHjFO9"
   },
   "outputs": [],
   "source": [
    "class MyClass:\n",
    "    def add(self, a, b):\n",
    "        return a + b\n",
    "\n",
    "    def add(self, a, b, c):\n",
    "        return a + b + c\n",
    "\n",
    "# So in your code, def add(self, a, b) is overwritten by def add(self, a, b, c).\n",
    "# This will result in an error in Python"
   ]
  },
  {
   "cell_type": "code",
   "execution_count": null,
   "metadata": {
    "colab": {
     "base_uri": "https://localhost:8080/",
     "height": 176
    },
    "id": "IMpCbS6IjB0V",
    "outputId": "7cd5fd50-4f38-4919-81ce-9a41fe3bd687"
   },
   "outputs": [
    {
     "ename": "TypeError",
     "evalue": "MyClass.add() missing 1 required positional argument: 'c'",
     "output_type": "error",
     "traceback": [
      "\u001b[0;31m---------------------------------------------------------------------------\u001b[0m",
      "\u001b[0;31mTypeError\u001b[0m                                 Traceback (most recent call last)",
      "\u001b[0;32m/tmp/ipython-input-22-1720559205.py\u001b[0m in \u001b[0;36m<cell line: 0>\u001b[0;34m()\u001b[0m\n\u001b[1;32m      1\u001b[0m \u001b[0mobj\u001b[0m \u001b[0;34m=\u001b[0m \u001b[0mMyClass\u001b[0m\u001b[0;34m(\u001b[0m\u001b[0;34m)\u001b[0m\u001b[0;34m\u001b[0m\u001b[0;34m\u001b[0m\u001b[0m\n\u001b[0;32m----> 2\u001b[0;31m \u001b[0mprint\u001b[0m\u001b[0;34m(\u001b[0m\u001b[0mobj\u001b[0m\u001b[0;34m.\u001b[0m\u001b[0madd\u001b[0m\u001b[0;34m(\u001b[0m\u001b[0;36m1\u001b[0m\u001b[0;34m,\u001b[0m \u001b[0;36m2\u001b[0m\u001b[0;34m)\u001b[0m\u001b[0;34m)\u001b[0m     \u001b[0;31m# ❌ TypeError: add() missing 1 required positional argument: 'c'\u001b[0m\u001b[0;34m\u001b[0m\u001b[0;34m\u001b[0m\u001b[0m\n\u001b[0m\u001b[1;32m      3\u001b[0m \u001b[0mprint\u001b[0m\u001b[0;34m(\u001b[0m\u001b[0mobj\u001b[0m\u001b[0;34m.\u001b[0m\u001b[0madd\u001b[0m\u001b[0;34m(\u001b[0m\u001b[0;36m1\u001b[0m\u001b[0;34m,\u001b[0m \u001b[0;36m2\u001b[0m\u001b[0;34m,\u001b[0m \u001b[0;36m3\u001b[0m\u001b[0;34m)\u001b[0m\u001b[0;34m)\u001b[0m  \u001b[0;31m# ✅ Works fine: returns 6\u001b[0m\u001b[0;34m\u001b[0m\u001b[0;34m\u001b[0m\u001b[0m\n",
      "\u001b[0;31mTypeError\u001b[0m: MyClass.add() missing 1 required positional argument: 'c'"
     ]
    }
   ],
   "source": [
    "obj = MyClass()\n",
    "print(obj.add(1, 2))     # ❌ TypeError: add() missing 1 required positional argument: 'c'\n",
    "print(obj.add(1, 2, 3))  # ✅ Works fine: returns 6\n"
   ]
  },
  {
   "cell_type": "markdown",
   "metadata": {
    "id": "LsY59ZMgqBEq"
   },
   "source": [
    "Instead of method overloading, Python uses a single method with optional or default parameters to achieve similar functionality.\n",
    "\n"
   ]
  },
  {
   "cell_type": "code",
   "execution_count": null,
   "metadata": {
    "colab": {
     "base_uri": "https://localhost:8080/"
    },
    "id": "3nlK2y5ujB59",
    "outputId": "1baae231-680a-4e09-e11c-14c8af69a156"
   },
   "outputs": [
    {
     "name": "stdout",
     "output_type": "stream",
     "text": [
      "1\n",
      "3\n",
      "6\n"
     ]
    }
   ],
   "source": [
    "# default parameters\n",
    "\n",
    "class MyClass:\n",
    "    def add(self, a, b=0, c=0):\n",
    "        return a + b + c\n",
    "\n",
    "# Creating an instance of MyClass\n",
    "my_object = MyClass()\n",
    "\n",
    "# Calling the add method with different parameter lists\n",
    "result1 = my_object.add(1)\n",
    "result2 = my_object.add(1, 2)\n",
    "result3 = my_object.add(1, 2, 3)\n",
    "\n",
    "print(result1)  # Output: 1\n",
    "print(result2)  # Output: 3\n",
    "print(result3)  # Output: 6"
   ]
  },
  {
   "cell_type": "code",
   "execution_count": null,
   "metadata": {
    "id": "8Ycij6-rt2no"
   },
   "outputs": [],
   "source": [
    "# Using Variable-Length Argument Lists\n",
    "\n",
    "class MyClass:\n",
    "    def add(self, *args):\n",
    "        return sum(args)\n",
    "\n",
    "# Creating an instance of MyClass\n",
    "my_object = MyClass()\n",
    "\n",
    "# Calling the add method with different numbers of arguments\n",
    "result1 = my_object.add(1)\n",
    "result2 = my_object.add(1, 2)\n",
    "result3 = my_object.add(1, 2, 3)\n",
    "\n",
    "print(result1)  # Output: 1\n",
    "print(result2)  # Output: 3\n",
    "print(result3)  # Output: 6"
   ]
  },
  {
   "cell_type": "markdown",
   "metadata": {
    "id": "7jNmbcYyqJfQ"
   },
   "source": [
    "This is how python achieves compile-time polymorphism. If we pass 2 arguments, the value of c will be set to the default value provided. Otherwise, it will be set to the passed value."
   ]
  },
  {
   "cell_type": "markdown",
   "metadata": {},
   "source": [
    "- In Python:\n",
    "\n",
    "Operator Overloading is supported using special methods `(__add__, __len__, etc.)`.\n",
    "\n",
    "Function Overloading isn't natively supported — if you define a function twice, the last one overrides the previous."
   ]
  },
  {
   "cell_type": "code",
   "execution_count": null,
   "metadata": {},
   "outputs": [],
   "source": [
    "class Vector:\n",
    "    def __init__(self, x, y):\n",
    "        self.x = x\n",
    "        self.y = y\n",
    "\n",
    "    def __add__(self, other):\n",
    "        return Vector(self.x + other.x, self.y + other.y)\n",
    "\n",
    "# Usage\n",
    "v1 = Vector(1, 2)\n",
    "v2 = Vector(3, 4)\n",
    "v3 = v1 + v2  # calls __add__, operator overloading\n"
   ]
  },
  {
   "cell_type": "markdown",
   "metadata": {
    "id": "Q_fSo8aDqSKX"
   },
   "source": [
    "**2. Run-time Polymorphism** (Dynamic Binding or Method Overriding):\n",
    "\n",
    "Method overriding is a form of polymorphism that occurs at runtime.\n",
    "\n",
    "In Python, a subclass can provide a specific implementation for a method that is already defined in its superclass.\n",
    "\n",
    "This allows objects of the derived class to be used interchangeably with objects of the base class."
   ]
  },
  {
   "cell_type": "code",
   "execution_count": null,
   "metadata": {
    "colab": {
     "base_uri": "https://localhost:8080/"
    },
    "id": "NRofw1RUjB_X",
    "outputId": "66320660-948c-4b64-99f7-416a291d46a7"
   },
   "outputs": [
    {
     "name": "stdout",
     "output_type": "stream",
     "text": [
      "Woof!\n",
      "Meow!\n"
     ]
    }
   ],
   "source": [
    "class Animal:\n",
    "    def make_sound(self):\n",
    "        return \"Some generic sound\"\n",
    "\n",
    "class Dog(Animal):\n",
    "    def make_sound(self):\n",
    "        return \"Woof!\"\n",
    "\n",
    "class Cat(Animal):\n",
    "    def make_sound(self):\n",
    "        return \"Meow!\"\n",
    "\n",
    "# Example usage of method overriding\n",
    "dog = Dog()\n",
    "cat = Cat()\n",
    "\n",
    "print(dog.make_sound())  # Output: Woof!\n",
    "print(cat.make_sound())  # Output: Meow!\n"
   ]
  },
  {
   "cell_type": "markdown",
   "metadata": {
    "id": "e43Fymsqu_T8"
   },
   "source": [
    "Method overriding is a concept in object-oriented programming where a subclass provides a specific implementation for a method that is already defined in its superclass.\n",
    "\n",
    "This allows the subclass to provide a specialized behavior while still maintaining the same method signature as the superclass.\n",
    "\n",
    "In Python, method overriding is achieved by creating a method in the subclass with the same name as the method in the superclass."
   ]
  },
  {
   "cell_type": "markdown",
   "metadata": {
    "id": "yWTBK31cvpP4"
   },
   "source": [
    "**Key Points**\n",
    "\n",
    "1. Method overriding is a form of run-time polymorphism, and the specific implementation to be called is determined at runtime based on the type of the object.\n",
    "\n",
    "2. The `super()` function can be used to call the overridden method from the superclass within the overridden method of the subclass if needed."
   ]
  },
  {
   "cell_type": "code",
   "execution_count": null,
   "metadata": {
    "colab": {
     "base_uri": "https://localhost:8080/"
    },
    "id": "sXZnUwy9qK6t",
    "outputId": "959527ca-f73d-4c70-abe6-272459ecb03f"
   },
   "outputs": [
    {
     "name": "stdout",
     "output_type": "stream",
     "text": [
      "Animal makes a sound\n",
      "Dog barks\n",
      "Cat meows\n"
     ]
    }
   ],
   "source": [
    "class Animal:\n",
    "    def make_sound(self):\n",
    "        print(\"Animal makes a sound\")\n",
    "\n",
    "class Dog(Animal):\n",
    "    def make_sound(self):\n",
    "        print(\"Dog barks\")\n",
    "\n",
    "class Cat(Animal):\n",
    "    def make_sound(self):\n",
    "        print(\"Cat meows\")\n",
    "\n",
    "\n",
    "generic_animal = Animal()\n",
    "dog = Dog()\n",
    "cat = Cat()\n",
    "\n",
    "generic_animal.make_sound()\n",
    "dog.make_sound()\n",
    "cat.make_sound()"
   ]
  },
  {
   "cell_type": "code",
   "execution_count": null,
   "metadata": {},
   "outputs": [],
   "source": []
  },
  {
   "cell_type": "markdown",
   "metadata": {
    "id": "Gx00lrBQ8G5r"
   },
   "source": [
    "**Dynamic Method Dispatch - Runtime Polymorphism**\n",
    "\n",
    "Dynamic method dispatch, also known as runtime polymorphism, is a feature in Python that allows you to invoke a method on an object, and the method that gets executed is determined at runtime based on the actual type of the object.\n",
    "\n",
    "This enables you to create more flexible and extensible code by using inheritance and method overriding.\n",
    "\n",
    "Here's how dynamic method dispatch works in Python:\n",
    "\n",
    "1. Inheritance: Dynamic method dispatch relies on inheritance. You have a super class (base class) and one or more subclasses (derived classes) that inherit from the super class.\n",
    "\n",
    "2. Method Overriding: To achieve dynamic method dispatch, you must override a method in a subclass. In other words, you define a method with the same name and parameters as the method in the superclass.\n",
    "\n",
    "3. Polymorphism: The superclass reference can be used to refer to an object of any subclass. This is possible due to polymorphism. For example, if you have a superclass reference, you can use it to refer to objects of either the superclass or any of its subclasses."
   ]
  },
  {
   "cell_type": "code",
   "execution_count": null,
   "metadata": {
    "colab": {
     "base_uri": "https://localhost:8080/"
    },
    "id": "nRWVvvF2qLPB",
    "outputId": "e50d9897-d0a3-4277-908e-3136bbca08e4"
   },
   "outputs": [
    {
     "name": "stdout",
     "output_type": "stream",
     "text": [
      "Some generic animal sound\n",
      "Bark\n",
      "Meow\n"
     ]
    }
   ],
   "source": [
    "class Animal:\n",
    "    def make_sound(self):\n",
    "        print(\"Some generic animal sound\")\n",
    "\n",
    "\n",
    "class Dog(Animal):\n",
    "    def make_sound(self):\n",
    "        print(\"Bark\")\n",
    "\n",
    "\n",
    "class Cat(Animal):\n",
    "    def make_sound(self):\n",
    "        print(\"Meow\")\n",
    "\n",
    "\n",
    "my_animal = Animal()\n",
    "my_animal.make_sound()  # Calls the make_sound method of the Animal class\n",
    "\n",
    "my_animal = Dog()\n",
    "my_animal.make_sound()  # Calls the make_sound method of the Dog class\n",
    "\n",
    "my_animal = Cat()\n",
    "my_animal.make_sound()  # Calls the make_sound method of the Cat class\n"
   ]
  },
  {
   "cell_type": "markdown",
   "metadata": {
    "id": "pXEl2wbP9j7D"
   },
   "source": [
    "**Advantages of Dynamic Method Dispatch**: Dynamic method dispatch allows you to call methods of different derived classes through a shared base class interface. It enables you to write code that can work with various derived class objects using a common interface, making your code more adaptable and extensible"
   ]
  },
  {
   "cell_type": "markdown",
   "metadata": {
    "id": "XMezPEfS-DC3"
   },
   "source": [
    "**In dynamic method dispatch, what happens if the subclass doesn't have an overridden method for a method in the superclass?**\n",
    "\n",
    "If the subclass does not override a method from the superclass, the method in the superclass is called when the method is invoked on an object of the subclass."
   ]
  },
  {
   "cell_type": "code",
   "execution_count": 87,
   "metadata": {
    "id": "x1UAtstkqLYf"
   },
   "outputs": [],
   "source": [
    "class Employee:\n",
    "    def __init__(self, name):\n",
    "        self.name = name\n",
    "\n",
    "    def display_info(self):\n",
    "        print(\"Name:\", self.name)\n",
    "\n",
    "\n",
    "class Worker(Employee):\n",
    "    def __init__(self, name, hourly_rate):\n",
    "        super().__init__(name)\n",
    "        self.hourly_rate = hourly_rate\n",
    "\n",
    "    # def display_info(self):\n",
    "    #     super().display_info()  # Call the base class method\n",
    "    #     print(\"Hourly Rate: $\" + str(self.hourly_rate))\n"
   ]
  },
  {
   "cell_type": "code",
   "execution_count": 88,
   "metadata": {},
   "outputs": [
    {
     "name": "stdout",
     "output_type": "stream",
     "text": [
      "Name: sanjeev\n"
     ]
    }
   ],
   "source": [
    "worker = Worker(\"sanjeev\",100)\n",
    "worker.display_info()"
   ]
  },
  {
   "cell_type": "code",
   "execution_count": null,
   "metadata": {},
   "outputs": [],
   "source": []
  },
  {
   "cell_type": "markdown",
   "metadata": {},
   "source": [
    "# **Lecture 9️⃣ Data Abastraction in Python**"
   ]
  },
  {
   "cell_type": "code",
   "execution_count": null,
   "metadata": {
    "id": "rLCG0JLDqLTt"
   },
   "outputs": [],
   "source": []
  },
  {
   "cell_type": "markdown",
   "metadata": {
    "id": "5G1E0OMwRmZk"
   },
   "source": [
    "Abstraction means hiding complex internal details and showing only essential features.\n",
    "\n",
    "It helps focus on \"what to do\" rather than \"how to do it.\"\n",
    "\n",
    "In Python, abstraction is often done using abstract base classes (abc module).\n",
    "\n",
    "\n",
    "\n",
    "#### Example:"
   ]
  },
  {
   "cell_type": "code",
   "execution_count": 63,
   "metadata": {
    "colab": {
     "base_uri": "https://localhost:8080/"
    },
    "id": "pnxGR49xREj-",
    "outputId": "534ecee4-47f5-4bdb-9efb-114d3ef937fe"
   },
   "outputs": [],
   "source": [
    "from abc import ABC, abstractmethod\n",
    "\n",
    "class Vehicle(ABC):\n",
    "    @abstractmethod\n",
    "    def start_engine(self):\n",
    "        pass\n",
    "\n",
    "class Car(Vehicle):\n",
    "    def start_engine(self):\n",
    "        print(\"Engine started\")\n"
   ]
  },
  {
   "cell_type": "code",
   "execution_count": 64,
   "metadata": {},
   "outputs": [],
   "source": [
    "# v = Vehicle() ❌ Cannot create object of abstract class"
   ]
  },
  {
   "cell_type": "code",
   "execution_count": 65,
   "metadata": {},
   "outputs": [
    {
     "name": "stdout",
     "output_type": "stream",
     "text": [
      "Engine started\n"
     ]
    }
   ],
   "source": [
    "c = Car()\n",
    "c.start_engine()  # Engine started"
   ]
  },
  {
   "cell_type": "markdown",
   "metadata": {
    "id": "JJxsZkWrSoIC"
   },
   "source": [
    "Only the necessary function start_engine() is exposed — this is abstraction.\n",
    "\n",
    "---"
   ]
  },
  {
   "cell_type": "markdown",
   "metadata": {},
   "source": [
    "**Types of Abstraction**\n",
    "\n",
    "- Partial Abstraction: Abstract class contains both abstract and concrete methods.\n",
    "- Full Abstraction: Abstract class contains only abstract methods (like interfaces).\n",
    "  \n",
    "---"
   ]
  },
  {
   "cell_type": "markdown",
   "metadata": {
    "id": "2Nxgzw-9yIua"
   },
   "source": [
    "In Python, an abstract class is a class that cannot be instantiated on its own and is meant to be subclassed by other classes.\n",
    "\n",
    "Abstract classes are created using the abc (Abstract Base Classes) module.\n",
    "\n",
    "Abstract classes may contain abstract methods, which are methods that are declared in the abstract class but don't have an implementation.\n",
    "\n",
    "Subclasses of the abstract class are required to provide implementations for these abstract methods."
   ]
  },
  {
   "cell_type": "code",
   "execution_count": null,
   "metadata": {
    "colab": {
     "base_uri": "https://localhost:8080/"
    },
    "id": "gnEYhQfKqLAD",
    "outputId": "a65da3cc-bb2f-4634-d21a-330e80600fc7"
   },
   "outputs": [
    {
     "name": "stdout",
     "output_type": "stream",
     "text": [
      "Circle Area: 78.5\n",
      "Square Area: 16\n"
     ]
    }
   ],
   "source": [
    "from abc import ABC, abstractmethod\n",
    "\n",
    "class Shape(ABC):\n",
    "    @abstractmethod\n",
    "    def area(self):\n",
    "        pass\n",
    "\n",
    "class Circle(Shape):\n",
    "    def __init__(self, radius):\n",
    "        self.radius = radius\n",
    "\n",
    "    def area(self):\n",
    "        return 3.14 * self.radius ** 2\n",
    "\n",
    "class Square(Shape):\n",
    "    def __init__(self, side_length):\n",
    "        self.side_length = side_length\n",
    "\n",
    "    def area(self):\n",
    "        return self.side_length ** 2\n",
    "\n",
    "# Example usage:\n",
    "circle = Circle(radius=5)\n",
    "square = Square(side_length=4)\n",
    "\n",
    "print(\"Circle Area:\", circle.area())          # Output: 78.5\n",
    "print(\"Square Area:\", square.area())            # Output: 16\n"
   ]
  },
  {
   "cell_type": "markdown",
   "metadata": {
    "id": "ZBiixcuM4NpT"
   },
   "source": [
    "**key Points :**\n",
    "\n",
    "1. Abstract classes cannot be instantiated directly.\n",
    "\n",
    "2. Abstract methods are declared using the `@abstractmethod` decorator in the abstract class.\n",
    "\n",
    "3. Subclasses must provide concrete implementations for all abstract methods to be considered valid.\n",
    "\n",
    "4. Abstract classes can contain both abstract and non-abstract methods.\n",
    "\n",
    "\n",
    "**Why to use Abstraction ?** \n",
    "\n",
    "Abstraction ensures consistency in derived classes by enforcing the implementation of abstract methods.\n",
    "\n",
    "---"
   ]
  },
  {
   "cell_type": "markdown",
   "metadata": {},
   "source": [
    "# **Lecture 🔟 : Static Concept and Copy Constructor**"
   ]
  },
  {
   "cell_type": "markdown",
   "metadata": {
    "id": "75DjC-HKStDN"
   },
   "source": [
    "**Static concepts in python**"
   ]
  },
  {
   "cell_type": "markdown",
   "metadata": {
    "id": "qGLYQ86kVXnV"
   },
   "source": [
    "In Python, the concept of **\"static\"** is not as explicit as in other languages like **Java**. However, similar behavior can be achieved using:\n",
    "\n",
    "1. Static Variables (Class Attributes): In Python, you can use class attributes to simulate static variables shared among all instances of a class.\n",
    "\n",
    "2. Static methods : You can use the `@staticmethod` decorator to define static methods that don't require access to the instance.\n",
    "\n",
    "---\n",
    "\n",
    "> 💡 While Python is dynamic and flexible, you can still apply static-like patterns when needed for utility code or shared logic.\n"
   ]
  },
  {
   "cell_type": "code",
   "execution_count": null,
   "metadata": {
    "colab": {
     "base_uri": "https://localhost:8080/"
    },
    "id": "6n-YE8wQMYgn",
    "outputId": "c0671bfc-b83f-4505-d349-23dd071d1da0"
   },
   "outputs": [
    {
     "name": "stdout",
     "output_type": "stream",
     "text": [
      "0\n"
     ]
    }
   ],
   "source": [
    "# Static Variables\n",
    "class MyClass:\n",
    "    static_variable = 0 #a class attribute shared by all instances of MyClass\n",
    "\n",
    "    def __init__(self, value):\n",
    "        self.value = value\n",
    "        MyClass.static_variable += 1\n",
    "\n",
    "# Accessing the static variable\n",
    "print(MyClass.static_variable)"
   ]
  },
  {
   "cell_type": "code",
   "execution_count": null,
   "metadata": {
    "colab": {
     "base_uri": "https://localhost:8080/"
    },
    "id": "Kjf0c3C6aIZ9",
    "outputId": "b4334e78-f816-4c0f-ddcf-8996c4c60c47"
   },
   "outputs": [
    {
     "name": "stdout",
     "output_type": "stream",
     "text": [
      "This is a static method.\n"
     ]
    }
   ],
   "source": [
    "#Static Methods\n",
    "class MyClass:\n",
    "    @staticmethod\n",
    "    def static_method():\n",
    "        print(\"This is a static method.\")\n",
    "\n",
    "# Calling the static method\n",
    "MyClass.static_method()"
   ]
  },
  {
   "cell_type": "markdown",
   "metadata": {},
   "source": [
    "**Static functions**\n",
    "\n",
    "The primary advantage of using static functions to create objects in Python is that it provides a centralized and controlled way to create objects within a class.\n",
    "\n",
    "This approach encapsulates object creation details, promotes abstraction, allows for validation and customization, and simplifies object creation for users of the class.\n"
   ]
  },
  {
   "cell_type": "markdown",
   "metadata": {
    "id": "uxp5JEOELJ5S"
   },
   "source": [
    "---\n",
    "\n",
    "**Copy Constructor**\n",
    "\n",
    "A copy constructor is a special constructor that creates a new object by copying the attributes of an existing object.\n",
    "\n",
    "1. In Python, you can implement a copy constructor using a special method called `__copy__`\n",
    "\n",
    "2. Using `copy` module"
   ]
  },
  {
   "cell_type": "code",
   "execution_count": null,
   "metadata": {
    "id": "eGRvve0lGnrH"
   },
   "outputs": [],
   "source": [
    "# Method 1: Custom Copy Constructor\n",
    "\n",
    "class MyClass:\n",
    "    def __init__(self, attribute1, attribute2):\n",
    "        self.attribute1 = attribute1\n",
    "        self.attribute2 = attribute2\n",
    "\n",
    "    # Copy constructor\n",
    "    def __copy__(self):\n",
    "        new_object = type(self)(self.attribute1, self.attribute2)\n",
    "        return new_object\n"
   ]
  },
  {
   "cell_type": "code",
   "execution_count": null,
   "metadata": {
    "colab": {
     "base_uri": "https://localhost:8080/"
    },
    "id": "aAxIKTdpMYVX",
    "outputId": "fceec83f-1a92-4631-db13-39900cb8cd07"
   },
   "outputs": [
    {
     "name": "stdout",
     "output_type": "stream",
     "text": [
      "Original Object: attribute1=value1, attribute2=value2\n",
      "Copied Object: attribute1=value1, attribute2=value2\n"
     ]
    }
   ],
   "source": [
    "# Creating an object of MyClass\n",
    "original_obj = MyClass(\"value1\", \"value2\")\n",
    "\n",
    "# Using the copy constructor to create a new object\n",
    "copied_obj = original_obj.__copy__()\n",
    "\n",
    "# Displaying the attributes of the original and copied objects\n",
    "print(\"Original Object: attribute1={}, attribute2={}\".format(original_obj.attribute1, original_obj.attribute2))\n",
    "print(\"Copied Object: attribute1={}, attribute2={}\".format(copied_obj.attribute1, copied_obj.attribute2))"
   ]
  },
  {
   "cell_type": "code",
   "execution_count": null,
   "metadata": {
    "colab": {
     "base_uri": "https://localhost:8080/"
    },
    "id": "M7D0SS88MYbE",
    "outputId": "133785f0-b930-40a0-a581-d2e15607974c"
   },
   "outputs": [
    {
     "name": "stdout",
     "output_type": "stream",
     "text": [
      "Alice\n",
      "Alice\n",
      "Alice\n",
      "['Math', 'Science', 'English']\n",
      "['Math', 'Science', 'English']\n",
      "['Math', 'Science']\n"
     ]
    }
   ],
   "source": [
    "\"\"\"\n",
    "Method 2: Using copy Module\n",
    "Python provides a copy module with two functions:\n",
    "\n",
    "copy.copy() → Shallow copy\n",
    "copy.deepcopy() → Deep copy\n",
    "\n",
    "\"\"\"\n",
    "\n",
    "import copy\n",
    "\n",
    "class Student:\n",
    "    def __init__(self, name, subjects):\n",
    "        self.name = name\n",
    "        self.subjects = subjects\n",
    "\n",
    "s1 = Student(\"Alice\", [\"Math\", \"Science\"])\n",
    "\n",
    "# Shallow copy\n",
    "s2 = copy.copy(s1)\n",
    "\n",
    "# Deep copy\n",
    "s3 = copy.deepcopy(s1)\n",
    "\n",
    "print(s1.name)     # Alice\n",
    "print(s2.name)     # Alice\n",
    "print(s3.name)     # Alice\n",
    "\n",
    "# Changing inner list in s1\n",
    "s1.subjects.append(\"English\")\n",
    "\n",
    "print(s1.subjects)  # ['Math', 'Science', 'English']\n",
    "print(s2.subjects)  # ['Math', 'Science', 'English'] (shared in shallow copy)\n",
    "print(s3.subjects)  # ['Math', 'Science'] (separate in deep copy)\n"
   ]
  },
  {
   "cell_type": "markdown",
   "metadata": {
    "id": "II0mX_hfk5I4"
   },
   "source": [
    "**Object as Parameter**\n",
    "\n",
    "In Python, you can pass objects as parameters to functions or methods, allowing you to manipulate or interact with those objects within the function.\n",
    "\n",
    "When an object is passed as a parameter, the function receives a reference to the object, allowing it to access and modify the object's attributes.\n",
    "\n",
    "When you pass an object as a parameter, you're passing a reference to the object, so any changes made to the object's properties within the method will affect the original object outside the method as well.\n",
    "\n",
    "This is because the reference points to the same memory location where the object's data is stored."
   ]
  },
  {
   "cell_type": "code",
   "execution_count": null,
   "metadata": {
    "id": "bScp5USqqLnW"
   },
   "outputs": [],
   "source": []
  },
  {
   "cell_type": "markdown",
   "metadata": {
    "id": "OQRclcV5lbp5"
   },
   "source": [
    "**References**\n",
    "1. https://www.codechef.com/learn/course/oops-concepts-in-python\n",
    "2. https://realpython.com/python3-object-oriented-programming/\n",
    "3. https://www.sanfoundry.com/object-oriented-programming-oop-in-python/\n",
    "4. https://www.geeksforgeeks.org/python/python-oops-concepts/"
   ]
  }
 ],
 "metadata": {
  "colab": {
   "collapsed_sections": [
    "HrR8QjfeKylO",
    "kHdOdzHkv7Kk",
    "e9w_fmngO_3E",
    "CLQ_SqfL5OiS"
   ],
   "provenance": []
  },
  "kernelspec": {
   "display_name": "Python 3 (ipykernel)",
   "language": "python",
   "name": "python3"
  },
  "language_info": {
   "codemirror_mode": {
    "name": "ipython",
    "version": 3
   },
   "file_extension": ".py",
   "mimetype": "text/x-python",
   "name": "python",
   "nbconvert_exporter": "python",
   "pygments_lexer": "ipython3",
   "version": "3.13.5"
  }
 },
 "nbformat": 4,
 "nbformat_minor": 4
}
