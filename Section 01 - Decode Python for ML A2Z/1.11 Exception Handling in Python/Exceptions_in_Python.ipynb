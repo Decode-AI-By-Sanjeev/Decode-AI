{
  "nbformat": 4,
  "nbformat_minor": 0,
  "metadata": {
    "colab": {
      "provenance": []
    },
    "kernelspec": {
      "name": "python3",
      "display_name": "Python 3"
    },
    "language_info": {
      "name": "python"
    }
  },
  "cells": [
    {
      "cell_type": "markdown",
      "source": [
        "# Exception Handling and Multithreading"
      ],
      "metadata": {
        "id": "J-3WCb9lYceV"
      }
    },
    {
      "cell_type": "markdown",
      "source": [
        "# 🚨 Introduction to Exception Handling in Python\n",
        "\n",
        "In Python, **exception handling** allows you to gracefully respond to errors that may occur during the execution of a program. This prevents the program from crashing and lets you take corrective actions.\n",
        "\n",
        "## ✅ Why Use Exception Handling?\n",
        "\n",
        "- Prevent program crashes\n",
        "- Handle unexpected user input or system errors\n",
        "- Provide meaningful error messages\n",
        "- Ensure resources are properly released (e.g., file handles, network connections)\n",
        "\n",
        "## 🔧 Basic Syntax\n",
        "\n",
        "```python\n",
        "try:\n",
        "    # Code that may raise an exception\n",
        "    risky_operation()\n",
        "except SomeException:\n",
        "    # Code to handle the exception\n",
        "    print(\"An error occurred!\")\n",
        "```"
      ],
      "metadata": {
        "id": "1qLZxstNY-1p"
      }
    },
    {
      "cell_type": "markdown",
      "source": [
        "---\n",
        "\n",
        "**Primary Components of Exception Handling in Python:**\n",
        "\n",
        "1. **Try:** The try block is used to enclose the code that might raise an exception. It is the block where you want to handle potential errors."
      ],
      "metadata": {
        "id": "1nGFGOChY-5M"
      }
    },
    {
      "cell_type": "code",
      "source": [
        "try:\n",
        "    # Code that might raise an exception\n",
        "    result = 10 / 0\n",
        "except ZeroDivisionError:\n",
        "    print(\"Error: Division by zero\")"
      ],
      "metadata": {
        "colab": {
          "base_uri": "https://localhost:8080/"
        },
        "id": "_sccUcQtXHUD",
        "outputId": "469c7bc3-f6a9-426a-a814-b53652e985d6"
      },
      "execution_count": null,
      "outputs": [
        {
          "output_type": "stream",
          "name": "stdout",
          "text": [
            "Error: Division by zero\n"
          ]
        }
      ]
    },
    {
      "cell_type": "markdown",
      "source": [
        "---\n",
        "\n",
        "2. **Except:** The except block is used to catch and handle specific exceptions that might occur within the try block. You can have multiple except blocks to handle different types of exceptions."
      ],
      "metadata": {
        "id": "rALuwKILajyA"
      }
    },
    {
      "cell_type": "code",
      "source": [
        "try:\n",
        "    result = 10 / 0\n",
        "except ZeroDivisionError:\n",
        "    print(\"Error: Division by zero\")\n",
        "except ArithmeticError:\n",
        "    print(\"Arithmetic error occurred\")"
      ],
      "metadata": {
        "colab": {
          "base_uri": "https://localhost:8080/"
        },
        "id": "M1D30gFQbF-Y",
        "outputId": "041b4db8-8422-414b-fe25-ca435ff595bb"
      },
      "execution_count": null,
      "outputs": [
        {
          "output_type": "stream",
          "name": "stdout",
          "text": [
            "Error: Division by zero\n"
          ]
        }
      ]
    },
    {
      "cell_type": "markdown",
      "source": [
        "---\n",
        "\n",
        "3.**Finally:** The `finally` block contains code that will be executed regardless of whether an exception occurred or not. It is useful for cleanup operations."
      ],
      "metadata": {
        "id": "Z0oVovbJbNO4"
      }
    },
    {
      "cell_type": "code",
      "source": [
        "try:\n",
        "    result = 10 / 0\n",
        "except ZeroDivisionError:\n",
        "    print(\"Error: Division by zero\")\n",
        "finally:\n",
        "    print(\"Finally block executed\")"
      ],
      "metadata": {
        "colab": {
          "base_uri": "https://localhost:8080/"
        },
        "id": "42K0iDgQbd75",
        "outputId": "dbd1d9b0-1424-4c69-d490-a0af946043bd"
      },
      "execution_count": null,
      "outputs": [
        {
          "output_type": "stream",
          "name": "stdout",
          "text": [
            "Error: Division by zero\n",
            "Finally block executed\n"
          ]
        }
      ]
    },
    {
      "cell_type": "markdown",
      "source": [
        "---\n",
        "\n",
        "4.**Else:** The else block is optional and is executed only if no exceptions are raised in the try block. It is useful for code that should run only when there are no exceptions."
      ],
      "metadata": {
        "id": "Jk9AxUWNYiNj"
      }
    },
    {
      "cell_type": "code",
      "source": [
        "try:\n",
        "    result = 10 / 2\n",
        "except ZeroDivisionError:\n",
        "    print(\"Error: Division by zero\")\n",
        "else:\n",
        "    print(\"No exceptions occurred\")"
      ],
      "metadata": {
        "colab": {
          "base_uri": "https://localhost:8080/"
        },
        "id": "RhIh0dNQbrYA",
        "outputId": "fee54ca2-48d9-4273-ebba-169d964a64fe"
      },
      "execution_count": null,
      "outputs": [
        {
          "output_type": "stream",
          "name": "stdout",
          "text": [
            "No exceptions occurred\n"
          ]
        }
      ]
    },
    {
      "cell_type": "markdown",
      "source": [
        "---\n",
        "\n",
        "5. **Raise:** The raise statement is used to manually raise an exception. This can be useful when you want to indicate that a certain condition is an error."
      ],
      "metadata": {
        "id": "Jlj2ViFabzh0"
      }
    },
    {
      "cell_type": "code",
      "source": [
        "x = -1\n",
        "if x < 0:\n",
        "    raise ValueError(\"Value must be non-negative\")"
      ],
      "metadata": {
        "id": "dfo9392DbyuT"
      },
      "execution_count": null,
      "outputs": []
    },
    {
      "cell_type": "markdown",
      "source": [
        "# 🤖 Real-Life Exception Handling Example for Machine Learning Engineers\n",
        "\n",
        "## 💼 Scenario:\n",
        "You are loading a dataset, training a model, and saving it to disk. This workflow may fail due to:\n",
        "```python\n",
        "1. Missing or corrupt files\n",
        "      # Exceptions: FileNotFoundError\n",
        "2. Bad input data\n",
        "      # json.JSONDecodeError : Raised when trying to read malformed JSON data.\n",
        "      # csv.Error : Raised when reading an ill-formed CSV file.\n",
        "      # UnicodeDecodeError : ccurs if the file has an unexpected encoding (e.g., reading binary data as UTF-8).\n",
        "      \n",
        "- Model training errors\n",
        "      # ValueError : Raised when data has the wrong format, shape, or type.\n",
        "      # TypeError\n",
        "      # MemoryError\n",
        "      # RuntimeError\n",
        "- Issues saving the model\n",
        "      # FileNotFoundError : directory to save don't exists\n",
        "      # PermissionError : You don’t have permission to write in the target directory.\n",
        "      # OSError : Generic file system error (disk full, invalid path, etc.).\n",
        "      # PicklingError\n",
        "\n",
        "```\n",
        "\n",
        "---"
      ],
      "metadata": {
        "id": "-p-TFuKVdoSj"
      }
    },
    {
      "cell_type": "code",
      "source": [
        "import pandas as pd\n",
        "from sklearn.linear_model import LogisticRegression\n",
        "from sklearn.model_selection import train_test_split\n",
        "import joblib\n",
        "import os\n",
        "\n",
        "try:\n",
        "    # 1. Load the dataset\n",
        "    if not os.path.exists(\"data.csv\"):\n",
        "        raise FileNotFoundError(\"Dataset 'data.csv' not found.\")\n",
        "\n",
        "    df = pd.read_csv(\"data.csv\")\n",
        "\n",
        "    # 2. Preprocess data\n",
        "    if df.isnull().any().any():\n",
        "        raise ValueError(\"Dataset contains missing values.\")\n",
        "\n",
        "    X = df.drop(\"target\", axis=1)\n",
        "    y = df[\"target\"]\n",
        "\n",
        "    # 3. Train-test split\n",
        "    X_train, X_test, y_train, y_test = train_test_split(X, y, test_size=0.2)\n",
        "\n",
        "    # 4. Train the model\n",
        "    model = LogisticRegression()\n",
        "    model.fit(X_train, y_train)\n",
        "\n",
        "    # 5. Save the model\n",
        "    joblib.dump(model, \"model.pkl\")\n",
        "    print(\"✅ Model trained and saved successfully!\")\n",
        "\n",
        "except FileNotFoundError as fnf_err:\n",
        "    print(\"❌ File Error:\", fnf_err)\n",
        "\n",
        "except ValueError as val_err:\n",
        "    print(\"❌ Data Error:\", val_err)\n",
        "\n",
        "except Exception as e:\n",
        "    print(\"❌ An unexpected error occurred:\", e)\n",
        "\n",
        "finally:\n",
        "    print(\"🔚 Pipeline completed (with or without errors).\")\n"
      ],
      "metadata": {
        "colab": {
          "base_uri": "https://localhost:8080/"
        },
        "id": "JuRQEZlZb_iR",
        "outputId": "7372a548-08d4-4d85-8a4d-c09cb8d63f04"
      },
      "execution_count": null,
      "outputs": [
        {
          "output_type": "stream",
          "name": "stdout",
          "text": [
            "❌ File Error: Dataset 'data.csv' not found.\n",
            "🔚 Pipeline completed (with or without errors).\n"
          ]
        }
      ]
    },
    {
      "cell_type": "markdown",
      "source": [
        "---\n",
        "**Important Notes**\n",
        "\n",
        "1. In Python, you can use multiple except clauses to catch and handle different types of exceptions in a single try block."
      ],
      "metadata": {
        "id": "rJDvHlfVssvn"
      }
    },
    {
      "cell_type": "markdown",
      "source": [
        "---\n",
        "# 📌 Difference between Exception and Errors in Python\n",
        "\n",
        "The main difference between **exceptions** and **errors** in Python is:\n",
        "\n",
        "---\n",
        "\n",
        "## ❌ Error\n",
        "\n",
        "An **error** is a more general term that refers to any unexpected or undesired situation that disrupts the normal execution of a program.\n",
        "\n",
        "### 🔹 Types of Errors:\n",
        "- **Syntax Errors**: Occur during the parsing (compilation) of the code, preventing it from running.\n",
        "  - **Examples**:\n",
        "    - Misspelled keywords\n",
        "    - Missing colons\n",
        "    - Incorrect indentation\n",
        "\n",
        "- **Runtime Errors**: Occur during the execution of the program due to various issues like:\n",
        "  - Invalid user input\n",
        "  - Division by zero\n",
        "  - Accessing an undefined variable\n",
        "\n",
        "---\n",
        "\n",
        "## ⚠️ Exception\n",
        "\n",
        "An **exception** is a specific type of **runtime error** that Python can catch and handle using try-except.\n",
        "\n",
        "- Exceptions are raised when an error occurs during execution.\n",
        "- They allow the program to **gracefully handle errors** instead of crashing.\n",
        "- In Python, exceptions are instances of classes that inherit from the `BaseException` class.\n",
        "\n",
        "### 🔹 Common Exceptions:\n",
        "- `ValueError`\n",
        "- `TypeError`\n",
        "- `ZeroDivisionError`\n",
        "- And many more...\n",
        "\n",
        "---\n",
        "\n",
        "## 📚 Types of Exceptions in Python\n",
        "\n",
        "Here are some common built-in exceptions:\n",
        "\n",
        "| Exception Name      | Description |\n",
        "|---------------------|-------------|\n",
        "| `SyntaxError`        | Raised for syntax errors during parsing |\n",
        "| `IndentationError`   | Raised when there's incorrect indentation |\n",
        "| `NameError`          | Raised when an identifier is not found in the local/global namespace |\n",
        "| `TypeError`          | Raised when an operation/function is applied to an object of an inappropriate type |\n",
        "| `ValueError`         | Raised when a function receives an argument of the correct type but an inappropriate value |\n",
        "| `ZeroDivisionError`  | Raised when division or modulo by zero is attempted |\n",
        "| `FileNotFoundError`  | Raised when a file or directory is requested but not found |\n",
        "| `IndexError`         | Raised when a sequence index is out of range |\n",
        "\n",
        "---\n",
        "\n",
        "### 🛠️ Custom Exceptions\n",
        "\n",
        "You can define your own exceptions by creating a class that inherits from `Exception` or its subclasses:\n",
        "\n",
        "```python\n",
        "class MyCustomError(Exception):\n",
        "    pass\n",
        "\n",
        "\n"
      ],
      "metadata": {
        "id": "vXgJ5ZeAi709"
      }
    },
    {
      "cell_type": "markdown",
      "source": [
        "**IMPORTANT NOTE**\n",
        "\n",
        "In Python, exceptions are objects, and they all derive from the BaseException class."
      ],
      "metadata": {
        "id": "dhb5b2YPrVon"
      }
    },
    {
      "cell_type": "markdown",
      "source": [
        "---\n",
        "\n",
        "### Practical Code Example"
      ],
      "metadata": {
        "id": "D1ydjG_cjgZh"
      }
    },
    {
      "cell_type": "markdown",
      "source": [
        "Write a basic machine learning model pipeline code in python along with exception handling demonstrating exception handling knowledge"
      ],
      "metadata": {
        "id": "IZQafbfcjoi-"
      }
    },
    {
      "cell_type": "code",
      "source": [
        "import pandas as pd\n",
        "from sklearn.linear_model import LogisticRegression\n",
        "from sklearn.model_selection import train_test_split\n",
        "import joblib\n",
        "import os\n",
        "\n",
        "try:\n",
        "    # 1. Load the dataset\n",
        "    if not os.path.exists(\"data.csv\"):\n",
        "        raise FileNotFoundError(\"Dataset 'data.csv' not found.\")\n",
        "\n",
        "    df = pd.read_csv(\"data.csv\")\n",
        "\n",
        "    # 2. Preprocess data\n",
        "    if df.isnull().any().any():\n",
        "        raise ValueError(\"Dataset contains missing values.\")\n",
        "\n",
        "    X = df.drop(\"target\", axis=1)\n",
        "    y = df[\"target\"]\n",
        "\n",
        "    # 3. Train-test split\n",
        "    X_train, X_test, y_train, y_test = train_test_split(X, y, test_size=0.2)\n",
        "\n",
        "    # 4. Train the model\n",
        "    model = LogisticRegression()\n",
        "    model.fit(X_train, y_train)\n",
        "\n",
        "    # 5. Save the model\n",
        "    joblib.dump(model, \"model.pkl\")\n",
        "    print(\"✅ Model trained and saved successfully!\")\n",
        "\n",
        "except FileNotFoundError as fnf_err:\n",
        "    print(\"❌ File Error:\", fnf_err)\n",
        "\n",
        "except ValueError as val_err:\n",
        "    print(\"❌ Data Error:\", val_err)\n",
        "\n",
        "except Exception as e:\n",
        "    print(\"❌ An unexpected error occurred:\", e)\n",
        "\n",
        "finally:\n",
        "    print(\"🔚 Pipeline completed (with or without errors).\")\n"
      ],
      "metadata": {
        "colab": {
          "base_uri": "https://localhost:8080/"
        },
        "id": "x3C1iHVxb_lc",
        "outputId": "89c23ddb-0b54-44cf-e212-35f61024c549"
      },
      "execution_count": null,
      "outputs": [
        {
          "output_type": "stream",
          "name": "stdout",
          "text": [
            "❌ File Error: Dataset 'data.csv' not found.\n",
            "🔚 Pipeline completed (with or without errors).\n"
          ]
        }
      ]
    },
    {
      "cell_type": "code",
      "source": [
        "# Problem: custom exception declaration, raising and handling\n",
        "\n",
        "\"\"\"\n",
        "Let's divide the problems into multiple subproblems.\n",
        "\n",
        "1. Declare a custom exception\n",
        "2. Raise the custom exception\n",
        "3. Handle it using try-except\n",
        "\"\"\""
      ],
      "metadata": {
        "id": "8eda2_VQb_o0"
      },
      "execution_count": null,
      "outputs": []
    },
    {
      "cell_type": "code",
      "source": [
        "# ✅ Step 1: Declare a custom exception class\n",
        "class AgeTooSmallError(Exception):\n",
        "    \"\"\"Custom exception raised when age is below the allowed limit.\"\"\"\n",
        "    def __init__(self, message=\"Age is too small. Minimum age is 18.\"):\n",
        "        self.message = message\n",
        "        super().__init__(self.message)\n",
        "\n",
        "# 🚀 Step 2: Function that raises the custom exception\n",
        "def register_user(age):\n",
        "    if age < 18:\n",
        "        raise AgeTooSmallError(f\"Provided age {age} is too small to register.\")\n",
        "    else:\n",
        "        print(\"Registration successful!\")\n",
        "\n",
        "# 🛠️ Step 3: Handle the exception using try-except\n",
        "try:\n",
        "    user_age = int(input(\"Enter your age: \"))\n",
        "    register_user(user_age)\n",
        "except AgeTooSmallError as e:\n",
        "    print(\"Custom Exception Caught:\", e)\n",
        "except ValueError:\n",
        "    print(\"Please enter a valid number.\")\n"
      ],
      "metadata": {
        "colab": {
          "base_uri": "https://localhost:8080/"
        },
        "id": "UYArFZ0ck9oJ",
        "outputId": "857badb5-361b-41b3-c26c-e82aaea1d6c6"
      },
      "execution_count": null,
      "outputs": [
        {
          "output_type": "stream",
          "name": "stdout",
          "text": [
            "Enter your age: -12\n",
            "Custom Exception Caught: Provided age -12 is too small to register.\n"
          ]
        }
      ]
    },
    {
      "cell_type": "markdown",
      "source": [
        "**IMPORTANT NOTE**\n",
        "\n",
        "1. If you do not explicitly call super().__init__() in the child class, the parent constructor is NOT called automatically.\n",
        "2. In C++, the parent constructor IS called automatically before the child constructor — unless you explicitly suppress it or choose a different constructor.\n",
        "\n",
        "---"
      ],
      "metadata": {
        "id": "lbkXK0YgqI73"
      }
    },
    {
      "cell_type": "markdown",
      "source": [
        "```python\n",
        "Runtime Errors (During Execution)\n",
        "1. Exceptions (try-except works)\n",
        "2. Fatal system-level errors (rare)\n",
        "\n",
        "```"
      ],
      "metadata": {
        "id": "EqercijZqJCn"
      }
    },
    {
      "cell_type": "markdown",
      "source": [
        "**References**\n",
        "1. https://www.codechef.com/learn/course/oops-concepts-in-python\n",
        "2."
      ],
      "metadata": {
        "id": "b3Vh7Av1YiRK"
      }
    }
  ]
}