{
 "cells": [
  {
   "cell_type": "code",
   "execution_count": null,
   "metadata": {
    "id": "uf9rNL1B72mw"
   },
   "outputs": [],
   "source": [
    "https://www.codechef.com/learn/course/oops-concepts-in-python/CPOPPY12/problems/ADVPPY108"
   ]
  },
  {
   "cell_type": "markdown",
   "metadata": {
    "id": "K_RUK8axUmCo"
   },
   "source": [
    "# 🧵 Processes and Threads\n",
    "\n",
    "Processes and threads are fundamental concepts in **computer science** and **operating systems** that enable programs to execute concurrently and efficiently. They are essential for **multitasking** and **parallelism** in modern computing systems.\n",
    "\n",
    "---\n",
    "\n",
    "## 🔄 Processes\n",
    "\n",
    "- A **process** is an **independent and self-contained unit** of a running program.\n",
    "- Each process has:\n",
    "  - Its own **memory space**\n",
    "  - **Program code**\n",
    "  - **Data**\n",
    "  - **System resources**\n",
    "- Processes run **concurrently**, allowing multiple programs to execute simultaneously.\n",
    "- One process **cannot directly access** the memory of another process.\n",
    "\n",
    "---\n",
    "\n",
    "## 🧶 Threads\n",
    "\n",
    "- A **thread** is the **smallest unit of execution** within a process.\n",
    "- All threads in the same process **share**:\n",
    "  - The **same memory space**\n",
    "  - **Resources** (e.g., file descriptors)\n",
    "- Threads are **lightweight** and allow for efficient **concurrent execution**.\n",
    "- Because of shared memory, threads can **easily communicate** and **share data**.\n",
    "\n",
    "---\n",
    "\n",
    "## ✅ Summary\n",
    "\n",
    "- Both **processes** and **threads** help achieve **concurrency** and **parallelism**.\n",
    "- Use **processes** when:\n",
    "  - Isolation and independent memory are needed.\n",
    "  - The tasks are heavy and need dedicated resources.\n",
    "- Use **threads** when:\n",
    "  - Tasks are related and need to **share data quickly**.\n",
    "  - **Lightweight** multitasking is preferred.\n",
    "\n",
    "---\n"
   ]
  },
  {
   "cell_type": "markdown",
   "metadata": {
    "id": "yzJNf5PxVEtA"
   },
   "source": [
    "# ⚙️ Types of Processor Execution with Respect to a Process\n",
    "\n",
    "Processor execution models determine how processes (and their tasks) are executed on CPUs. Based on execution behavior, these can be categorized as follows:\n",
    "\n",
    "---\n",
    "\n",
    "## 1. 🔁 **Single-threaded Execution**\n",
    "\n",
    "- The process has **only one thread** of execution.\n",
    "- The CPU executes **one instruction at a time** from the process.\n",
    "- No parallelism within the process.\n",
    "- Simpler to implement, but cannot utilize multi-core CPUs effectively.\n",
    "\n",
    "📌 **Example**: A basic script or CLI program with sequential execution.\n",
    "\n",
    "---\n",
    "\n",
    "## 2. 🧵 **Multi-threaded Execution**\n",
    "\n",
    "- A single process contains **multiple threads**.\n",
    "- Threads share the same memory and resources.\n",
    "- **Concurrent or parallel execution** on multi-core CPUs.\n",
    "- Useful for tasks like web servers, where multiple requests can be handled simultaneously.\n",
    "\n",
    "📌 **Example**: A browser process with separate threads for rendering, JavaScript execution, and network.\n",
    "\n",
    "---\n",
    "\n",
    "## 3. ⛓️ **Multi-processing Execution**\n",
    "\n",
    "- Multiple **independent processes** are executed.\n",
    "- Each process has its **own memory space**.\n",
    "- Parallel execution is possible if multiple CPU cores are available.\n",
    "- Provides better **fault isolation** than multi-threading.\n",
    "\n",
    "📌 **Example**: A photo editing app spawning a separate process for each filter operation.\n",
    "\n",
    "---\n",
    "\n",
    "## 4. 🔁 **Time-sharing (Context Switching)**\n",
    "\n",
    "- The CPU switches between multiple processes (or threads) **rapidly**.\n",
    "- Creates an illusion of **simultaneous execution** on a single-core processor.\n",
    "- Managed by the operating system using **context switching**.\n",
    "- Essential for multitasking on traditional systems.\n",
    "\n",
    "📌 **Example**: Typing in a word processor while music is playing in the background.\n",
    "\n",
    "---\n",
    "\n",
    "## 5. 💡 **Asynchronous/Non-blocking Execution**\n",
    "\n",
    "- The process may use **asynchronous calls** to avoid blocking on I/O or long-running tasks.\n",
    "- Improves efficiency by **not holding CPU** while waiting for an external operation.\n",
    "- Often used in **event-driven** or **I/O-bound** applications.\n",
    "\n",
    "📌 **Example**: Node.js applications using async I/O to handle thousands of connections.\n",
    "\n",
    "---\n",
    "\n",
    "## ✅ Summary\n",
    "\n",
    "| Execution Type       | Parallel? | Shared Memory? | Use Case                      |\n",
    "|----------------------|-----------|----------------|-------------------------------|\n",
    "| Single-threaded      | ❌        | N/A            | Simple sequential tasks       |\n",
    "| Multi-threaded       | ✅        | ✅             | UI apps, servers              |\n",
    "| Multi-processing     | ✅        | ❌             | CPU-intensive tasks           |\n",
    "| Time-sharing         | ❌ (illusion) | Depends   | Multitasking on single core   |\n",
    "| Asynchronous         | ✅ (I/O wait) | ✅         | High-performance I/O apps     |\n",
    "\n",
    "---\n"
   ]
  },
  {
   "cell_type": "markdown",
   "metadata": {
    "id": "FYXJTcqkV0i7"
   },
   "source": [
    "## ✅ Important Point\n",
    "\n",
    "| Concept         | Explanation                                                                        |\n",
    "| --------------- | ---------------------------------------------------------------------------------- |\n",
    "| **Concurrency** | Multiple processes are **in progress** at the same time (interleaved execution).   |\n",
    "| **Parallelism** | Multiple processes are **executing at the same instant** (simultaneous execution). |\n"
   ]
  },
  {
   "cell_type": "markdown",
   "metadata": {
    "id": "-0kUHYszV6NX"
   },
   "source": [
    "## Multithreading\n",
    "\n",
    "Multithreading in Python allows you to run multiple threads (smaller units of a process) concurrently."
   ]
  },
  {
   "cell_type": "markdown",
   "metadata": {
    "id": "ii9HULDyY9gz"
   },
   "source": [
    "---\n",
    "\n",
    "### **Does Python Supports Multi-threading ?**\n",
    "\n",
    "Python supports multi-threading, but with some important caveats — especially regarding true parallelism due to the Global Interpreter Lock (GIL).\n",
    "\n",
    "1. The GIL is a mutex that allows only one thread to execute Python bytecode at a time, even on multi-core processors.\n",
    "\n",
    "2. This means Python threads do not achieve true parallelism for CPU-bound tasks.\n",
    "\n",
    "3. So, multi-threading is not ideal for CPU-heavy operations in CPython (the default Python interpreter).\n",
    "\n",
    "**✅ When Multi-threading Works Well**\n",
    "\n",
    "Multi-threading is useful for I/O-bound tasks:\n",
    "- Reading/writing files\n",
    "- Making network requests\n",
    "- Waiting on databases or APIs\n",
    "\n",
    "Python threads can release the GIL while waiting on I/O, allowing other threads to run\n",
    "\n",
    "---"
   ]
  },
  {
   "cell_type": "markdown",
   "metadata": {
    "id": "4EmyTBJNaTzO"
   },
   "source": [
    "### Summary\n",
    "| Feature               | Multi-threading in Python |\n",
    "| --------------------- | ------------------------- |\n",
    "| Supported?            | ✅ Yes                     |\n",
    "| True parallelism?     | ❌ No (because of GIL)     |\n",
    "| Best for              | I/O-bound tasks           |\n",
    "| CPU-bound alternative | ✅ Use `multiprocessing`   |\n"
   ]
  },
  {
   "cell_type": "markdown",
   "metadata": {
    "id": "c6hQizXXadow"
   },
   "source": [
    "---\n",
    "\n",
    "Python's threading module provides a way to create and manage threads.\n",
    "\n",
    "Here's a brief overview of creating, starting a thread, synchronization, thread state, and thread termination:"
   ]
  },
  {
   "cell_type": "markdown",
   "metadata": {
    "id": "t5N896Lzarmc"
   },
   "source": [
    "**1. Creating a Thread:**\n",
    "\n",
    "You can create a thread by subclassing the Thread class from the threading module and overriding the run() method. Here's an example:"
   ]
  },
  {
   "cell_type": "code",
   "execution_count": null,
   "metadata": {
    "id": "coeQwETran21"
   },
   "outputs": [],
   "source": [
    "import threading\n",
    "\n",
    "class MyThread(threading.Thread):\n",
    "    def run(self):\n",
    "        # Code to be executed in the thread\n",
    "        print(\"Thread is running!\")\n",
    "\n",
    "# Create an instance of the custom thread class\n",
    "my_thread = MyThread()"
   ]
  },
  {
   "cell_type": "markdown",
   "metadata": {
    "id": "-S1wvj_fa8QI"
   },
   "source": [
    "**2. Starting a Thread:**\n",
    "\n",
    "Once you've created a thread instance, you can start it using the start() method. This method internally calls the run() method you defined."
   ]
  },
  {
   "cell_type": "code",
   "execution_count": null,
   "metadata": {
    "colab": {
     "base_uri": "https://localhost:8080/"
    },
    "id": "ECPk6mnxa24R",
    "outputId": "a6e76879-bdd9-4ff2-aa76-1b41c8f42f3a"
   },
   "outputs": [
    {
     "name": "stdout",
     "output_type": "stream",
     "text": [
      "Thread is running!\n"
     ]
    }
   ],
   "source": [
    "my_thread.start()"
   ]
  },
  {
   "cell_type": "markdown",
   "metadata": {
    "id": "sdUlRFO8bIp0"
   },
   "source": [
    "**3. Synchronization:**\n",
    "\n",
    "When multiple threads access shared resources, it's essential to synchronize them to avoid data corruption or unexpected behavior. You can use locks from the threading module for synchronization:\n"
   ]
  },
  {
   "cell_type": "markdown",
   "metadata": {
    "id": "SqTCsJPEbLGZ"
   },
   "source": [
    "**4. Thread State:**\n",
    "\n",
    "You can check the state of a thread using the is_alive() method. It returns True if the thread is currently executing.\n",
    "\n"
   ]
  },
  {
   "cell_type": "markdown",
   "metadata": {
    "id": "ljsYUX92bLJx"
   },
   "source": [
    "**5. Thread Join:**\n",
    "\n",
    "This method waits for the thread to complete its execution."
   ]
  },
  {
   "cell_type": "code",
   "execution_count": null,
   "metadata": {
    "colab": {
     "base_uri": "https://localhost:8080/"
    },
    "id": "DXTbe4r3bBSh",
    "outputId": "dc3dd28c-9002-4652-856c-1a35fbc82b3c"
   },
   "outputs": [
    {
     "name": "stdout",
     "output_type": "stream",
     "text": [
      "Thread has finished.\n"
     ]
    }
   ],
   "source": [
    "my_thread.join()\n",
    "print(\"Thread has finished.\")"
   ]
  },
  {
   "cell_type": "markdown",
   "metadata": {
    "id": "Swafoimxbdjc"
   },
   "source": [
    "Additionally, you can use the `Thread` class's `terminate()` method to forcefully terminate a thread. However, it's generally not recommended to forcefully terminate threads due to potential resource leaks and data corruption."
   ]
  },
  {
   "cell_type": "markdown",
   "metadata": {
    "id": "b5x3j9PSpDzL"
   },
   "source": [
    "**Sleep method in Python**"
   ]
  },
  {
   "cell_type": "code",
   "execution_count": null,
   "metadata": {
    "colab": {
     "base_uri": "https://localhost:8080/"
    },
    "id": "y7ZEgxwWbax6",
    "outputId": "5a9a3a7a-1c9d-4ee0-df40-292755e6c789"
   },
   "outputs": [
    {
     "name": "stdout",
     "output_type": "stream",
     "text": [
      "Before sleep: 2025-06-22 17:24:12.571281\n",
      "After sleep: 2025-06-22 17:24:14.571871\n"
     ]
    }
   ],
   "source": [
    "import time\n",
    "from datetime import datetime\n",
    "\n",
    "print(\"Before sleep:\", datetime.now())\n",
    "time.sleep(2)  # Sleep for 0.2 seconds\n",
    "print(\"After sleep:\", datetime.now())"
   ]
  },
  {
   "cell_type": "markdown",
   "metadata": {
    "id": "hOaC456Gq9eW"
   },
   "source": [
    "**Join method in Python**"
   ]
  },
  {
   "cell_type": "code",
   "execution_count": null,
   "metadata": {
    "colab": {
     "base_uri": "https://localhost:8080/"
    },
    "id": "Cl0AucwfpJWR",
    "outputId": "94d3fbb0-2d5f-4a44-cbd5-6291d0dcb35a"
   },
   "outputs": [
    {
     "name": "stdout",
     "output_type": "stream",
     "text": [
      "Thread is running!\n"
     ]
    }
   ],
   "source": [
    "my_thread = MyThread()\n",
    "my_thread.start()\n",
    "\n",
    "# Wait for the thread to finish\n",
    "my_thread.join()"
   ]
  },
  {
   "cell_type": "markdown",
   "metadata": {
    "id": "8zTziGsTraLH"
   },
   "source": [
    "**Threading Example**"
   ]
  },
  {
   "cell_type": "code",
   "execution_count": null,
   "metadata": {
    "colab": {
     "base_uri": "https://localhost:8080/"
    },
    "id": "NqdlUT-5rJkS",
    "outputId": "284f41e4-61f2-4d21-a0c3-c8ecc4669ee3"
   },
   "outputs": [
    {
     "name": "stdout",
     "output_type": "stream",
     "text": [
      "Thread 2: 0\n",
      "Thread 1: 0\n",
      "Thread 2: 1\n",
      "Thread 1: 1\n",
      "Thread 2: 2\n",
      "Thread 1: 2\n",
      "Thread 2: 3\n",
      "Thread 1: 3\n",
      "Thread 2: 4\n",
      "Thread 1: 4\n",
      "Main thread: Done!\n"
     ]
    }
   ],
   "source": [
    "import threading\n",
    "import time\n",
    "\n",
    "# Thread function 1\n",
    "def thread_function_1():\n",
    "    for i in range(5):\n",
    "        time.sleep(0.01)  # Simulate some time-consuming task\n",
    "        print(\"Thread 1: {}\".format(i))\n",
    "\n",
    "# Thread function 2\n",
    "def thread_function_2():\n",
    "    for i in range(5):\n",
    "        time.sleep(0.01)  # Simulate some time-consuming task\n",
    "        print(\"Thread 2: {}\".format(i))\n",
    "\n",
    "# Create thread instances\n",
    "thread_1 = threading.Thread(target=thread_function_1)\n",
    "thread_2 = threading.Thread(target=thread_function_2)\n",
    "\n",
    "# Start the threads\n",
    "thread_2.start()\n",
    "thread_1.start()\n",
    "\n",
    "# Wait for both threads to finish\n",
    "thread_2.join()\n",
    "thread_1.join()\n",
    "\n",
    "# Main thread continues here\n",
    "print(\"Main thread: Done!\")"
   ]
  },
  {
   "cell_type": "code",
   "execution_count": null,
   "metadata": {
    "id": "ZKo0l-spruGr"
   },
   "outputs": [],
   "source": [
    "# Problem Practice : Concurrent Array Sum"
   ]
  },
  {
   "cell_type": "code",
   "execution_count": null,
   "metadata": {
    "id": "vRgjWLIYtDAM"
   },
   "outputs": [],
   "source": [
    "import threading\n",
    "\n",
    "ARRAY_SIZE = 9\n",
    "NUM_SEGMENTS = 3\n",
    "\n",
    "# Object for synchronization\n",
    "lock = threading.Lock()\n",
    "\n",
    "def calculate_segment_sum(array, segment_id, segment_sum):\n",
    "    start = segment_id * (ARRAY_SIZE // NUM_SEGMENTS)\n",
    "    end = (segment_id + 1) * (ARRAY_SIZE // NUM_SEGMENTS)\n",
    "\n",
    "    segment_sum[segment_id] = 0\n",
    "\n",
    "    for i in range(start, end):\n",
    "        segment_sum[segment_id] += array[i]\n",
    "\n",
    "\n",
    "array = list(range(1, 10))\n",
    "\n",
    "# Threads list stores all the threads\n",
    "threads = []\n",
    "\n",
    "# SegmentSums array stores the sum of each segment\n",
    "segment_sums = [0] * NUM_SEGMENTS\n",
    "\n",
    "# Create threads to calculate segment sums\n",
    "for i in range(NUM_SEGMENTS):\n",
    "    segment_id = i\n",
    "    thread = threading.Thread(target=calculate_segment_sum,\n",
    "                              args=(array, segment_id, segment_sums))\n",
    "    threads.append(thread)\n",
    "\n",
    "# Start all threads\n",
    "for thread in threads:\n",
    "    thread.start()\n",
    "\n",
    "# Wait for all threads to finish\n",
    "for thread in threads:\n",
    "    thread.join()\n",
    "\n",
    "# Calculate the total sum by combining segment sums\n",
    "total_sum = sum(segment_sums)\n",
    "\n",
    "# Display individual segment sums and the total sum\n",
    "for i in range(NUM_SEGMENTS):\n",
    "    print(\"Segment\", i, \"Sum:\", segment_sums[i])\n",
    "\n",
    "print(\"Total Sum:\", total_sum)\n"
   ]
  },
  {
   "cell_type": "markdown",
   "metadata": {
    "id": "0ro6BCrhuIe1"
   },
   "source": [
    "**How to interrupt threads in Python ?**\n",
    "\n",
    "1. Using a shared variable or flag\n",
    "2. Using the `Event` object\n",
    "3. Using the Thread class's `join()` method"
   ]
  },
  {
   "cell_type": "code",
   "execution_count": null,
   "metadata": {
    "colab": {
     "base_uri": "https://localhost:8080/"
    },
    "id": "ptx1wQ5MwLf3",
    "outputId": "2a9fe664-1b80-449f-c42a-7b1d5cb8b6e4"
   },
   "outputs": [
    {
     "name": "stdout",
     "output_type": "stream",
     "text": [
      "Thread started.\n",
      "Thread is doing some work...\n",
      "Thread is doing some work...\n",
      "Thread is doing some work...\n",
      "Thread is doing some work...\n",
      "Thread is doing some work...\n",
      "Interrupting the thread.\n",
      "Thread stopped.\n",
      "Main thread: Thread has completed.\n"
     ]
    }
   ],
   "source": [
    "# 1. How to interrupt thread using flag ?\n",
    "\n",
    "import threading\n",
    "import time\n",
    "\n",
    "# Shared flag\n",
    "stop_flag = False\n",
    "\n",
    "def my_thread_function():\n",
    "    print(\"Thread started.\")\n",
    "    while not stop_flag:\n",
    "        print(\"Thread is doing some work...\")\n",
    "        time.sleep(0.01)  # Simulate some work\n",
    "    print(\"Thread stopped.\")\n",
    "\n",
    "# Create and start the thread\n",
    "my_thread = threading.Thread(target=my_thread_function)\n",
    "my_thread.start()\n",
    "\n",
    "# In the main thread, we simulate some other work by sleeping for 50 millisecond.\n",
    "time.sleep(0.05)\n",
    "\n",
    "# Interrupt the thread by setting the stop flag\n",
    "print(\"Interrupting the thread.\")\n",
    "stop_flag = True\n",
    "\n",
    "# We call the join() method on the my_thread object to wait for the thread to complete its execution.\n",
    "# This ensures that the main thread doesn't exit before the thread completes its work.\n",
    "my_thread.join()\n",
    "print(\"Main thread: Thread has completed.\")"
   ]
  },
  {
   "cell_type": "code",
   "execution_count": null,
   "metadata": {
    "colab": {
     "base_uri": "https://localhost:8080/"
    },
    "id": "WanoCMIUxR5c",
    "outputId": "ccafc140-dd17-496f-cae2-e41dbec89b7d"
   },
   "outputs": [
    {
     "name": "stdout",
     "output_type": "stream",
     "text": [
      "Thread is running...\n",
      "Thread is running...\n",
      "Thread is running...\n",
      "Thread is running...\n",
      "Thread is running...\n",
      "Interrupting the thread...\n",
      "Main thread: Done!\n"
     ]
    }
   ],
   "source": [
    "# How to interrupt thread using Event object ?\n",
    "import threading\n",
    "import time\n",
    "\n",
    "# Create an event object\n",
    "stop_event = threading.Event()\n",
    "\n",
    "def my_thread_function():\n",
    "    while not stop_event.is_set():\n",
    "        print(\"Thread is running...\")\n",
    "        time.sleep(0.01)  # Simulate some work\n",
    "\n",
    "# Create and start the thread\n",
    "my_thread = threading.Thread(target=my_thread_function)\n",
    "my_thread.start()\n",
    "\n",
    "# Wait for 50 milliseconds\n",
    "time.sleep(0.05)\n",
    "\n",
    "# Set the event to interrupt the thread\n",
    "print(\"Interrupting the thread...\")\n",
    "stop_event.set()\n",
    "\n",
    "# Wait for the thread to finish\n",
    "my_thread.join()\n",
    "\n",
    "print(\"Main thread: Done!\")"
   ]
  },
  {
   "cell_type": "markdown",
   "metadata": {
    "id": "DVuAqUdkyO7f"
   },
   "source": [
    "This example demonstrates how to interrupt a thread using the Event object. The thread periodically checks the state of the stop_event, and once it's set, the thread exits gracefully.\n",
    "\n",
    "---"
   ]
  },
  {
   "cell_type": "markdown",
   "metadata": {
    "id": "yh3_pJKKuMOV"
   },
   "source": [
    "\n",
    "### Thread Synchronization\n"
   ]
  },
  {
   "cell_type": "markdown",
   "metadata": {
    "id": "MXWp-QHczKOs"
   },
   "source": [
    "Thread synchronization in Python is about **coordinating the execution of multiple threads** to ensure:\n",
    "\n",
    "- Safe access to **shared resources**\n",
    "- Avoidance of **race conditions**\n",
    "\n",
    "---\n",
    "\n",
    "### 🔐 Why Synchronization is Needed?\n",
    "\n",
    "When multiple threads access shared data **without synchronization**, it may lead to:\n",
    "- Corrupted data\n",
    "- Unexpected behavior\n",
    "- Difficult-to-debug issues\n",
    "\n",
    "---\n",
    "\n",
    "Python provides several mechanisms for thread synchronization, including locks, semaphores, events, and conditions.\n",
    "\n",
    "An overview of two common thread synchronization mechanisms in Python\n",
    "---\n",
    "\n",
    "### ✅ Locks\n",
    "\n",
    "- Locks are the most basic synchronization mechanism in Python. They allow only one thread to acquire the lock at a time.\n",
    "- The `threading.Lock` class provides a simple lock implementation that can be used to protect critical sections of code.\n",
    "- Threads acquire the lock using the `acquire()` method and release it using the `release()` method.\n",
    "\n",
    "---\n",
    "### ✅ Semaphores\n",
    "- Semaphores are used to control access to a shared resource with limited capacity. They maintain a count representing the number of available resources.\n",
    "-The `threading.Semaphore` class provides `semaphore` objects that can be used to synchronize access to shared resources.\n",
    "- Threads acquire resources from the semaphore using the `acquire()` method and release them using the `release()` method.\n",
    "\n",
    "---\n"
   ]
  },
  {
   "cell_type": "code",
   "execution_count": null,
   "metadata": {
    "colab": {
     "base_uri": "https://localhost:8080/"
    },
    "id": "jeLnDESK1YjS",
    "outputId": "f7e0350d-ee3e-4e59-afd5-96e8a43cffd2"
   },
   "outputs": [
    {
     "name": "stdout",
     "output_type": "stream",
     "text": [
      "Final value of shared variable: 50\n"
     ]
    }
   ],
   "source": [
    "# Locks Example\n",
    "\n",
    "import threading\n",
    "import time\n",
    "\n",
    "# Global variable shared among threads\n",
    "shared_variable = 0\n",
    "\n",
    "# Create a lock\n",
    "lock = threading.Lock()\n",
    "\n",
    "# Function to increment the shared variable\n",
    "def increment():\n",
    "    global shared_variable\n",
    "    for _ in range(10):\n",
    "        # Acquire the lock before modifying the shared variable\n",
    "        lock.acquire()\n",
    "        shared_variable += 1\n",
    "        # Release the lock after modifying the shared variable\n",
    "        lock.release()\n",
    "\n",
    "# Create multiple threads to increment the shared variable\n",
    "threads = []\n",
    "for _ in range(5):\n",
    "    thread = threading.Thread(target=increment)\n",
    "    thread.start()\n",
    "    threads.append(thread)\n",
    "\n",
    "# Wait for all threads to complete\n",
    "for thread in threads:\n",
    "    thread.join()\n",
    "\n",
    "# Print the final value of the shared variable\n",
    "print(\"Final value of shared variable:\", shared_variable)"
   ]
  },
  {
   "cell_type": "code",
   "execution_count": null,
   "metadata": {
    "colab": {
     "base_uri": "https://localhost:8080/"
    },
    "id": "FG1PVCQn1ZIE",
    "outputId": "90a2e7d9-7909-4431-ff82-31b1f3cb0cc3"
   },
   "outputs": [
    {
     "name": "stdout",
     "output_type": "stream",
     "text": [
      "Thread 0 is trying to acquire the semaphore.\n",
      "Thread 0 has acquired the semaphore.\n",
      "Thread 0 is accessing the shared resource.\n",
      "Thread 0 has released the semaphore.\n",
      "Thread 1 is trying to acquire the semaphore.\n",
      "Thread 1 has acquired the semaphore.\n",
      "Thread 1 is accessing the shared resource.\n",
      "Thread 2 is trying to acquire the semaphore.\n",
      "Thread 2 has acquired the semaphore.\n",
      "Thread 2 is accessing the shared resource.\n",
      "Thread 3 is trying to acquire the semaphore.\n",
      "Thread 4 is trying to acquire the semaphore.\n",
      "Thread 1 has released the semaphore.\n",
      "Thread 3 has acquired the semaphore.\n",
      "Thread 3 is accessing the shared resource.\n",
      "Thread 2 has released the semaphore.\n",
      "Thread 4 has acquired the semaphore.\n",
      "Thread 4 is accessing the shared resource.\n",
      "Thread 3 has released the semaphore.\n",
      "Thread 4 has released the semaphore.\n",
      "All threads have completed their execution.\n"
     ]
    }
   ],
   "source": [
    "# Semaphore Example\n",
    "\n",
    "import threading\n",
    "import time\n",
    "\n",
    "# Define a semaphore with a maximum of 2 resources\n",
    "semaphore = threading.Semaphore(2)\n",
    "\n",
    "# Function to access the shared resource\n",
    "def access_resource(thread_id):\n",
    "    print(f\"Thread {thread_id} is trying to acquire the semaphore.\")\n",
    "    # Acquire the semaphore\n",
    "    semaphore.acquire()\n",
    "    print(f\"Thread {thread_id} has acquired the semaphore.\")\n",
    "    try:\n",
    "        # Simulate accessing the shared resource\n",
    "        print(f\"Thread {thread_id} is accessing the shared resource.\")\n",
    "        time.sleep(0.002)\n",
    "    finally:\n",
    "        # Release the semaphore\n",
    "        semaphore.release()\n",
    "        print(f\"Thread {thread_id} has released the semaphore.\")\n",
    "\n",
    "# Create multiple threads to access the shared resource\n",
    "threads = []\n",
    "for i in range(5):\n",
    "    thread = threading.Thread(target=access_resource, args=(i,))\n",
    "    threads.append(thread)\n",
    "    thread.start()\n",
    "\n",
    "# Wait for all threads to complete\n",
    "for thread in threads:\n",
    "    thread.join()\n",
    "\n",
    "print(\"All threads have completed their execution.\")"
   ]
  },
  {
   "cell_type": "code",
   "execution_count": null,
   "metadata": {
    "id": "r_xvQ_xM1xWt"
   },
   "outputs": [],
   "source": [
    "\"\"\"\n",
    "Concurrent Counter with Locks\n",
    "\n",
    "You are tasked with implementing a concurrent counter in Python using locks. The counter should support the following operations:\n",
    "\n",
    "increment(): Increment the counter by 1.\n",
    "decrement(): Decrement the counter by 1.\n",
    "get_count(): Get the current value of the counter.\n",
    "\n",
    "You need to ensure that the counter operations are thread-safe and that multiple threads can increment and decrement the counter concurrently without data corruption.\n",
    "\"\"\""
   ]
  },
  {
   "cell_type": "code",
   "execution_count": null,
   "metadata": {
    "colab": {
     "base_uri": "https://localhost:8080/"
    },
    "id": "x75ODFOT2Enf",
    "outputId": "c0457f6b-f4c8-40af-c57e-fb16ec27e4bd"
   },
   "outputs": [
    {
     "name": "stdout",
     "output_type": "stream",
     "text": [
      "Final count: 900\n"
     ]
    }
   ],
   "source": [
    "import threading\n",
    "\n",
    "class Counter:\n",
    "    def __init__(self):\n",
    "        # Initialize the counter and a lock\n",
    "        self.count = 0\n",
    "        self.lock = threading.Lock()\n",
    "\n",
    "    def increment(self):\n",
    "        # Acquire the lock before modifying the counter\n",
    "        with self.lock:\n",
    "            self.count += 1\n",
    "\n",
    "    def decrement(self):\n",
    "        # Acquire the lock before modifying the counter\n",
    "        with self.lock:\n",
    "            self.count -= 1\n",
    "\n",
    "    def get_count(self):\n",
    "        # Acquire the lock before reading the counter\n",
    "        with self.lock:\n",
    "            return self.count\n",
    "\n",
    "\n",
    "counter = Counter()\n",
    "\n",
    "# Function to increment the counter\n",
    "def increment_counter():\n",
    "    for _ in range(1000):\n",
    "        counter.increment()\n",
    "\n",
    "# Function to decrement the counter\n",
    "def decrement_counter():\n",
    "    for _ in range(100):\n",
    "        counter.decrement()\n",
    "\n",
    "# Create two threads to increment and decrement the counter concurrently\n",
    "thread1 = threading.Thread(target=increment_counter)\n",
    "thread2 = threading.Thread(target=decrement_counter)\n",
    "\n",
    "thread1.start()\n",
    "thread2.start()\n",
    "\n",
    "thread1.join()\n",
    "thread2.join()\n",
    "\n",
    "# Print the final value of the counter\n",
    "print(\"Final count:\", counter.get_count())\n"
   ]
  },
  {
   "cell_type": "code",
   "execution_count": null,
   "metadata": {
    "id": "63dazHfb2OyU"
   },
   "outputs": [],
   "source": []
  }
 ],
 "metadata": {
  "colab": {
   "provenance": []
  },
  "kernelspec": {
   "display_name": "Python 3 (ipykernel)",
   "language": "python",
   "name": "python3"
  },
  "language_info": {
   "codemirror_mode": {
    "name": "ipython",
    "version": 3
   },
   "file_extension": ".py",
   "mimetype": "text/x-python",
   "name": "python",
   "nbconvert_exporter": "python",
   "pygments_lexer": "ipython3",
   "version": "3.13.5"
  }
 },
 "nbformat": 4,
 "nbformat_minor": 4
}
