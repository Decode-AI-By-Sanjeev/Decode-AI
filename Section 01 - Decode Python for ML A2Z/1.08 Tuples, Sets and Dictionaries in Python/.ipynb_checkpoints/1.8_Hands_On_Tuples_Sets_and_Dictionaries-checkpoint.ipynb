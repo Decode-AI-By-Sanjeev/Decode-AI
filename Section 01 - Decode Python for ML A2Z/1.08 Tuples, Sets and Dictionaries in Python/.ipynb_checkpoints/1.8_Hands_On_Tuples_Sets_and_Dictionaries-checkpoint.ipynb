{
 "cells": [
  {
   "cell_type": "markdown",
   "id": "de0aa18e-b876-426e-ba56-1e6c462ccbd5",
   "metadata": {},
   "source": [
    "<p align=\"center\">\n",
    "  <img src=\"DECODE_AI_BANNER.png\" alt=\"Description\" width=\"1400\"/>\n",
    "</p>\n"
   ]
  },
  {
   "cell_type": "markdown",
   "id": "c9b20e21-e9c0-40f3-affa-2538af9a930a",
   "metadata": {},
   "source": [
    "## In this session, we are going to learn the following Containers data types:\n",
    "1. ✅ Tuple\n",
    "2. ✅ Set\n",
    "3. ✅ Dictionary"
   ]
  },
  {
   "cell_type": "markdown",
   "id": "e5aaa831-568c-4b84-81f2-a3797bc2d536",
   "metadata": {},
   "source": [
    "# 1. Tuples in Python\n",
    "\n",
    "In Python, **tuples** are similar to lists but they are **immutable** — meaning they **cannot be changed** after creation. Tuples are often used to represent fixed collections of items, such as the days of the week or calendar dates.\n",
    "\n",
    "---\n",
    "\n",
    "## What You'll Learn\n",
    "\n",
    "In this section, we’ll explore:\n",
    "\n",
    "1. Constructing Tuples  \n",
    "2. Basic Tuple Methods  \n",
    "3. Immutability  \n",
    "4. When to Use Tuples ?\n",
    "\n",
    "You’ll develop an intuition for using tuples based on your understanding of lists.  \n",
    "While tuples and lists are structurally similar, the key difference is that **tuples are immutable**.\n",
    "\n",
    "---\n",
    "\n",
    "## 🛠️ Constructing Tuples\n",
    "\n",
    "Tuples are created using **parentheses `()`** with elements separated by **commas**.\n",
    "\n",
    "### 📌 Example:\n",
    "```python\n",
    "# Creating a tuple\n",
    "my_tuple = (1, 2, 3)\n",
    "\n",
    "# Tuple with different data types\n",
    "mixed_tuple = (10, \"Python\", True)\n"
   ]
  },
  {
   "cell_type": "markdown",
   "id": "b9a63c71-e669-4694-9fda-b1303950b45d",
   "metadata": {},
   "source": [
    "## Hands-on Time"
   ]
  },
  {
   "cell_type": "code",
   "execution_count": 1,
   "id": "28d5deab-9edd-453b-9915-545585f68054",
   "metadata": {},
   "outputs": [],
   "source": [
    "#Homogenous types\n"
   ]
  },
  {
   "cell_type": "code",
   "execution_count": 2,
   "id": "76889070-f0f5-4c5a-b151-1e561a045280",
   "metadata": {},
   "outputs": [],
   "source": [
    "#Heterogenous types\n"
   ]
  },
  {
   "cell_type": "markdown",
   "id": "f287bc8e-32e0-4f98-afa2-f616e44e630c",
   "metadata": {},
   "source": [
    "### Indexing and slicing"
   ]
  },
  {
   "cell_type": "code",
   "execution_count": 3,
   "id": "be906dba-ec45-4373-b159-8b3ac5de2eae",
   "metadata": {},
   "outputs": [],
   "source": [
    "# constructing a tuple\n"
   ]
  },
  {
   "cell_type": "code",
   "execution_count": 4,
   "id": "2f8859a5-f2c7-45d9-ac9d-a6af3c667bc1",
   "metadata": {},
   "outputs": [],
   "source": [
    "# indexing - access 0th item\n"
   ]
  },
  {
   "cell_type": "code",
   "execution_count": 5,
   "id": "8f0f473d-bc18-40f5-85a7-0f923cb843c0",
   "metadata": {},
   "outputs": [],
   "source": [
    "# indexing - access last item\n"
   ]
  },
  {
   "cell_type": "code",
   "execution_count": 6,
   "id": "ea392603-e9ac-40c1-b161-902525554b8d",
   "metadata": {},
   "outputs": [],
   "source": [
    "# slicing - access all item starting from index 1\n"
   ]
  },
  {
   "cell_type": "code",
   "execution_count": 7,
   "id": "09ad9266-05e9-4968-a189-1602dc56db73",
   "metadata": {},
   "outputs": [],
   "source": [
    "# slicing - access alternate items in list like 0th,2nd,4th etc\n"
   ]
  },
  {
   "cell_type": "code",
   "execution_count": 8,
   "id": "582fa2dc-e8a3-45da-9a16-917f7f74be4c",
   "metadata": {},
   "outputs": [],
   "source": [
    "# slicing - tuple items in reverse\n"
   ]
  },
  {
   "cell_type": "markdown",
   "id": "afefcc5d-f804-40ce-a3bf-ddb727aa893e",
   "metadata": {},
   "source": [
    "## Basic Tuple Methods\n",
    "\n",
    "Tuples have built-in methods, but not as many as lists do. Let's see two samples of tuple built-in methods:"
   ]
  },
  {
   "cell_type": "code",
   "execution_count": 9,
   "id": "c08f7da5-6145-41ad-9f8c-6d0dba0b57d7",
   "metadata": {},
   "outputs": [],
   "source": [
    "# Use .index to enter a value and return the index\n"
   ]
  },
  {
   "cell_type": "code",
   "execution_count": 10,
   "id": "a6ef662a-d164-45bd-8d7f-7369b6abf95f",
   "metadata": {},
   "outputs": [],
   "source": [
    "# Use .count to count the number of times a value appears\n"
   ]
  },
  {
   "cell_type": "code",
   "execution_count": 11,
   "id": "f39d1d41-b1d7-46cf-803c-1b61514d4dc4",
   "metadata": {},
   "outputs": [],
   "source": [
    "# try to modify tuple values\n"
   ]
  },
  {
   "cell_type": "code",
   "execution_count": 12,
   "id": "fbf0100a-c072-43c9-af51-3198836ee266",
   "metadata": {},
   "outputs": [],
   "source": [
    "# try to modify tuple values\n"
   ]
  },
  {
   "cell_type": "markdown",
   "id": "bb6bed78-c6ff-449d-9f6a-783581c51a22",
   "metadata": {},
   "source": [
    "# 2. Sets in Python"
   ]
  },
  {
   "cell_type": "markdown",
   "id": "91deb306-fcc0-4f08-a919-ac3f9f6561a0",
   "metadata": {},
   "source": [
    "In Python, a **set** is an **unordered collection of unique elements**. Sets are mutable, but the elements they contain must be **immutable (hashable)**.\n",
    "\n",
    "Sets are useful when you want to **store multiple items**, but only care about **unique values**, such as removing duplicates or performing set operations (union, intersection, etc.).\n",
    "\n",
    "---\n",
    "\n",
    "### Key Features of Sets\n",
    "\n",
    "- **Unordered**: Elements have no defined order.\n",
    "- **No Duplicate Items**: Automatically removes duplicates.\n",
    "- **Mutable**: You can add or remove items.\n",
    "- **Iterable**: Can loop through sets.\n",
    "- **Unindexed**: Elements cannot be accessed using an index.\n",
    "\n",
    "---\n",
    "\n",
    "### Creating a Set\n",
    "\n",
    "You can create a set using the `set()` constructor or with curly braces `{}`.\n",
    "\n",
    "**Example**:\n",
    "```python\n",
    "# Using curly braces\n",
    "my_set = {1, 2, 3, 4}\n",
    "\n",
    "# Using the set() function\n",
    "another_set = set([1, 2, 2, 3, 4])  # Duplicates are removed\n",
    "\n",
    "print(my_set)        # Output: {1, 2, 3, 4}\n",
    "print(another_set)   # Output: {1, 2, 3, 4}\n"
   ]
  },
  {
   "cell_type": "markdown",
   "id": "bc0fc815-da05-4649-80a2-875b8dda2843",
   "metadata": {},
   "source": [
    "NOTE : Sets cannot contain mutable (unhashable) elements like lists or other sets\n",
    "\n",
    "**Example**\n",
    "    \n",
    "```python\n",
    "invalid_set = {1, [2, 3]}  # ❌ TypeError: unhashable type: 'list'\n",
    "invalid_set = {1, {2, 3}}  # ❌ TypeError: unhashable type: 'dict'\n",
    "```"
   ]
  },
  {
   "cell_type": "markdown",
   "id": "4b581d4d-79e7-48c5-8753-a6facb04d5eb",
   "metadata": {},
   "source": [
    "## Hands-On Time"
   ]
  },
  {
   "cell_type": "code",
   "execution_count": 13,
   "id": "25090cea-a924-442d-aec5-fc1f985c7d51",
   "metadata": {},
   "outputs": [],
   "source": [
    "#construct an empty set\n"
   ]
  },
  {
   "cell_type": "code",
   "execution_count": 15,
   "id": "06e157d8-0619-4f8e-ac06-e3639de74e90",
   "metadata": {},
   "outputs": [],
   "source": [
    "# We add to sets with the add() method\n"
   ]
  },
  {
   "cell_type": "code",
   "execution_count": 16,
   "id": "fae9e306-ae75-4c99-93c0-3150257d6fe1",
   "metadata": {},
   "outputs": [],
   "source": [
    "#Show\n"
   ]
  },
  {
   "cell_type": "code",
   "execution_count": 17,
   "id": "a1733825-578a-4089-81a4-1864427bd699",
   "metadata": {},
   "outputs": [],
   "source": [
    "# Add a different element\n"
   ]
  },
  {
   "cell_type": "code",
   "execution_count": 18,
   "id": "f6d0435d-f2af-4cff-86fd-d71be3b39c65",
   "metadata": {},
   "outputs": [],
   "source": [
    "#show\n"
   ]
  },
  {
   "cell_type": "code",
   "execution_count": 19,
   "id": "8085a7b3-16b9-427e-af7f-7aaf0deb3b9b",
   "metadata": {},
   "outputs": [],
   "source": [
    "# Try to add the same element\n"
   ]
  },
  {
   "cell_type": "code",
   "execution_count": 20,
   "id": "10c963b4-db9b-4997-90d5-821bb0dead21",
   "metadata": {},
   "outputs": [],
   "source": [
    "#Show\n"
   ]
  },
  {
   "cell_type": "markdown",
   "id": "8152c060-3c09-448d-ab0f-cb3aeb8608d9",
   "metadata": {},
   "source": [
    "**it won't place another 1 there as a set is only concerned with unique elements**"
   ]
  },
  {
   "cell_type": "code",
   "execution_count": 21,
   "id": "ca91e15e-2ab8-4221-a97e-80f1946d1708",
   "metadata": {},
   "outputs": [],
   "source": [
    "# Create a list with repeats\n"
   ]
  },
  {
   "cell_type": "code",
   "execution_count": 22,
   "id": "6d9686be-dc24-47eb-b1d0-776c221a1c8f",
   "metadata": {},
   "outputs": [],
   "source": [
    "# Cast as set to get unique values\n"
   ]
  },
  {
   "cell_type": "code",
   "execution_count": 23,
   "id": "abe6c02d-68f7-48a1-b9b7-252ed7cbf531",
   "metadata": {},
   "outputs": [],
   "source": [
    "# update(iterable) - Adds multiple elements from another iterable (list, set, tuple, etc.).\n"
   ]
  },
  {
   "cell_type": "code",
   "execution_count": 24,
   "id": "140da3eb-da6e-4a92-8411-263b273feb09",
   "metadata": {},
   "outputs": [],
   "source": [
    "# remove(elem) - Removes the specified element. ❌ Raises KeyError if the element is not found.\n"
   ]
  },
  {
   "cell_type": "code",
   "execution_count": 25,
   "id": "11578c88-54ff-49b1-8aa2-f346a51a15fc",
   "metadata": {},
   "outputs": [],
   "source": [
    "# discard(elem) - Removes the specified element if it exists. ✅ No error if not found.\n"
   ]
  },
  {
   "cell_type": "code",
   "execution_count": 26,
   "id": "f3c4aa74-2fb6-4554-a40d-6ed6e72433c9",
   "metadata": {},
   "outputs": [],
   "source": [
    "# pop() - Removes and returns a random element from the set.\n"
   ]
  },
  {
   "cell_type": "code",
   "execution_count": 27,
   "id": "2f3190e3-834f-4506-8932-3a96865e3e51",
   "metadata": {},
   "outputs": [],
   "source": [
    "# clear() - Removes all elements from the set.\n"
   ]
  },
  {
   "cell_type": "markdown",
   "id": "544c4b25-993e-43ec-83ce-259439c773af",
   "metadata": {},
   "source": [
    "**set operations**"
   ]
  },
  {
   "cell_type": "code",
   "execution_count": 29,
   "id": "303a73c6-56ec-4407-b7e8-ac0fad1cf07a",
   "metadata": {},
   "outputs": [],
   "source": [
    "# union(other_set) or | => Returns a new set with elements from both sets.\n"
   ]
  },
  {
   "cell_type": "code",
   "execution_count": 30,
   "id": "46c4825d-5436-447a-9523-8a1bfecff3d4",
   "metadata": {},
   "outputs": [],
   "source": [
    "# intersection(other_set) or & => Returns common elements.\n"
   ]
  },
  {
   "cell_type": "code",
   "execution_count": 31,
   "id": "fb71a741-a850-4678-9404-6ce9b82d5f89",
   "metadata": {},
   "outputs": [],
   "source": [
    "# difference(other_set) or - => Returns elements in the first set but not in the second.\n"
   ]
  },
  {
   "cell_type": "code",
   "execution_count": 32,
   "id": "89b4a854-38c9-49ed-b49f-8f4619eb088d",
   "metadata": {},
   "outputs": [],
   "source": [
    "# symmetric_difference(other_set) or ^ => Returns elements that are in either of the sets but not both.\n"
   ]
  },
  {
   "cell_type": "code",
   "execution_count": 33,
   "id": "7c4db4dc-a08c-4db2-ae62-100887fa2c8b",
   "metadata": {},
   "outputs": [],
   "source": [
    "# issubset(other_set) => Checks if all elements of this set are in the other set.\n"
   ]
  },
  {
   "cell_type": "code",
   "execution_count": 34,
   "id": "58ba9bc2-c72d-40f8-bc59-5abba903a3d4",
   "metadata": {},
   "outputs": [],
   "source": [
    "# issuperset(other_set) => Checks if the set contains all elements of the other set.\n"
   ]
  },
  {
   "cell_type": "code",
   "execution_count": 35,
   "id": "ad8a5918-d5f3-417d-8695-e83f6b796c52",
   "metadata": {},
   "outputs": [],
   "source": [
    "# isdisjoint(other_set) => Checks if two sets have no common elements.\n"
   ]
  },
  {
   "cell_type": "markdown",
   "id": "76324b71-0435-4576-9f03-da59edca343a",
   "metadata": {},
   "source": [
    "# 3. Dictionary in Python"
   ]
  },
  {
   "cell_type": "markdown",
   "id": "bb3125ff-8021-4d6a-a5bf-36154a0ea5c0",
   "metadata": {},
   "source": [
    "In Python, a **dictionary** is a powerful built-in data structure that allows you to store and manage **data in key-value pairs**.\n",
    "\n",
    "---\n",
    "\n",
    "**What is a Dictionary?**\n",
    "\n",
    "A **dictionary** is a collection that is:\n",
    "\n",
    "- **Unordered** (prior to Python 3.7), **insertion-ordered** (from Python 3.7+)\n",
    "- **Mutable**: You can change, add, or remove items\n",
    "- **Indexed by keys**, not by numerical position\n",
    "- Made up of **unique keys** and their **associated values**\n",
    "\n",
    "---\n",
    "\n",
    "**Syntax**\n",
    "\n",
    "Dictionaries are defined using **curly braces `{}`** or the `dict()` constructor.\n",
    "\n",
    "```python\n",
    "# Using curly braces\n",
    "person = {\n",
    "    \"name\": \"Alice\",\n",
    "    \"age\": 25,\n",
    "    \"city\": \"Delhi\"\n",
    "}\n",
    "\n",
    "# Using dict() constructor\n",
    "employee = dict(name=\"Bob\", department=\"IT\", salary=75000)\n"
   ]
  },
  {
   "cell_type": "markdown",
   "id": "e4f7bc1f-1662-4f1e-8bb0-cfe3674435df",
   "metadata": {},
   "source": [
    "**Properties of Dictionary**\n",
    "\n",
    "| Property            | Supported | Notes                                         |\n",
    "| ------------------- | --------- | --------------------------------------------- |\n",
    "| Key-Value Storage   | ✅         | Fast and flexible                             |\n",
    "| Mutable             | ✅         | Can modify after creation                     |\n",
    "| Insertion Ordered   | ✅         | From Python 3.7+                              |\n",
    "| Duplicate Keys      | ❌         | Last occurrence is stored                     |\n",
    "| Indexed by Position | ❌         | Access by key only                            |\n",
    "| Nested Structures   | ✅         | Values can be lists, dicts, etc.              |\n",
    "| Iterable            | ✅         | Can iterate over keys, values, or items       |\n",
    "| Hash-Based Lookup   | ✅         | Fast retrieval using keys (O(1) average case) |\n"
   ]
  },
  {
   "cell_type": "markdown",
   "id": "786ce584-d2e7-4eef-8348-d2ee71558dac",
   "metadata": {},
   "source": [
    "## Hands-On Time"
   ]
  },
  {
   "cell_type": "code",
   "execution_count": 36,
   "id": "d3cdd44e-5ac3-4a7b-ae78-caf496e02039",
   "metadata": {},
   "outputs": [],
   "source": [
    "# Make a dictionary with {} and : to signify a key and a value\n"
   ]
  },
  {
   "cell_type": "code",
   "execution_count": 37,
   "id": "9dd78953-0cff-48a1-aefb-d7259838fe18",
   "metadata": {},
   "outputs": [],
   "source": [
    "# Call values by their key\n"
   ]
  },
  {
   "cell_type": "code",
   "execution_count": 38,
   "id": "ecf10021-e87e-4054-b28c-000d210fb969",
   "metadata": {},
   "outputs": [],
   "source": [
    "# homogenous data examples 1\n",
    "\n",
    "# show\n"
   ]
  },
  {
   "cell_type": "code",
   "execution_count": 39,
   "id": "ac0c27c2-01a0-4ff9-b337-f34aecf3a6d4",
   "metadata": {},
   "outputs": [],
   "source": [
    "# homogenous data examples 2\n",
    "\n",
    "# show\n"
   ]
  },
  {
   "cell_type": "code",
   "execution_count": 40,
   "id": "ab93c64f-75dd-49f8-9df5-96c057906307",
   "metadata": {},
   "outputs": [],
   "source": [
    "# heterogenous data examples\n",
    "\n",
    "\n",
    "#show\n"
   ]
  },
  {
   "cell_type": "code",
   "execution_count": 41,
   "id": "74d06038-b88a-4a10-8a5a-b339cd9b0c36",
   "metadata": {},
   "outputs": [],
   "source": [
    "# Creating a dictionary - Approach 1\n",
    "\n",
    "\n",
    "#show\n"
   ]
  },
  {
   "cell_type": "code",
   "execution_count": 43,
   "id": "f0a25adb-0210-468f-9e83-f1e457683843",
   "metadata": {},
   "outputs": [],
   "source": [
    "# Creating a dictionary - Approach 2\n",
    "\n",
    "\n",
    "#show\n"
   ]
  },
  {
   "cell_type": "code",
   "execution_count": 44,
   "id": "ebd0c40e-e1ec-42eb-9b46-6637d3a17350",
   "metadata": {},
   "outputs": [],
   "source": [
    "# Creating a dictionary - Approach 2\n",
    "\n",
    "\n",
    "#show\n"
   ]
  },
  {
   "cell_type": "code",
   "execution_count": 45,
   "id": "d1a5cbe4-d6fd-4c3b-b3d0-92159ce5718a",
   "metadata": {},
   "outputs": [],
   "source": [
    "# Properties of dictionaries\n"
   ]
  },
  {
   "cell_type": "code",
   "execution_count": 46,
   "id": "7921b0df-90b8-42da-81c6-9a2bf9dd32e2",
   "metadata": {},
   "outputs": [],
   "source": [
    "# keys\n"
   ]
  },
  {
   "cell_type": "code",
   "execution_count": 47,
   "id": "59596b55-20b7-4bb1-8dab-9cb30cf39af2",
   "metadata": {},
   "outputs": [],
   "source": [
    "#keys properties - dict_keys : dict_keys is iterable, just like a list\n"
   ]
  },
  {
   "cell_type": "code",
   "execution_count": 48,
   "id": "4f5b82e3-877f-4c8a-863e-839bdcc5defc",
   "metadata": {},
   "outputs": [],
   "source": [
    "#iterate over dict keys\n"
   ]
  },
  {
   "cell_type": "code",
   "execution_count": 49,
   "id": "3091c47d-f1bf-49a1-be27-7510e277cf07",
   "metadata": {},
   "outputs": [],
   "source": [
    "# can convert dict_keys class to other types\n"
   ]
  },
  {
   "cell_type": "code",
   "execution_count": 50,
   "id": "26331f7e-d518-4ca0-9c79-d2d7fa91b4d5",
   "metadata": {},
   "outputs": [],
   "source": [
    "#keys properties - dict_keys : dict_values is iterable, just like a list\n"
   ]
  },
  {
   "cell_type": "code",
   "execution_count": 51,
   "id": "98fa7ab3-f8a0-4891-994b-f58b628083ab",
   "metadata": {},
   "outputs": [],
   "source": [
    "#iterate over dict values\n"
   ]
  },
  {
   "cell_type": "code",
   "execution_count": 52,
   "id": "3f2cd65d-6cd2-4ed8-8eac-c27cf93a4ecd",
   "metadata": {},
   "outputs": [],
   "source": [
    "# can convert dict_values class to other types\n"
   ]
  },
  {
   "cell_type": "code",
   "execution_count": 53,
   "id": "19783d63-e554-420e-980d-703560cda658",
   "metadata": {},
   "outputs": [],
   "source": [
    "# not supported keys - non hashable keys - part 1\n"
   ]
  },
  {
   "cell_type": "code",
   "execution_count": 54,
   "id": "7d58fd06-dd2f-473d-979d-f8bfb36536e1",
   "metadata": {},
   "outputs": [],
   "source": [
    "# not supported keys - non hashable keys - part 2\n"
   ]
  },
  {
   "cell_type": "code",
   "execution_count": 55,
   "id": "60a7edaf-aada-4636-bbfe-eca3eb276810",
   "metadata": {},
   "outputs": [],
   "source": [
    "# not supported keys - non hashable keys - part 3\n"
   ]
  },
  {
   "cell_type": "markdown",
   "id": "a28bec23-0a18-4914-9fdf-481ede0a0d52",
   "metadata": {},
   "source": [
    "**indexing examples**"
   ]
  },
  {
   "cell_type": "code",
   "execution_count": null,
   "id": "c6cb7c7a-ce80-4306-ac13-ade365eb1f6d",
   "metadata": {},
   "outputs": [],
   "source": []
  },
  {
   "cell_type": "code",
   "execution_count": 56,
   "id": "b4bdf8b9-578f-4b4b-8635-c707b304d135",
   "metadata": {},
   "outputs": [],
   "source": [
    "#Let's call items from the dictionary\n"
   ]
  },
  {
   "cell_type": "code",
   "execution_count": 57,
   "id": "afdb42ea-a771-4e53-8ca1-e263db9d01bd",
   "metadata": {},
   "outputs": [],
   "source": [
    "# accessing a non-existent element\n"
   ]
  },
  {
   "cell_type": "code",
   "execution_count": 58,
   "id": "04a804fe-8cdf-418a-a401-4815067178b8",
   "metadata": {},
   "outputs": [],
   "source": [
    "# Accessing with Safety : dict.get(key[, default])\n"
   ]
  },
  {
   "cell_type": "code",
   "execution_count": 59,
   "id": "5e33bfcd-55ee-4551-b8b8-99b730e548ba",
   "metadata": {},
   "outputs": [],
   "source": [
    "# Can call an index on that value\n"
   ]
  },
  {
   "cell_type": "code",
   "execution_count": 60,
   "id": "4e69a560-3fee-4385-856a-b74682d8277a",
   "metadata": {},
   "outputs": [],
   "source": [
    "#Can then even call methods on that value\n"
   ]
  },
  {
   "cell_type": "markdown",
   "id": "41c3b296-8427-48c0-ba72-eb8ce473845d",
   "metadata": {},
   "source": [
    "**Removing Elements**"
   ]
  },
  {
   "cell_type": "code",
   "execution_count": null,
   "id": "199c61a1-57ab-4e86-a7e4-db82f2be1991",
   "metadata": {},
   "outputs": [],
   "source": []
  },
  {
   "cell_type": "code",
   "execution_count": 61,
   "id": "18d78ed1-b52d-4c48-8917-d2280b099aec",
   "metadata": {},
   "outputs": [],
   "source": [
    "# dict.pop(key[, default]) => Removes and returns the value of the given key. Raises error if key is not found unless a default is provided.\n"
   ]
  },
  {
   "cell_type": "code",
   "execution_count": null,
   "id": "3f131c0d-e817-444f-a145-42d5b882b257",
   "metadata": {},
   "outputs": [],
   "source": []
  },
  {
   "cell_type": "code",
   "execution_count": 62,
   "id": "35e99a8a-737c-4fd6-916c-99871e04d109",
   "metadata": {},
   "outputs": [],
   "source": [
    "# dict.popitem() => Removes and returns the last inserted key-value pair.\n"
   ]
  },
  {
   "cell_type": "code",
   "execution_count": null,
   "id": "12802cf9-8cc1-4111-a40d-2b6e6a46de8d",
   "metadata": {},
   "outputs": [],
   "source": []
  },
  {
   "cell_type": "code",
   "execution_count": 63,
   "id": "a499b21a-cbf8-4c44-96bd-94075ea09221",
   "metadata": {},
   "outputs": [],
   "source": [
    "# dict.clear() => Removes all key-value pairs from the dictionary.\n"
   ]
  },
  {
   "cell_type": "code",
   "execution_count": 64,
   "id": "44002e14-1fe7-40be-b278-0a7c93ba8296",
   "metadata": {},
   "outputs": [],
   "source": [
    "#marks\n"
   ]
  },
  {
   "cell_type": "code",
   "execution_count": 65,
   "id": "d85ba17b-18d8-4ca8-a7c0-a4c2515f3313",
   "metadata": {},
   "outputs": [],
   "source": [
    "# dict.update(other_dict)\n"
   ]
  },
  {
   "cell_type": "code",
   "execution_count": null,
   "id": "745300cc-2135-4a41-ba10-91e6845115b8",
   "metadata": {},
   "outputs": [],
   "source": []
  },
  {
   "cell_type": "markdown",
   "id": "191a1605-9ea0-4032-843b-cfce662a9f3d",
   "metadata": {},
   "source": [
    "**modifying values of a key as well**"
   ]
  },
  {
   "cell_type": "code",
   "execution_count": null,
   "id": "33127360-b4b7-461b-b9e1-16b385cf74c6",
   "metadata": {},
   "outputs": [],
   "source": []
  },
  {
   "cell_type": "code",
   "execution_count": null,
   "id": "c2b44486-d6c3-437c-9c2f-6abf64d740fa",
   "metadata": {},
   "outputs": [],
   "source": []
  },
  {
   "cell_type": "code",
   "execution_count": 66,
   "id": "8c0d2349-ccd4-4105-8b8e-95e3dee88587",
   "metadata": {},
   "outputs": [],
   "source": [
    "# Subtract 123 from the value\n"
   ]
  },
  {
   "cell_type": "code",
   "execution_count": 67,
   "id": "7eec0be4-2cb5-4078-a368-bb3d0fa9cafa",
   "metadata": {},
   "outputs": [],
   "source": [
    "#Check\n"
   ]
  },
  {
   "cell_type": "code",
   "execution_count": 68,
   "id": "de98f704-d624-436a-9819-3d70a6a2dec7",
   "metadata": {},
   "outputs": [],
   "source": [
    "# Set the object equal to itself plus 123 \n"
   ]
  },
  {
   "cell_type": "code",
   "execution_count": 46,
   "id": "f1c34c57-1092-414f-9ff9-2c1a13c77721",
   "metadata": {},
   "outputs": [],
   "source": [
    "# creating a new key in a dictionary"
   ]
  },
  {
   "cell_type": "code",
   "execution_count": null,
   "id": "890e7c4a-a65a-44bf-80f0-facee82cdb97",
   "metadata": {},
   "outputs": [],
   "source": []
  },
  {
   "cell_type": "code",
   "execution_count": 69,
   "id": "13611cc1-8d12-449e-ae34-ec72f1cbba03",
   "metadata": {},
   "outputs": [],
   "source": [
    "# Create a new key through assignment\n"
   ]
  },
  {
   "cell_type": "code",
   "execution_count": 70,
   "id": "75ad60a0-367b-4a87-80de-463213aade33",
   "metadata": {},
   "outputs": [],
   "source": [
    "# Can do this with any object\n"
   ]
  },
  {
   "cell_type": "code",
   "execution_count": 71,
   "id": "ae8641a4-cb50-47ec-a1c6-756bbd75b485",
   "metadata": {},
   "outputs": [],
   "source": [
    "#Show\n"
   ]
  },
  {
   "cell_type": "code",
   "execution_count": null,
   "id": "0ea5f0e9-7e2c-4f17-9fe9-12a9d8e1796f",
   "metadata": {},
   "outputs": [],
   "source": [
    "# dictionaries nesting"
   ]
  },
  {
   "cell_type": "code",
   "execution_count": null,
   "id": "d49f759a-3860-4cd7-bfa8-e9140112504b",
   "metadata": {},
   "outputs": [],
   "source": []
  },
  {
   "cell_type": "code",
   "execution_count": 72,
   "id": "a34aa0de-56bd-4122-823b-9756f960f6d9",
   "metadata": {},
   "outputs": [],
   "source": [
    "# Keep calling the keys\n"
   ]
  },
  {
   "cell_type": "markdown",
   "id": "f234e6a8-6150-4da3-8123-97196e5d8f37",
   "metadata": {},
   "source": [
    "**Checking Membership**"
   ]
  },
  {
   "cell_type": "code",
   "execution_count": null,
   "id": "8f245f90-f4c5-45f1-8efb-9da8c6a33541",
   "metadata": {},
   "outputs": [],
   "source": []
  },
  {
   "cell_type": "code",
   "execution_count": 73,
   "id": "7cf65651-1bd4-4074-be62-aef0218b628a",
   "metadata": {},
   "outputs": [],
   "source": [
    "# check for a key - m1\n"
   ]
  },
  {
   "cell_type": "code",
   "execution_count": 74,
   "id": "e0ad5692-7715-4a65-b031-2a1dd9dfddef",
   "metadata": {},
   "outputs": [],
   "source": [
    "# check for a key - m2\n"
   ]
  },
  {
   "cell_type": "code",
   "execution_count": 75,
   "id": "03db4542-3026-414b-98c3-e6ec7006143a",
   "metadata": {},
   "outputs": [],
   "source": [
    "# check for a value\n"
   ]
  },
  {
   "cell_type": "markdown",
   "id": "b39c3a4c-ceea-4c03-a9cc-08eb5296b1b8",
   "metadata": {},
   "source": [
    "**Dictionary Comprehension**\n",
    "\n",
    "Just like List Comprehensions, Dictionary Data Types also support their own version of comprehension for quick creation. It is not as commonly used as List Comprehensions, but the syntax is:"
   ]
  },
  {
   "cell_type": "code",
   "execution_count": null,
   "id": "9c2badf8-4ec4-4c86-8303-84981336c413",
   "metadata": {},
   "outputs": [],
   "source": [
    "# Problem Statement: {0: 0, 1: 1, 2: 4, 3: 9, 4: 16, 5: 25, 6: 36, 7: 49, 8: 64, 9: 81}"
   ]
  },
  {
   "cell_type": "code",
   "execution_count": 76,
   "id": "322c468e-e012-4fca-b269-53da6dbda11b",
   "metadata": {},
   "outputs": [],
   "source": [
    "# Trivial Approach\n"
   ]
  },
  {
   "cell_type": "code",
   "execution_count": 77,
   "id": "851b92b8-ca1e-4f65-8131-a10ccf88a7c1",
   "metadata": {},
   "outputs": [],
   "source": [
    "# Smart approach - Dictionary comprehension\n"
   ]
  },
  {
   "cell_type": "markdown",
   "id": "0d5a3327-1e01-4052-b5d6-fbd81eca183f",
   "metadata": {},
   "source": [
    "---\n",
    "\n",
    "<div align=\"center\">\n",
    "\n",
    "### 🙏 Thank you for learning with us!\n",
    "\n",
    "#### — Team 🚀 Decode-AI\n",
    "\n",
    "</div>\n"
   ]
  }
 ],
 "metadata": {
  "kernelspec": {
   "display_name": "Python 3 (ipykernel)",
   "language": "python",
   "name": "python3"
  },
  "language_info": {
   "codemirror_mode": {
    "name": "ipython",
    "version": 3
   },
   "file_extension": ".py",
   "mimetype": "text/x-python",
   "name": "python",
   "nbconvert_exporter": "python",
   "pygments_lexer": "ipython3",
   "version": "3.13.5"
  }
 },
 "nbformat": 4,
 "nbformat_minor": 5
}
