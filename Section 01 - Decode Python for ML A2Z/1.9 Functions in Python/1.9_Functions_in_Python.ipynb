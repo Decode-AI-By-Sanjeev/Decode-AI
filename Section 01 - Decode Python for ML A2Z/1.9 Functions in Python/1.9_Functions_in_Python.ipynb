{
 "cells": [
  {
   "cell_type": "markdown",
   "id": "de0aa18e-b876-426e-ba56-1e6c462ccbd5",
   "metadata": {},
   "source": [
    "<p align=\"center\">\n",
    "  <img src=\"DECODE_AI_BANNER.png\" alt=\"Description\" width=\"1400\"/>\n",
    "</p>\n"
   ]
  },
  {
   "cell_type": "markdown",
   "id": "c9b20e21-e9c0-40f3-affa-2538af9a930a",
   "metadata": {},
   "source": [
    "## Functions in Python\n",
    "\n",
    "**Table of Content**\n",
    "1. ✅ Introduction to Functions\n",
    "2. ✅ Function Syntax in Python\n",
    "3. ✅ Dictionary"
   ]
  },
  {
   "cell_type": "markdown",
   "id": "e5aaa831-568c-4b84-81f2-a3797bc2d536",
   "metadata": {},
   "source": [
    "## 1. Introduction to Functions\n",
    "\n",
    "A **function** is a reusable block of code that performs a specific task.\n",
    "\n",
    "Functions help make your code:\n",
    "- Modular\n",
    "- Reusable\n",
    "- Easier to read and maintain\n",
    "\n",
    "---\n",
    "\n",
    "### Why Use Functions?\n",
    "\n",
    "- To avoid repetition (DRY: Don't Repeat Yourself)\n",
    "- To break complex problems into smaller, manageable chunks\n",
    "- To make code reusable and organized\n",
    "\n",
    "---\n",
    "\n",
    "### Function Syntax in Python\n",
    "\n",
    "```python\n",
    "def function_name(parameters):\n",
    "    \"\"\"\n",
    "    Optional docstring describing what the function does.\n",
    "    \"\"\"\n",
    "    # Block of code\n",
    "    return result\n",
    "```\n",
    "**Important Points**\n",
    "1. We begin with def then a space followed by the name of the function. Try to keep names relevant and simple as possible.\n",
    "2. Also be careful with names, you wouldn't want to call a function the same name as a built-in function in Python (such as len).\n",
    "3. Arguments separated by a comma within a pair of parenthesis which acts as input to the defined function, reference them and the function definition with a colon.\n",
    "4. Indent to begin the code inside the defined functions properly.\n",
    "5. The doc-string where you write the basic description of the function. Using iPython and iPython Notebooks, you'll be able to read these doc-strings by pressing Shift+Tab after a function name. It is not mandatory to include docstrings with simple functions, but it is a good practice to put them as this will help the programmers to easily understand the code you write.\n",
    "\n",
    "---\n"
   ]
  },
  {
   "cell_type": "markdown",
   "id": "7c8d3df8-83db-4795-886d-076870665b26",
   "metadata": {},
   "source": [
    "**Problem: You need to write a Industry grade function which takes a string as input, should preprocess it by kepping only alphanumeric english and hindi characters.**"
   ]
  },
  {
   "cell_type": "code",
   "execution_count": null,
   "id": "f75f8696-bef9-44f9-8c5a-2331a1edbd59",
   "metadata": {},
   "outputs": [],
   "source": [
    "#!/usr/bin/env python3\n",
    "# -*- coding: utf-8 -*-\n",
    "\n",
    "import re\n",
    "import logging\n",
    "\n",
    "# Configure logging\n",
    "logging.basicConfig(level=logging.INFO, format='[%(levelname)s] %(message)s')\n",
    "\n",
    "\n",
    "def sanitize_input(user_input: str) -> str:\n",
    "    \"\"\"\n",
    "    Cleans user input by removing unwanted special characters\n",
    "    while preserving basic punctuation and Unicode characters.\n",
    "\n",
    "    Args:\n",
    "        user_input (str): Raw user input string\n",
    "\n",
    "    Returns:\n",
    "        str: Sanitized string\n",
    "    \"\"\"\n",
    "    # Step 1: Keep only English, Hindi characters, and spaces\n",
    "    pattern = r\"[^A-Za-z0-9\\u0900-\\u097F]\"\n",
    "    cleaned = re.sub(pattern, ' ', user_input, flags=re.UNICODE)\n",
    "\n",
    "    # Step 2: Replace multiple spaces with a single space\n",
    "    normalized = re.sub(r'\\s+', ' ', cleaned)\n",
    "    \n",
    "    return normalized.strip()"
   ]
  },
  {
   "cell_type": "code",
   "execution_count": 18,
   "id": "322c468e-e012-4fca-b269-53da6dbda11b",
   "metadata": {},
   "outputs": [
    {
     "data": {
      "text/plain": [
       "'नमस्कार Thank you for learning with us Team Decode AI'"
      ]
     },
     "execution_count": 18,
     "metadata": {},
     "output_type": "execute_result"
    }
   ],
   "source": [
    "sanitize_input(\"नमस्कार !! 🙏 Thank you for learning with us! -> Team 🚀 Decode-AI; \")"
   ]
  },
  {
   "cell_type": "markdown",
   "id": "6af4c3bb-4880-447f-a7ec-5e4a902d58fb",
   "metadata": {},
   "source": [
    "### Hands-on Time"
   ]
  },
  {
   "cell_type": "code",
   "execution_count": 19,
   "id": "2924ab09-4a51-469f-92e4-316350ea6288",
   "metadata": {},
   "outputs": [],
   "source": [
    "#A simple Print Hello function\n",
    "def say_hello():\n",
    "    print('hello')"
   ]
  },
  {
   "cell_type": "code",
   "execution_count": 20,
   "id": "f4ef4c04-ef63-4238-b7e8-47a548a3294e",
   "metadata": {},
   "outputs": [
    {
     "name": "stdout",
     "output_type": "stream",
     "text": [
      "hello\n"
     ]
    }
   ],
   "source": [
    "say_hello()"
   ]
  },
  {
   "cell_type": "code",
   "execution_count": 24,
   "id": "b78a871e-bea3-472b-97d1-ad64c632942d",
   "metadata": {},
   "outputs": [],
   "source": [
    "# A simple greeting function\n",
    "def greeting(name):\n",
    "    print('Hello %s' %name)"
   ]
  },
  {
   "cell_type": "code",
   "execution_count": 26,
   "id": "c3baee0d-84e4-4625-8497-54ec3e41f977",
   "metadata": {},
   "outputs": [
    {
     "name": "stdout",
     "output_type": "stream",
     "text": [
      "Hello Sanjeev\n"
     ]
    }
   ],
   "source": [
    "greeting(\"Sanjeev\")"
   ]
  },
  {
   "cell_type": "code",
   "execution_count": 27,
   "id": "754c3142-f4ee-4acf-a2e6-94d26864ce1f",
   "metadata": {},
   "outputs": [],
   "source": [
    "# Using return in a function\n",
    "def add_num(num1,num2):\n",
    "    return num1+num2"
   ]
  },
  {
   "cell_type": "code",
   "execution_count": 28,
   "id": "d8d68728-2a3c-40e3-b7f6-832fbf429dcc",
   "metadata": {},
   "outputs": [
    {
     "data": {
      "text/plain": [
       "9"
      ]
     },
     "execution_count": 28,
     "metadata": {},
     "output_type": "execute_result"
    }
   ],
   "source": [
    "add_num(4,5)"
   ]
  },
  {
   "cell_type": "code",
   "execution_count": 29,
   "id": "7a2aaae6-06aa-473c-8c15-3b79796ee5a6",
   "metadata": {},
   "outputs": [],
   "source": [
    "# Can also save as variable due to return\n",
    "result = add_num(4,5)"
   ]
  },
  {
   "cell_type": "code",
   "execution_count": 30,
   "id": "d5aed2ae-cb2e-47bf-aa20-38c1b564aad8",
   "metadata": {},
   "outputs": [
    {
     "data": {
      "text/plain": [
       "9"
      ]
     },
     "execution_count": 30,
     "metadata": {},
     "output_type": "execute_result"
    }
   ],
   "source": [
    "result"
   ]
  },
  {
   "cell_type": "code",
   "execution_count": 32,
   "id": "4cc9a84f-e18d-44f7-9884-820e6f0bc4cf",
   "metadata": {},
   "outputs": [],
   "source": [
    "# Program to check whether a number is prime or not\n",
    "def is_prime(num):\n",
    "    '''\n",
    "    Naive method of checking for primes. \n",
    "    '''\n",
    "    for n in range(2,num):\n",
    "        if num % n == 0:\n",
    "            print('not prime')\n",
    "            break\n",
    "    else: # If never mod zero, then prime\n",
    "        print('prime')"
   ]
  },
  {
   "cell_type": "code",
   "execution_count": 33,
   "id": "634a5b3d-c16a-4442-a77b-2c50c4287143",
   "metadata": {},
   "outputs": [
    {
     "name": "stdout",
     "output_type": "stream",
     "text": [
      "not prime\n"
     ]
    }
   ],
   "source": [
    "is_prime(12)"
   ]
  },
  {
   "cell_type": "markdown",
   "id": "ebd53583-24d9-4129-8c49-97abcb894c63",
   "metadata": {},
   "source": [
    "### 1️⃣ Built-in Functions"
   ]
  },
  {
   "cell_type": "markdown",
   "id": "3afa6de2-1a44-452d-bdc0-25ba4e87b008",
   "metadata": {},
   "source": [
    "These are functions that come pre-installed with Python.\n",
    "\n",
    "📌 Examples:  \n",
    "```python\n",
    "print(), len(), type(), max(), min(), sorted()\n",
    "```"
   ]
  },
  {
   "cell_type": "markdown",
   "id": "32c8cb60-842a-4ead-b353-229ccb99c187",
   "metadata": {},
   "source": [
    "### 2️⃣ User-defined Functions"
   ]
  },
  {
   "cell_type": "code",
   "execution_count": 36,
   "id": "deeb28d8-6fbc-4ced-9cd4-61444b3a63d8",
   "metadata": {},
   "outputs": [
    {
     "data": {
      "text/plain": [
       "'Hello, sanjeev'"
      ]
     },
     "execution_count": 36,
     "metadata": {},
     "output_type": "execute_result"
    }
   ],
   "source": [
    "# These are functions created using the def keyword.\n",
    "def greet(name):\n",
    "    return f\"Hello, {name}\"\n",
    "\n",
    "greet(\"sanjeev\")"
   ]
  },
  {
   "cell_type": "markdown",
   "id": "66418da5-6406-4adb-9fcc-17282f35de5f",
   "metadata": {},
   "source": [
    "### 3️⃣ Anonymous Functions (Lambda)"
   ]
  },
  {
   "cell_type": "code",
   "execution_count": 38,
   "id": "ff15d8ec-bfe9-4201-b832-34abea7ef6cd",
   "metadata": {},
   "outputs": [
    {
     "data": {
      "text/plain": [
       "'Hello, sanjeev'"
      ]
     },
     "execution_count": 38,
     "metadata": {},
     "output_type": "execute_result"
    }
   ],
   "source": [
    "# These are one-liner functions without a name, created using the lambda keyword.\n",
    "greet_lambda = lambda name: f\"Hello, {name}\"\n",
    "greet_lambda(\"sanjeev\")"
   ]
  },
  {
   "cell_type": "markdown",
   "id": "6151dce3-9611-47cd-ab4e-6c0d7f1bff28",
   "metadata": {},
   "source": [
    "### 4️⃣ Recursive Functions"
   ]
  },
  {
   "cell_type": "code",
   "execution_count": 40,
   "id": "50c8ea85-c14b-42bd-bb87-1af64335ecaf",
   "metadata": {},
   "outputs": [
    {
     "data": {
      "text/plain": [
       "3628800"
      ]
     },
     "execution_count": 40,
     "metadata": {},
     "output_type": "execute_result"
    }
   ],
   "source": [
    "# A function that calls itself to solve smaller sub-problems of a larger problem.\n",
    "def factorial(n):\n",
    "    if n == 0:\n",
    "        return 1\n",
    "    return n * factorial(n - 1)\n",
    "\n",
    "factorial(10)"
   ]
  },
  {
   "cell_type": "markdown",
   "id": "b929e5dc-58e7-460f-a187-c50865bfc4c7",
   "metadata": {},
   "source": [
    "### 5️⃣ Generators and Iterators\n",
    "\n",
    "In Python, iterators and generators are tools for iterating over data, but they work differently and serve different purposes.\n",
    "\n",
    "---"
   ]
  },
  {
   "cell_type": "markdown",
   "id": "b37ebf7f-b8da-448f-85e3-11c311e0dd06",
   "metadata": {},
   "source": [
    "**Iterator Introduction**\n",
    "\n",
    "An iterator is an object which implements the iterator protocol, i.e., it must have:\n",
    "\n",
    "- a `__iter__()` method that returns the iterator object itself.\n",
    "- a `__next__()` method that returns the next item or raises StopIteration when done.\n",
    "-  `__iter__()` and `__next__()` — the two special (magic) methods -- the backbone of Python’s iterator protocol.\n",
    "- Key Points:\n",
    "\n",
    "| Term         | Definition                                                                 |\n",
    "| ------------ | -------------------------------------------------------------------------- |\n",
    "| **Iterable** | An object that implements the `__iter__()` method and returns an iterator. |\n",
    "| **Iterator** | An object that implements **both** `__iter__()` and `__next__()` methods.  |\n",
    "- List is an iterable not iterator"
   ]
  },
  {
   "cell_type": "code",
   "execution_count": 122,
   "id": "5f166832-5e77-44e2-aa27-21370b187321",
   "metadata": {},
   "outputs": [],
   "source": [
    "# Custom Iterator Examples"
   ]
  },
  {
   "cell_type": "code",
   "execution_count": 111,
   "id": "f822112f-5bbc-4d4c-b9e2-2d6a065dab35",
   "metadata": {},
   "outputs": [],
   "source": [
    "class CountUpTo:\n",
    "    def __init__(self, max):\n",
    "        self.max = max\n",
    "        self.current = 1\n",
    "\n",
    "    def __iter__(self):\n",
    "        return self\n",
    "\n",
    "    def __next__(self):\n",
    "        if self.current > self.max:\n",
    "            raise StopIteration\n",
    "        else:\n",
    "            val = self.current\n",
    "            self.current += 1\n",
    "            return val\n"
   ]
  },
  {
   "cell_type": "code",
   "execution_count": 119,
   "id": "e64e8a13-7e60-4e1f-ac5b-fc709fc33f4c",
   "metadata": {},
   "outputs": [
    {
     "name": "stdout",
     "output_type": "stream",
     "text": [
      "<class '__main__.CountUpTo'>\n"
     ]
    }
   ],
   "source": [
    "counter = CountUpTo(3)\n",
    "print(type(counter))"
   ]
  },
  {
   "cell_type": "code",
   "execution_count": 120,
   "id": "354c99d1-1ba0-476b-9402-46ed357e37b1",
   "metadata": {},
   "outputs": [
    {
     "data": {
      "text/plain": [
       "1"
      ]
     },
     "execution_count": 120,
     "metadata": {},
     "output_type": "execute_result"
    }
   ],
   "source": [
    "next(counter) # Calls counter.__next__()"
   ]
  },
  {
   "cell_type": "code",
   "execution_count": 121,
   "id": "7b05ccc9-8209-41a3-b227-a067f214800c",
   "metadata": {},
   "outputs": [
    {
     "name": "stdout",
     "output_type": "stream",
     "text": [
      "2\n",
      "3\n"
     ]
    }
   ],
   "source": [
    "for num in counter:\n",
    "    print(num)  # Output: 1, 2, 3"
   ]
  },
  {
   "cell_type": "code",
   "execution_count": null,
   "id": "37703a39-23d8-419a-a104-451b661d2e68",
   "metadata": {},
   "outputs": [],
   "source": []
  },
  {
   "cell_type": "code",
   "execution_count": null,
   "id": "28b893c6-1f50-4404-b6d3-02c1f7567c18",
   "metadata": {},
   "outputs": [],
   "source": [
    "# Step-by-step example using iterator"
   ]
  },
  {
   "cell_type": "code",
   "execution_count": 106,
   "id": "72d71be1-c15c-4c8d-8eae-f0e66a36711b",
   "metadata": {},
   "outputs": [
    {
     "name": "stdout",
     "output_type": "stream",
     "text": [
      "<class 'list'>\n"
     ]
    }
   ],
   "source": [
    "# Step 1: A list (iterable)\n",
    "numbers = [1, 2, 3]\n",
    "print(type(numbers))"
   ]
  },
  {
   "cell_type": "code",
   "execution_count": 107,
   "id": "f94fb9de-9a40-44bb-8f27-d80e89c72897",
   "metadata": {},
   "outputs": [
    {
     "name": "stdout",
     "output_type": "stream",
     "text": [
      "<class 'list_iterator'>\n"
     ]
    }
   ],
   "source": [
    "# Step 2: Create an iterator from iterable\n",
    "it = iter(numbers)  # same as numbers.__iter__()\n",
    "print(type(it))"
   ]
  },
  {
   "cell_type": "code",
   "execution_count": 108,
   "id": "67a3ec2e-022a-44df-89fb-3a80e6674d2b",
   "metadata": {},
   "outputs": [
    {
     "name": "stdout",
     "output_type": "stream",
     "text": [
      "1\n",
      "2\n",
      "3\n"
     ]
    }
   ],
   "source": [
    "# Step 3: Use next() to get elements one by one\n",
    "print(next(it))  # 1\n",
    "print(next(it))  # 2\n",
    "print(next(it))  # 3\n",
    "# print(next(it))  # Raises StopIteration"
   ]
  },
  {
   "cell_type": "code",
   "execution_count": null,
   "id": "6edfc4fe-e667-4731-88d9-57c81bfedb9f",
   "metadata": {},
   "outputs": [],
   "source": [
    "# Custom Iterator Example:\n"
   ]
  },
  {
   "cell_type": "code",
   "execution_count": null,
   "id": "33961922-d082-421c-bff1-ae783cf6ea34",
   "metadata": {},
   "outputs": [],
   "source": []
  },
  {
   "cell_type": "markdown",
   "id": "427a0d01-6d69-47e1-b2f3-019ad07fa34d",
   "metadata": {},
   "source": [
    "**Generator Introduction**\n",
    "- A generator is a simpler way to write an iterator using functions and the yield keyword. Each time yield is called, the function's state is saved, and it resumes from there on the next call.\n",
    "  \n",
    "- In Python, Generator function allow us to write a function that can send back a value and then later resume to pick up where it was left. It also allows us to generate a sequence of values over time. The main difference in syntax will be the use of a yield statement.\n",
    "- In most aspects, a generator function will appear very similar to a normal function.\n",
    "- The main difference is when a generator function is called and compiled they become an object that supports an iteration protocol.\n",
    "- That means when they are called they don't actually return a value and then exit, the generator functions will automatically suspend and resume their execution and state around the last point of value generation."
   ]
  },
  {
   "cell_type": "code",
   "execution_count": null,
   "id": "028421d0-ecd9-47dc-a55b-7217378a882a",
   "metadata": {},
   "outputs": [],
   "source": [
    "# Generator function for the cube of numbers (power of 3)"
   ]
  },
  {
   "cell_type": "code",
   "execution_count": null,
   "id": "6e995881-b88d-4832-82a2-b7ae82ea4253",
   "metadata": {},
   "outputs": [],
   "source": [
    "# Normal Implementation\n",
    "def gencubes(n):\n",
    "    ans = []\n",
    "    for num in range(n):\n",
    "        ans.append(num**3)\n",
    "    return ans"
   ]
  },
  {
   "cell_type": "code",
   "execution_count": 51,
   "id": "ed9bb21f-63af-4db8-a569-ae98c200a46c",
   "metadata": {},
   "outputs": [],
   "source": [
    "# Generator Implementation\n",
    "def gencubes(n):\n",
    "    for num in range(n):\n",
    "        yield num**3"
   ]
  },
  {
   "cell_type": "code",
   "execution_count": 52,
   "id": "4483cd6e-94b8-4ec2-bfad-77354e66ea94",
   "metadata": {},
   "outputs": [
    {
     "data": {
      "text/plain": [
       "<generator object gencubes at 0x000002267CBCA9B0>"
      ]
     },
     "execution_count": 52,
     "metadata": {},
     "output_type": "execute_result"
    }
   ],
   "source": [
    "gencubes(10)"
   ]
  },
  {
   "cell_type": "code",
   "execution_count": 53,
   "id": "483798fc-1fd2-48ac-a43b-5f9641c64e00",
   "metadata": {},
   "outputs": [
    {
     "name": "stdout",
     "output_type": "stream",
     "text": [
      "0\n",
      "1\n",
      "8\n",
      "27\n",
      "64\n",
      "125\n",
      "216\n",
      "343\n",
      "512\n",
      "729\n"
     ]
    }
   ],
   "source": [
    "for x in gencubes(10):\n",
    "    print(x)"
   ]
  },
  {
   "cell_type": "code",
   "execution_count": null,
   "id": "b231cfd1-de9b-4443-b430-c9e530661e90",
   "metadata": {},
   "outputs": [],
   "source": [
    "# Generator function for the fibonnaci sequence up to n => [1,1,2,3,5,8,....]"
   ]
  },
  {
   "cell_type": "code",
   "execution_count": 55,
   "id": "42816354-639d-40c6-ad41-098027d19102",
   "metadata": {},
   "outputs": [],
   "source": [
    "# normal implementation\n",
    "def fibon(n):\n",
    "    a = 1\n",
    "    b = 1\n",
    "    output = []\n",
    "    \n",
    "    for i in range(n):\n",
    "        output.append(a)\n",
    "        a,b = b,a+b\n",
    "        \n",
    "    return output"
   ]
  },
  {
   "cell_type": "code",
   "execution_count": 56,
   "id": "6b4c30b6-d199-4fe1-b006-bc18cc5843b9",
   "metadata": {},
   "outputs": [
    {
     "data": {
      "text/plain": [
       "[1, 1, 2, 3, 5, 8, 13, 21, 34, 55]"
      ]
     },
     "execution_count": 56,
     "metadata": {},
     "output_type": "execute_result"
    }
   ],
   "source": [
    "fibon(10)"
   ]
  },
  {
   "cell_type": "code",
   "execution_count": 57,
   "id": "8ced7ab8-ec07-4774-92c6-089bd4a9f2a8",
   "metadata": {},
   "outputs": [],
   "source": [
    "# generator Implementation\n",
    "def genfibon(n):\n",
    "    '''\n",
    "    Generate a fibonacci sequence up to n\n",
    "    '''\n",
    "    a = 1\n",
    "    b = 1\n",
    "    for i in range(n):\n",
    "        yield a\n",
    "        a,b = b,a+b"
   ]
  },
  {
   "cell_type": "code",
   "execution_count": 59,
   "id": "64eb5ddc-1699-46da-98f9-ec21dac1e410",
   "metadata": {},
   "outputs": [
    {
     "data": {
      "text/plain": [
       "<generator object genfibon at 0x000002267CB3EC00>"
      ]
     },
     "execution_count": 59,
     "metadata": {},
     "output_type": "execute_result"
    }
   ],
   "source": [
    "genfibon(10)"
   ]
  },
  {
   "cell_type": "code",
   "execution_count": 60,
   "id": "e136b12f-33c3-43c5-b259-ff66a7bdb6f0",
   "metadata": {},
   "outputs": [
    {
     "name": "stdout",
     "output_type": "stream",
     "text": [
      "1\n",
      "1\n",
      "2\n",
      "3\n",
      "5\n",
      "8\n",
      "13\n",
      "21\n",
      "34\n",
      "55\n"
     ]
    }
   ],
   "source": [
    "for num in genfibon(10):\n",
    "    print(num)"
   ]
  },
  {
   "cell_type": "markdown",
   "id": "1f7fc056-ab03-4418-b1b2-ddd59502620f",
   "metadata": {},
   "source": [
    "**`next()` and `iter()` built-in functions**"
   ]
  },
  {
   "cell_type": "code",
   "execution_count": 61,
   "id": "099af4c0-b908-4af9-a83c-1ff015e2a9dd",
   "metadata": {},
   "outputs": [],
   "source": [
    "def simple_gen():\n",
    "    for x in range(3):\n",
    "        yield x"
   ]
  },
  {
   "cell_type": "code",
   "execution_count": 62,
   "id": "5f2fdd9b-4639-4512-b813-d0a53d7d78d5",
   "metadata": {},
   "outputs": [],
   "source": [
    "# Assign simple_gen \n",
    "g = simple_gen()"
   ]
  },
  {
   "cell_type": "code",
   "execution_count": 63,
   "id": "b56bc4a0-40f5-4b73-828f-fc8dc0923566",
   "metadata": {},
   "outputs": [
    {
     "data": {
      "text/plain": [
       "<generator object simple_gen at 0x000002267C91FB80>"
      ]
     },
     "execution_count": 63,
     "metadata": {},
     "output_type": "execute_result"
    }
   ],
   "source": [
    "# show\n",
    "g"
   ]
  },
  {
   "cell_type": "code",
   "execution_count": 64,
   "id": "7c0d1f8f-d40b-43fe-b56c-98b1ef04dd0f",
   "metadata": {},
   "outputs": [
    {
     "name": "stdout",
     "output_type": "stream",
     "text": [
      "0\n"
     ]
    }
   ],
   "source": [
    "# The next function allows us to access the next element in a sequence.\n",
    "print(next(g))"
   ]
  },
  {
   "cell_type": "code",
   "execution_count": 65,
   "id": "b261b841-008c-4fe6-99ff-1f16d6cf907d",
   "metadata": {},
   "outputs": [
    {
     "name": "stdout",
     "output_type": "stream",
     "text": [
      "1\n"
     ]
    }
   ],
   "source": [
    "print(next(g))"
   ]
  },
  {
   "cell_type": "code",
   "execution_count": 66,
   "id": "ad2a5995-8052-44ee-8814-1902f6b57365",
   "metadata": {},
   "outputs": [
    {
     "name": "stdout",
     "output_type": "stream",
     "text": [
      "2\n"
     ]
    }
   ],
   "source": [
    "print(next(g))"
   ]
  },
  {
   "cell_type": "code",
   "execution_count": 67,
   "id": "1ec64edf-5eb3-4fd9-9b72-e59d566949bb",
   "metadata": {},
   "outputs": [
    {
     "ename": "StopIteration",
     "evalue": "",
     "output_type": "error",
     "traceback": [
      "\u001b[31m---------------------------------------------------------------------------\u001b[39m",
      "\u001b[31mStopIteration\u001b[39m                             Traceback (most recent call last)",
      "\u001b[36mCell\u001b[39m\u001b[36m \u001b[39m\u001b[32mIn[67]\u001b[39m\u001b[32m, line 1\u001b[39m\n\u001b[32m----> \u001b[39m\u001b[32m1\u001b[39m \u001b[38;5;28mprint\u001b[39m(\u001b[38;5;28mnext\u001b[39m(g))\n",
      "\u001b[31mStopIteration\u001b[39m: "
     ]
    }
   ],
   "source": [
    "print(next(g))"
   ]
  },
  {
   "cell_type": "markdown",
   "id": "b85e9f26-a269-46b8-8d2c-b839b09eb780",
   "metadata": {},
   "source": [
    "- After yielding all the values next() caused a StopIteration error. What this error informs us that all the values have been yielded."
   ]
  },
  {
   "cell_type": "code",
   "execution_count": 78,
   "id": "e9266fe6-2d51-4ac0-a3cb-766df9117264",
   "metadata": {},
   "outputs": [
    {
     "name": "stdout",
     "output_type": "stream",
     "text": [
      "h\n",
      "e\n",
      "l\n",
      "l\n",
      "o\n"
     ]
    }
   ],
   "source": [
    "# why don’t we get this error while using a for loop? The \"for loop\" automatically catches this error and stops calling next.\n",
    "s = 'hello'\n",
    "\n",
    "#Iterate over string\n",
    "for let in s:\n",
    "    print(let)"
   ]
  },
  {
   "cell_type": "markdown",
   "id": "da8dec39-9f6e-4629-a9df-c2a2a1efd00e",
   "metadata": {},
   "source": [
    "- But that doesn't mean the string itself is an iterator! We can check this with the next() function"
   ]
  },
  {
   "cell_type": "code",
   "execution_count": 79,
   "id": "d2933c20-9c8f-4393-b887-b9ea2c7095ab",
   "metadata": {},
   "outputs": [
    {
     "ename": "TypeError",
     "evalue": "'str' object is not an iterator",
     "output_type": "error",
     "traceback": [
      "\u001b[31m---------------------------------------------------------------------------\u001b[39m",
      "\u001b[31mTypeError\u001b[39m                                 Traceback (most recent call last)",
      "\u001b[36mCell\u001b[39m\u001b[36m \u001b[39m\u001b[32mIn[79]\u001b[39m\u001b[32m, line 1\u001b[39m\n\u001b[32m----> \u001b[39m\u001b[32m1\u001b[39m \u001b[38;5;28mnext\u001b[39m(s)\n",
      "\u001b[31mTypeError\u001b[39m: 'str' object is not an iterator"
     ]
    }
   ],
   "source": [
    "next(s)"
   ]
  },
  {
   "cell_type": "markdown",
   "id": "aa4dfab6-d9ea-449a-bcce-655e049e769b",
   "metadata": {},
   "source": [
    "- This means that a string object supports iteration, but we can not directly iterate over it as we could with a generator function. The iter() function allows us to do just that!"
   ]
  },
  {
   "cell_type": "code",
   "execution_count": 80,
   "id": "9a6cafc6-8bd2-407b-b2c1-dcb0d9088f10",
   "metadata": {},
   "outputs": [],
   "source": [
    "s_iter = iter(s)"
   ]
  },
  {
   "cell_type": "code",
   "execution_count": 110,
   "id": "a7a70ecf-8e67-48c7-a77f-8bd5022e5e58",
   "metadata": {},
   "outputs": [
    {
     "name": "stdout",
     "output_type": "stream",
     "text": [
      "<class 'str_ascii_iterator'>\n"
     ]
    }
   ],
   "source": [
    "print(type(s_iter))"
   ]
  },
  {
   "cell_type": "code",
   "execution_count": 82,
   "id": "e68cd6a1-2099-4752-b9f6-a4bdee28e46e",
   "metadata": {},
   "outputs": [
    {
     "data": {
      "text/plain": [
       "'h'"
      ]
     },
     "execution_count": 82,
     "metadata": {},
     "output_type": "execute_result"
    }
   ],
   "source": [
    "next(s_iter)"
   ]
  },
  {
   "cell_type": "code",
   "execution_count": 83,
   "id": "945e24c0-644c-4e3b-9eda-66f1f3a3286f",
   "metadata": {},
   "outputs": [
    {
     "data": {
      "text/plain": [
       "'e'"
      ]
     },
     "execution_count": 83,
     "metadata": {},
     "output_type": "execute_result"
    }
   ],
   "source": [
    "next(s_iter)"
   ]
  },
  {
   "cell_type": "markdown",
   "id": "7a52e7f0-7241-40fc-a87c-90464781c601",
   "metadata": {},
   "source": [
    "### 6️⃣ map() function"
   ]
  },
  {
   "cell_type": "markdown",
   "id": "2fe7ef88-2985-4502-80a7-b66aacefac0e",
   "metadata": {},
   "source": [
    "The map() is a function that takes in two arguments: \n",
    "1. A function \n",
    "2. A sequence iterable. \n",
    "\n",
    "In the form: map(function, sequence)\n",
    "    \n",
    "The first argument is the name of a function and the second a sequence (e.g. a list). map() applies the function to all the elements of the sequence. It returns a new list with the elements changed by the function."
   ]
  },
  {
   "cell_type": "code",
   "execution_count": 84,
   "id": "14d290a8-25ba-4301-97d0-79abad71b09d",
   "metadata": {},
   "outputs": [],
   "source": [
    "# map example\n",
    "def fahrenheit(T):\n",
    "    return ((float(9)/5)*T + 32)\n",
    "def celsius(T):\n",
    "    return (float(5)/9)*(T-32)\n",
    "    \n",
    "temp = [0, 22.5, 40,100]"
   ]
  },
  {
   "cell_type": "code",
   "execution_count": 88,
   "id": "7649c05c-cc8e-49be-a03d-97bfe5a9cc1a",
   "metadata": {},
   "outputs": [
    {
     "data": {
      "text/plain": [
       "[32.0, 72.5, 104.0, 212.0]"
      ]
     },
     "execution_count": 88,
     "metadata": {},
     "output_type": "execute_result"
    }
   ],
   "source": [
    "F_temps =list(map(fahrenheit, temp))\n",
    "F_temps"
   ]
  },
  {
   "cell_type": "code",
   "execution_count": 89,
   "id": "c19df262-d6ee-49b2-9dec-51e7530bc371",
   "metadata": {},
   "outputs": [
    {
     "data": {
      "text/plain": [
       "[0.0, 22.5, 40.0, 100.0]"
      ]
     },
     "execution_count": 89,
     "metadata": {},
     "output_type": "execute_result"
    }
   ],
   "source": [
    "# Convert back\n",
    "list(map(celsius, F_temps))"
   ]
  },
  {
   "cell_type": "code",
   "execution_count": 92,
   "id": "d751f511-5208-4c15-ad4c-9aa1430d7d39",
   "metadata": {},
   "outputs": [
    {
     "data": {
      "text/plain": [
       "[6, 8, 10, 12]"
      ]
     },
     "execution_count": 92,
     "metadata": {},
     "output_type": "execute_result"
    }
   ],
   "source": [
    "# map() with lambda function\n",
    "a = [1,2,3,4]\n",
    "b = [5,6,7,8]\n",
    "c = [9,10,11,12]\n",
    "\n",
    "sum_lambda = lambda x,y:x+y\n",
    "\n",
    "ans = []\n",
    "for i in range(len(a)):\n",
    "    ans.append(sum_lambda(a[i],b[i]))\n",
    "\n",
    "ans"
   ]
  },
  {
   "cell_type": "code",
   "execution_count": 93,
   "id": "d0806031-26b6-4427-8f7f-9491211c7490",
   "metadata": {},
   "outputs": [
    {
     "data": {
      "text/plain": [
       "[6, 8, 10, 12]"
      ]
     },
     "execution_count": 93,
     "metadata": {},
     "output_type": "execute_result"
    }
   ],
   "source": [
    "list(map(lambda x,y:x+y,a,b))"
   ]
  },
  {
   "cell_type": "markdown",
   "id": "abbd9c9a-a198-41b3-9810-6fb09c44993e",
   "metadata": {},
   "source": [
    "### 7️⃣ reduce() function\n",
    "\n",
    "The function reduce(function, sequence) continually applies the function to the sequence. It then returns a single value."
   ]
  },
  {
   "cell_type": "code",
   "execution_count": 94,
   "id": "7c049b49-a09f-4bb6-a9a9-7f8702c00853",
   "metadata": {},
   "outputs": [
    {
     "data": {
      "text/plain": [
       "113"
      ]
     },
     "execution_count": 94,
     "metadata": {},
     "output_type": "execute_result"
    }
   ],
   "source": [
    "# reduce() examples\n",
    "\n",
    "from functools import reduce\n",
    "lst =[47,11,42,13]\n",
    "reduce(lambda x,y: x+y,lst)"
   ]
  },
  {
   "cell_type": "markdown",
   "id": "1e619460-ebc9-4c39-8b8b-d115fde2cc72",
   "metadata": {},
   "source": [
    "### 8️⃣ filter() function\n",
    "\n",
    "The function filter(function, list) offers a convenient way to filter out all the elements of an iterable, for which the function returns \"True\".\n",
    "\n",
    "The function needs to return a Boolean value (either True or False). This function will be applied to every element of the iterable. Only if the function returns \"True\" will the element of the iterable be included in the result."
   ]
  },
  {
   "cell_type": "code",
   "execution_count": 96,
   "id": "b55633f4-ad38-425f-a309-4be38e5094f5",
   "metadata": {},
   "outputs": [],
   "source": [
    "#First let's make a function\n",
    "def even_check(num):\n",
    "    if num%2 ==0:\n",
    "        return True"
   ]
  },
  {
   "cell_type": "code",
   "execution_count": 98,
   "id": "7029328b-2a2e-4394-9684-9940a5d50fb7",
   "metadata": {},
   "outputs": [
    {
     "data": {
      "text/plain": [
       "[0, 1, 2, 3, 4, 5, 6, 7, 8, 9, 10, 11, 12, 13, 14, 15, 16, 17, 18, 19]"
      ]
     },
     "execution_count": 98,
     "metadata": {},
     "output_type": "execute_result"
    }
   ],
   "source": [
    "lst =list(range(20))\n",
    "lst"
   ]
  },
  {
   "cell_type": "code",
   "execution_count": 99,
   "id": "5520498d-aadb-4ac6-9e55-c380b487839f",
   "metadata": {},
   "outputs": [
    {
     "data": {
      "text/plain": [
       "[0, 2, 4, 6, 8, 10, 12, 14, 16, 18]"
      ]
     },
     "execution_count": 99,
     "metadata": {},
     "output_type": "execute_result"
    }
   ],
   "source": [
    "list(filter(even_check,lst))"
   ]
  },
  {
   "cell_type": "markdown",
   "id": "3eba99a6-69c4-4fa7-8dc1-c9b20911950e",
   "metadata": {},
   "source": [
    "**filter() is more commonly used with lambda functions, this because we usually use filter for a quick job where we don't want to write an entire function.**"
   ]
  },
  {
   "cell_type": "code",
   "execution_count": 100,
   "id": "3e58190d-a7fb-4ae6-8f5f-f53cac8058a7",
   "metadata": {},
   "outputs": [
    {
     "data": {
      "text/plain": [
       "[0, 2, 4, 6, 8, 10, 12, 14, 16, 18]"
      ]
     },
     "execution_count": 100,
     "metadata": {},
     "output_type": "execute_result"
    }
   ],
   "source": [
    "list(filter(lambda x: x%2==0,lst))"
   ]
  },
  {
   "cell_type": "code",
   "execution_count": null,
   "id": "f29906a5-ed1e-4b16-bc2c-1d82f6cf413c",
   "metadata": {},
   "outputs": [],
   "source": []
  },
  {
   "cell_type": "code",
   "execution_count": null,
   "id": "3d4a1d7b-3eca-4474-a0d5-1dfdf27c8bff",
   "metadata": {},
   "outputs": [],
   "source": []
  },
  {
   "cell_type": "markdown",
   "id": "0d5a3327-1e01-4052-b5d6-fbd81eca183f",
   "metadata": {},
   "source": [
    "---\n",
    "\n",
    "<div align=\"center\">\n",
    "\n",
    "### 🙏 Thank you for learning with us!\n",
    "\n",
    "#### — Team 🚀 Decode-AI\n",
    "\n",
    "</div>\n"
   ]
  }
 ],
 "metadata": {
  "kernelspec": {
   "display_name": "Python 3 (ipykernel)",
   "language": "python",
   "name": "python3"
  },
  "language_info": {
   "codemirror_mode": {
    "name": "ipython",
    "version": 3
   },
   "file_extension": ".py",
   "mimetype": "text/x-python",
   "name": "python",
   "nbconvert_exporter": "python",
   "pygments_lexer": "ipython3",
   "version": "3.13.5"
  }
 },
 "nbformat": 4,
 "nbformat_minor": 5
}
