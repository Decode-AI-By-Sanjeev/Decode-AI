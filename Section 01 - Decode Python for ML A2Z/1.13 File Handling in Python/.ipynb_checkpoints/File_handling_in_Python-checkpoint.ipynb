{
  "nbformat": 4,
  "nbformat_minor": 0,
  "metadata": {
    "colab": {
      "provenance": []
    },
    "kernelspec": {
      "name": "python3",
      "display_name": "Python 3"
    },
    "language_info": {
      "name": "python"
    }
  },
  "cells": [
    {
      "cell_type": "code",
      "execution_count": null,
      "metadata": {
        "id": "hp1Xocl-49Cl"
      },
      "outputs": [],
      "source": [
        "https://www.codechef.com/learn/course/oops-concepts-in-python"
      ]
    },
    {
      "cell_type": "markdown",
      "source": [],
      "metadata": {
        "id": "flAS3IYJ4ZjL"
      }
    },
    {
      "cell_type": "markdown",
      "source": [
        "File handling in Python refers to the process of working with files, which are used to store data on a computer's storage system.\n",
        "\n",
        "Files can be used to store a wide range of information, such as text, numbers, images, and more.\n",
        "\n",
        "In Python, you can perform various operations on files, such as creating, reading, writing, and updating their content."
      ],
      "metadata": {
        "id": "3RZWScob4R8-"
      }
    },
    {
      "cell_type": "markdown",
      "source": [
        "**See all the files in your directory**"
      ],
      "metadata": {
        "id": "sxNOchw-4adk"
      }
    },
    {
      "cell_type": "code",
      "source": [
        "# It helps you see all the files in your directory at the location - /mnt/codechef\n",
        "def user_function():\n",
        "    # Define the directory path\n",
        "    directory_path = \"/mnt/codechef\"\n",
        "\n",
        "    # List the files and directories inside \"/mnt/codechef\"\n",
        "    files = os.listdir(directory_path)\n",
        "\n",
        "    # Check if there are any files or directories\n",
        "    if files:\n",
        "        # Iterate through each file or directory and print its name\n",
        "        for file_name in files:\n",
        "            print(file_name)"
      ],
      "metadata": {
        "id": "PXX_iOha4jVz"
      },
      "execution_count": null,
      "outputs": []
    },
    {
      "cell_type": "code",
      "source": [
        "user_function()"
      ],
      "metadata": {
        "colab": {
          "base_uri": "https://localhost:8080/",
          "height": 272
        },
        "id": "c99Rh_B-4ng8",
        "outputId": "4a5d5ba3-0136-4d9f-ea1f-284a1da943b4"
      },
      "execution_count": null,
      "outputs": [
        {
          "output_type": "error",
          "ename": "NameError",
          "evalue": "name 'os' is not defined",
          "traceback": [
            "\u001b[0;31m---------------------------------------------------------------------------\u001b[0m",
            "\u001b[0;31mNameError\u001b[0m                                 Traceback (most recent call last)",
            "\u001b[0;32m/tmp/ipython-input-2-1652908467.py\u001b[0m in \u001b[0;36m<cell line: 0>\u001b[0;34m()\u001b[0m\n\u001b[0;32m----> 1\u001b[0;31m \u001b[0muser_function\u001b[0m\u001b[0;34m(\u001b[0m\u001b[0;34m)\u001b[0m\u001b[0;34m\u001b[0m\u001b[0;34m\u001b[0m\u001b[0m\n\u001b[0m",
            "\u001b[0;32m/tmp/ipython-input-1-3714785903.py\u001b[0m in \u001b[0;36muser_function\u001b[0;34m()\u001b[0m\n\u001b[1;32m      5\u001b[0m \u001b[0;34m\u001b[0m\u001b[0m\n\u001b[1;32m      6\u001b[0m     \u001b[0;31m# List the files and directories inside \"/mnt/codechef\"\u001b[0m\u001b[0;34m\u001b[0m\u001b[0;34m\u001b[0m\u001b[0m\n\u001b[0;32m----> 7\u001b[0;31m     \u001b[0mfiles\u001b[0m \u001b[0;34m=\u001b[0m \u001b[0mos\u001b[0m\u001b[0;34m.\u001b[0m\u001b[0mlistdir\u001b[0m\u001b[0;34m(\u001b[0m\u001b[0mdirectory_path\u001b[0m\u001b[0;34m)\u001b[0m\u001b[0;34m\u001b[0m\u001b[0;34m\u001b[0m\u001b[0m\n\u001b[0m\u001b[1;32m      8\u001b[0m \u001b[0;34m\u001b[0m\u001b[0m\n\u001b[1;32m      9\u001b[0m     \u001b[0;31m# Check if there are any files or directories\u001b[0m\u001b[0;34m\u001b[0m\u001b[0;34m\u001b[0m\u001b[0m\n",
            "\u001b[0;31mNameError\u001b[0m: name 'os' is not defined"
          ]
        }
      ]
    },
    {
      "cell_type": "markdown",
      "source": [
        "**Read the file and output to console**"
      ],
      "metadata": {
        "id": "5IyxVULK4zFn"
      }
    },
    {
      "cell_type": "code",
      "source": [
        "def user_function():\n",
        "    # Read from file\n",
        "    filename = \"/mnt/codechef/input.txt\"\n",
        "    try:\n",
        "        with open(filename, 'r') as my_file:\n",
        "            for line in my_file:\n",
        "                number = int(line.strip())\n",
        "                print(number)\n",
        "    except FileNotFoundError as e:\n",
        "        print(e)"
      ],
      "metadata": {
        "id": "fG0VsViC4qLK"
      },
      "execution_count": null,
      "outputs": []
    },
    {
      "cell_type": "code",
      "source": [
        "user_function()"
      ],
      "metadata": {
        "id": "9PK4Bx3N4-dt"
      },
      "execution_count": null,
      "outputs": []
    },
    {
      "cell_type": "markdown",
      "source": [
        "**Read the file and output to another file**"
      ],
      "metadata": {
        "id": "_cY8PlM55AqP"
      }
    },
    {
      "cell_type": "code",
      "source": [
        "def user_function():\n",
        "    # Open files in respective modes\n",
        "    input_filename = \"/mnt/codechef/input.txt\"\n",
        "    output_filename = \"/mnt/codechef/output.txt\"\n",
        "    try:\n",
        "        with open(input_filename, 'r') as input_file, open(output_filename, 'w') as output_file:\n",
        "            # Read and write the numbers from the file\n",
        "            for line in input_file:\n",
        "                output_file.write(line)\n",
        "\n",
        "        # Display the contents of output.txt\n",
        "        with open(output_filename, 'r') as output_file:\n",
        "            for line in output_file:\n",
        "                print(line.strip())\n",
        "    except IOError as e:\n",
        "        print(\"I/O error:\", e)"
      ],
      "metadata": {
        "id": "llGuyW9A5Ltx"
      },
      "execution_count": null,
      "outputs": []
    },
    {
      "cell_type": "markdown",
      "source": [
        "**Read, do operations and output to another file**"
      ],
      "metadata": {
        "id": "7ENUM78M5fA8"
      }
    },
    {
      "cell_type": "code",
      "source": [
        "def user_function():\n",
        "    # Open files in respective modes\n",
        "    input_filename = \"/mnt/codechef/input.txt\"\n",
        "    output_filename = \"/mnt/codechef/output.txt\"\n",
        "    try:\n",
        "        with open(input_filename, \"r\") as input_file, open(output_filename, \"w\") as output_file:\n",
        "            # Read and write the numbers from the file\n",
        "            for line in input_file:\n",
        "                number = int(line.strip())\n",
        "                output_file.write(f\"{number} {number * number}\\n\")\n",
        "\n",
        "        # Display the contents of output.txt\n",
        "        with open(output_filename, \"r\") as output_file:\n",
        "            for line in output_file:\n",
        "                print(line.strip())\n",
        "\n",
        "    except IOError as e:\n",
        "        print(\"An error occurred:\", e)"
      ],
      "metadata": {
        "id": "xEL0rxgO5pii"
      },
      "execution_count": null,
      "outputs": []
    },
    {
      "cell_type": "markdown",
      "source": [
        "**Modes Summary**\n",
        "\n",
        "| Mode   | Action                      | File Must Exist | Creates New File | Truncates Existing File |\n",
        "| ------ | --------------------------- | --------------- | ---------------- | ----------------------- |\n",
        "| `\"r\"`  | Read                        | ✅               | ❌                | ❌                       |\n",
        "| `\"w\"`  | Write                       | ❌               | ✅                | ✅                       |\n",
        "| `\"a\"`  | Append                      | ❌               | ✅                | ❌                       |\n",
        "| `\"r+\"` | Read and Write              | ✅               | ❌                | ❌                       |\n",
        "| `\"w+\"` | Write and Read              | ❌               | ✅                | ✅                       |\n",
        "| `\"x\"`  | Create (fail if exists)     | ❌               | ✅                | ❌                       |\n",
        "| `\"b\"`  | Binary (combine with above) | ❌               | ❌                | ❌                       |\n"
      ],
      "metadata": {
        "id": "59Sp7WMR5lvJ"
      }
    },
    {
      "cell_type": "code",
      "source": [
        "# Problem 1: you have a file with some list of values. you need to read the file and store the square of all values to another file."
      ],
      "metadata": {
        "id": "89awhdsE4F0E"
      },
      "execution_count": null,
      "outputs": []
    },
    {
      "cell_type": "code",
      "source": [
        "def user_function():\n",
        "    # Open files in respective modes\n",
        "    input_filename = \"/mnt/codechef/input.txt\"\n",
        "    output_filename = \"/mnt/codechef/output.txt\"\n",
        "    try:\n",
        "        with open(input_filename, 'r') as input_file, open(output_filename, 'w') as output_file:\n",
        "            # Read and write the numbers from the file\n",
        "            for line in input_file:\n",
        "                number = int(line.strip())\n",
        "                output_file.write(str(2 * number) + '\\n')\n",
        "            # Display the contents of output.txt\n",
        "        with open(output_filename, 'r') as output_reader:\n",
        "            for line in output_reader:\n",
        "                print(line.strip())\n",
        "    except IOError as e:\n",
        "        print(e)\n"
      ],
      "metadata": {
        "id": "vxwR4fUL4SWu"
      },
      "execution_count": null,
      "outputs": []
    },
    {
      "cell_type": "code",
      "source": [
        "# Problem 2: You are given an input file - input.txt which contains a paragraph about \"CodeChef\"."
      ],
      "metadata": {
        "id": "hgOLjsD94Tfv"
      },
      "execution_count": null,
      "outputs": []
    },
    {
      "cell_type": "code",
      "source": [
        "def user_function():\n",
        "    file_path = \"/mnt/codechef/input.txt\"\n",
        "    try:\n",
        "        with open(file_path, 'r') as file:\n",
        "            search = \"CodeChef\"\n",
        "            cnt = 0\n",
        "            for line in file:\n",
        "                words = line.split()\n",
        "                for word in words:\n",
        "                    if word == search:\n",
        "                        cnt += 1\n",
        "        print(\"Number of occurrences of 'CodeChef':\", cnt)\n",
        "    except IOError as e:\n",
        "        print(\"Error reading the file:\", e)"
      ],
      "metadata": {
        "id": "nm3rNI0D4uwG"
      },
      "execution_count": null,
      "outputs": []
    },
    {
      "cell_type": "markdown",
      "source": [
        "# 📁 Common File Extensions in Machine Learning\n",
        "\n",
        "Machine learning workflows involve a variety of file formats for data storage, model persistence, configuration, and visualization. Below are the commonly used file extensions grouped by their role.\n",
        "\n",
        "---\n",
        "\n",
        "## 📊 1. **Data Files**\n",
        "\n",
        "| Extension | Description                     | Common Usage                            |\n",
        "|-----------|----------------------------------|------------------------------------------|\n",
        "| `.csv`    | Comma-Separated Values           | Tabular datasets                         |\n",
        "| `.tsv`    | Tab-Separated Values             | Tabular data with tab delimiter          |\n",
        "| `.xlsx`   | Excel Spreadsheet                | Data analysis, feature tracking          |\n",
        "| `.json`   | JavaScript Object Notation       | Structured data, configurations          |\n",
        "| `.xml`    | Extensible Markup Language       | Annotated datasets (e.g., for NLP tasks) |\n",
        "| `.txt`    | Plain Text                       | Simple data, labels, notes               |\n",
        "| `.parquet`| Apache Parquet                   | Efficient columnar storage (big data)    |\n",
        "| `.h5`     | HDF5 (Hierarchical Data Format)  | Storing large datasets or models         |\n",
        "| `.npz`    | NumPy Compressed Archive         | Storing NumPy arrays                     |\n",
        "\n",
        "---\n",
        "\n",
        "## 🧠 2. **Model Files**\n",
        "\n",
        "| Extension | Description                     | Used By                                  |\n",
        "|-----------|----------------------------------|-------------------------------------------|\n",
        "| `.pkl` / `.pickle` | Python Pickle File       | Scikit-learn, XGBoost, custom models      |\n",
        "| `.joblib` | Serialized models with Joblib    | Scikit-learn, faster for large models     |\n",
        "| `.h5`     | HDF5-based Keras model format    | TensorFlow/Keras                          |\n",
        "| `.pt` / `.pth` | PyTorch Model               | PyTorch                                   |\n",
        "| `.onnx`   | Open Neural Network Exchange     | Model interoperability (PyTorch ↔ ONNX)   |\n",
        "| `.tflite` | TensorFlow Lite Format           | Deploying ML models on mobile/IoT         |\n",
        "\n",
        "---\n",
        "\n",
        "## 🖼️ 3. **Image/Audio/Video Files**\n",
        "\n",
        "| Extension | Description             | Usage                             |\n",
        "|-----------|--------------------------|------------------------------------|\n",
        "| `.jpg` / `.jpeg` | JPEG Image        | Image classification, CV tasks     |\n",
        "| `.png`     | Portable Network Graphic | Images with transparency            |\n",
        "| `.bmp`     | Bitmap Image            | Raw image format                   |\n",
        "| `.wav`     | Waveform Audio File     | Speech/audio processing            |\n",
        "| `.mp3`     | Compressed Audio Format | Audio classification               |\n",
        "| `.mp4`     | MPEG-4 Video            | Action recognition, video analysis |\n",
        "\n",
        "---\n",
        "\n",
        "## ⚙️ 4. **Configuration and Code**\n",
        "\n",
        "| Extension | Description                | Usage                            |\n",
        "|-----------|-----------------------------|-----------------------------------|\n",
        "| `.py`     | Python Script               | ML model code                     |\n",
        "| `.ipynb`  | Jupyter Notebook            | Interactive model development     |\n",
        "| `.yaml` / `.yml` | YAML Config File     | Model config (e.g., for PyTorch Lightning) |\n",
        "| `.ini`    | INI Config File             | Settings for training/evaluation  |\n",
        "\n",
        "---\n",
        "\n",
        "## 📁 5. **Compressed Files**\n",
        "\n",
        "| Extension | Description               | Usage                          |\n",
        "|-----------|----------------------------|---------------------------------|\n",
        "| `.zip`    | ZIP Archive                | Dataset/model packaging         |\n",
        "| `.tar.gz` | Gzipped TAR Archive        | Distributing data/models        |\n",
        "| `.7z`     | 7-Zip Archive              | High-compression packaging      |\n",
        "\n",
        "---\n",
        "\n",
        "## ✅ Summary\n",
        "\n",
        "| Category           | Examples                              |\n",
        "|--------------------|----------------------------------------|\n",
        "| Data Files         | `.csv`, `.json`, `.xlsx`, `.parquet`  |\n",
        "| Model Files        | `.pkl`, `.pt`, `.h5`, `.onnx`          |\n",
        "| Media Files        | `.jpg`, `.wav`, `.mp4`                 |\n",
        "| Code & Config      | `.py`, `.ipynb`, `.yaml`               |\n",
        "| Archives           | `.zip`, `.tar.gz`                      |\n",
        "\n",
        "---\n",
        "\n",
        "Let me know if you’d like a downloadable cheat sheet or usage examples in Python!\n",
        "\n"
      ],
      "metadata": {
        "id": "byjJFVSy46MI"
      }
    },
    {
      "cell_type": "code",
      "source": [],
      "metadata": {
        "id": "ywvZHsYo4ver"
      },
      "execution_count": null,
      "outputs": []
    },
    {
      "cell_type": "markdown",
      "source": [],
      "metadata": {
        "id": "a9iV0A1o23Aq"
      }
    }
  ]
}