{
 "cells": [
  {
   "cell_type": "markdown",
   "id": "72773887-b54c-4622-be6b-9f074276b7eb",
   "metadata": {},
   "source": [
    "<p align=\"center\">\n",
    "  <img src=\"DECODE_AI_BANNER.png\" alt=\"Description\" width=\"1400\"/>\n",
    "</p>\n"
   ]
  },
  {
   "cell_type": "markdown",
   "id": "5326c10e-d410-4358-b32d-e8579576e55c",
   "metadata": {},
   "source": [
    "<h1 align=\"center\">Strings in Python</h1>\n",
    "\n",
    "Textual data in Python is handled with `str` objects, or strings.  Strings are **immutable sequences** which means python tracks every element in the string as a sequence.\n",
    "\n",
    "String literals are written in a variety of ways:\n",
    "\n",
    "```python\n",
    "# Single quotes\n",
    "s1 = 'allows embedded \"double\" quotes'\n",
    "\n",
    "# Double quotes\n",
    "s2 = \"allows embedded 'single' quotes\"\n",
    "\n",
    "# Triple single quotes (for multi-line or embedded quotes)\n",
    "s3 = '''Three single quotes'''\n",
    "\n",
    "# Triple double quotes (also useful for docstrings)\n",
    "s4 = \"\"\"Three double quotes\"\"\"\n",
    "```\n"
   ]
  },
  {
   "cell_type": "markdown",
   "id": "4c8cd9a3-16e8-442b-8caf-4e3434e58c95",
   "metadata": {},
   "source": [
    "**Properties of string**\n",
    "\n",
    "| Property       | String supports? | Example                         |\n",
    "| -------------- | ---------------- | ------------------------------- |\n",
    "| **Sequence**   | ✅ Yes            | `s[0]`, `s[1:4]`, `for ch in s` |\n",
    "| **Container**  | ✅ Yes            | `'e' in s`, `len(s)`            |\n",
    "| **Mutable**    | ❌ No             | Strings are **immutable**       |\n",
    "| **Ordered**    | ✅ Yes            | Preserves character order       |\n",
    "| **Duplicates** | ✅ Yes            | Allows repeated characters      |\n"
   ]
  },
  {
   "cell_type": "markdown",
   "id": "b9f9dafc-aaa5-483c-a93e-04a05ab30c35",
   "metadata": {},
   "source": [
    "# Live Coding Session"
   ]
  },
  {
   "cell_type": "code",
   "execution_count": 96,
   "id": "22088a28-3811-447a-9eef-77dcfc6edf27",
   "metadata": {},
   "outputs": [
    {
     "data": {
      "text/plain": [
       "128075"
      ]
     },
     "execution_count": 96,
     "metadata": {},
     "output_type": "execute_result"
    }
   ],
   "source": [
    "#python - unicode \n",
    "ord(\"👋\")"
   ]
  },
  {
   "cell_type": "code",
   "execution_count": 97,
   "id": "b51416c7-25ab-42ed-ab34-132d54894704",
   "metadata": {},
   "outputs": [
    {
     "data": {
      "text/plain": [
       "'👋'"
      ]
     },
     "execution_count": 97,
     "metadata": {},
     "output_type": "execute_result"
    }
   ],
   "source": [
    "chr(128075)"
   ]
  },
  {
   "cell_type": "code",
   "execution_count": 99,
   "id": "52aa04ad-c714-4005-80b7-c9332c5bf602",
   "metadata": {},
   "outputs": [
    {
     "data": {
      "text/plain": [
       "'This is also a string'"
      ]
     },
     "execution_count": 99,
     "metadata": {},
     "output_type": "execute_result"
    }
   ],
   "source": [
    "'This is also a string'"
   ]
  },
  {
   "cell_type": "code",
   "execution_count": 102,
   "id": "fb4b57a3-109c-4726-934f-3f38c045fe8d",
   "metadata": {},
   "outputs": [
    {
     "data": {
      "text/plain": [
       "\" I'm using single quotes, but will create an error\""
      ]
     },
     "execution_count": 102,
     "metadata": {},
     "output_type": "execute_result"
    }
   ],
   "source": [
    "\" I'm using single quotes, but will create an error\""
   ]
  },
  {
   "cell_type": "code",
   "execution_count": 103,
   "id": "26296b59-b269-46d9-978a-f39de7f815c7",
   "metadata": {},
   "outputs": [
    {
     "name": "stdout",
     "output_type": "stream",
     "text": [
      "Hello\n"
     ]
    }
   ],
   "source": [
    "s = 'Hello'\n",
    "print(s)"
   ]
  },
  {
   "cell_type": "code",
   "execution_count": 104,
   "id": "0de1f877-eaa8-495d-b36f-ca8f2487b780",
   "metadata": {},
   "outputs": [
    {
     "data": {
      "text/plain": [
       "1569201822080"
      ]
     },
     "execution_count": 104,
     "metadata": {},
     "output_type": "execute_result"
    }
   ],
   "source": [
    "id(s)"
   ]
  },
  {
   "cell_type": "code",
   "execution_count": 106,
   "id": "6b4499a8-8e5a-4224-bc90-604c076027ab",
   "metadata": {},
   "outputs": [
    {
     "data": {
      "text/plain": [
       "'e'"
      ]
     },
     "execution_count": 106,
     "metadata": {},
     "output_type": "execute_result"
    }
   ],
   "source": [
    "# python - containers (list,tuple,string,...)\n",
    "#indexing - \"hello\" => h(0),e(1), l(2),l(3),o(4)\n",
    "s[1]"
   ]
  },
  {
   "cell_type": "code",
   "execution_count": 107,
   "id": "3d8ace8b-ed3a-400f-94ad-4e85a506a7b1",
   "metadata": {},
   "outputs": [
    {
     "data": {
      "text/plain": [
       "'Hello'"
      ]
     },
     "execution_count": 107,
     "metadata": {},
     "output_type": "execute_result"
    }
   ],
   "source": [
    "#slicing - substring, subsequence\n",
    "# string[startIdx:endIdx:jump]\n",
    "s"
   ]
  },
  {
   "cell_type": "code",
   "execution_count": 109,
   "id": "37678722-3f95-4e09-9d65-4709a0c9886c",
   "metadata": {},
   "outputs": [
    {
     "data": {
      "text/plain": [
       "'ello'"
      ]
     },
     "execution_count": 109,
     "metadata": {},
     "output_type": "execute_result"
    }
   ],
   "source": [
    "s[1:] # 2-exclude"
   ]
  },
  {
   "cell_type": "code",
   "execution_count": 110,
   "id": "1c1b3b88-6100-4a0d-89ad-08fe9d75e16f",
   "metadata": {},
   "outputs": [
    {
     "data": {
      "text/plain": [
       "'o'"
      ]
     },
     "execution_count": 110,
     "metadata": {},
     "output_type": "execute_result"
    }
   ],
   "source": [
    "s[4] #-1=> last index(4)"
   ]
  },
  {
   "cell_type": "code",
   "execution_count": 113,
   "id": "531f33d2-a6d6-45b7-8e87-1e18d4346371",
   "metadata": {},
   "outputs": [
    {
     "data": {
      "text/plain": [
       "'Hl'"
      ]
     },
     "execution_count": 113,
     "metadata": {},
     "output_type": "execute_result"
    }
   ],
   "source": [
    "s[:4:2] # string(0,2)"
   ]
  },
  {
   "cell_type": "code",
   "execution_count": 114,
   "id": "47fde2b9-ac05-4d85-919b-24d285d28eb7",
   "metadata": {},
   "outputs": [
    {
     "data": {
      "text/plain": [
       "'olleH'"
      ]
     },
     "execution_count": 114,
     "metadata": {},
     "output_type": "execute_result"
    }
   ],
   "source": [
    "s[::-1] # trick to reverse a string"
   ]
  },
  {
   "cell_type": "code",
   "execution_count": 116,
   "id": "8aca0542-04c8-4e1f-b0af-a8c1e8a8ca4e",
   "metadata": {},
   "outputs": [],
   "source": [
    "s = s[::-1] # s is now pointing to a new object which is created by slicing the original string literal pointed by s"
   ]
  },
  {
   "cell_type": "code",
   "execution_count": 117,
   "id": "417dba10-e687-4afa-b732-f8e3cb5229aa",
   "metadata": {},
   "outputs": [
    {
     "data": {
      "text/plain": [
       "'olleH'"
      ]
     },
     "execution_count": 117,
     "metadata": {},
     "output_type": "execute_result"
    }
   ],
   "source": [
    "s"
   ]
  },
  {
   "cell_type": "code",
   "execution_count": 121,
   "id": "e3e9bd54-89d4-4924-9e28-5c49e2f5fd69",
   "metadata": {},
   "outputs": [],
   "source": [
    "s = \"hello\"\n",
    "s = s + \" world !\""
   ]
  },
  {
   "cell_type": "code",
   "execution_count": 123,
   "id": "c0f0e295-c187-496e-af97-e2f89f6a228c",
   "metadata": {},
   "outputs": [
    {
     "data": {
      "text/plain": [
       "'hello world !hello world !hello world !hello world !hello world !hello world !hello world !hello world !hello world !hello world !'"
      ]
     },
     "execution_count": 123,
     "metadata": {},
     "output_type": "execute_result"
    }
   ],
   "source": [
    "s = s*10"
   ]
  },
  {
   "cell_type": "markdown",
   "id": "b87e38bd-19c1-475d-bd3d-fd1cc8820e0a",
   "metadata": {},
   "source": [
    "# built in string methods"
   ]
  },
  {
   "cell_type": "code",
   "execution_count": 129,
   "id": "d8c62c54-a601-42ba-bd24-3537c8194d20",
   "metadata": {},
   "outputs": [],
   "source": [
    "s = \"Hello Goodmoring\""
   ]
  },
  {
   "cell_type": "code",
   "execution_count": 132,
   "id": "dfc21b3f-2be5-4a60-a515-a65abe7ebffa",
   "metadata": {},
   "outputs": [],
   "source": [
    "arr_s = s.split(\"o\")"
   ]
  },
  {
   "cell_type": "code",
   "execution_count": 133,
   "id": "cfa6a69a-6ed5-40e6-aaa2-c1731243218b",
   "metadata": {},
   "outputs": [
    {
     "data": {
      "text/plain": [
       "['Hell', ' G', '', 'dm', 'ring']"
      ]
     },
     "execution_count": 133,
     "metadata": {},
     "output_type": "execute_result"
    }
   ],
   "source": [
    "arr_s"
   ]
  },
  {
   "cell_type": "code",
   "execution_count": 134,
   "id": "49b1b023-0355-42df-b09e-9a4450c59726",
   "metadata": {},
   "outputs": [
    {
     "data": {
      "text/plain": [
       "'Hello Goodmoringo'"
      ]
     },
     "execution_count": 134,
     "metadata": {},
     "output_type": "execute_result"
    }
   ],
   "source": [
    "opt = \"\"\n",
    "for item in arr_s:\n",
    "    opt += item+\"o\"\n",
    "opt"
   ]
  },
  {
   "cell_type": "code",
   "execution_count": 135,
   "id": "432f1334-cf7e-417c-8b06-835dd2871b16",
   "metadata": {},
   "outputs": [
    {
     "data": {
      "text/plain": [
       "'Hello Goodmoring'"
      ]
     },
     "execution_count": 135,
     "metadata": {},
     "output_type": "execute_result"
    }
   ],
   "source": [
    "\"o\".join(arr_s) #optimized implementation"
   ]
  },
  {
   "cell_type": "code",
   "execution_count": 137,
   "id": "0af9ba2a-0d5f-4b1e-abcf-a0f9c8297f1e",
   "metadata": {},
   "outputs": [
    {
     "data": {
      "text/plain": [
       "' Hello Goodmoring    '"
      ]
     },
     "execution_count": 137,
     "metadata": {},
     "output_type": "execute_result"
    }
   ],
   "source": [
    "s = \" Hello Goodmoring    \"\n",
    "s"
   ]
  },
  {
   "cell_type": "code",
   "execution_count": 141,
   "id": "8ee07505-3229-47e5-a09b-4fc395ae5a76",
   "metadata": {},
   "outputs": [
    {
     "data": {
      "text/plain": [
       "'Hello Goodmoring'"
      ]
     },
     "execution_count": 141,
     "metadata": {},
     "output_type": "execute_result"
    }
   ],
   "source": [
    "s.strip()"
   ]
  },
  {
   "cell_type": "code",
   "execution_count": 142,
   "id": "99968071-1ce8-4283-8c1c-2e1ee8e81d1f",
   "metadata": {},
   "outputs": [
    {
     "data": {
      "text/plain": [
       "' HeLLo Goodmoring    '"
      ]
     },
     "execution_count": 142,
     "metadata": {},
     "output_type": "execute_result"
    }
   ],
   "source": [
    "s.replace(\"l\",\"L\")"
   ]
  },
  {
   "cell_type": "markdown",
   "id": "bdd6fdb1-65a3-4c20-ad7b-c5c52b6152dd",
   "metadata": {},
   "source": [
    "# string formatting"
   ]
  },
  {
   "cell_type": "code",
   "execution_count": 143,
   "id": "9fba9d14-ec07-4868-a72c-fe63f3af56f3",
   "metadata": {},
   "outputs": [
    {
     "data": {
      "text/plain": [
       "'Hi User, How are you doing !!'"
      ]
     },
     "execution_count": 143,
     "metadata": {},
     "output_type": "execute_result"
    }
   ],
   "source": [
    "\"Hi User, How are you doing !!\""
   ]
  },
  {
   "cell_type": "code",
   "execution_count": 144,
   "id": "dcc45233-94dd-46ae-8316-860c0f8fd7a9",
   "metadata": {},
   "outputs": [
    {
     "data": {
      "text/plain": [
       "'Hi Sanjeev, How are you doing !!'"
      ]
     },
     "execution_count": 144,
     "metadata": {},
     "output_type": "execute_result"
    }
   ],
   "source": [
    "name = \"Sanjeev\"\n",
    "f'Hi {name}, How are you doing !!'"
   ]
  },
  {
   "cell_type": "code",
   "execution_count": 145,
   "id": "a13e31b3-9b0b-4cb9-a8f9-709b590e6ca1",
   "metadata": {},
   "outputs": [
    {
     "data": {
      "text/plain": [
       "'Hi Sanjeev, How are you doing !!'"
      ]
     },
     "execution_count": 145,
     "metadata": {},
     "output_type": "execute_result"
    }
   ],
   "source": [
    "name = \"Sanjeev\"\n",
    "'Hi Sanjeev, How are you doing !!'.format(name)"
   ]
  },
  {
   "cell_type": "markdown",
   "id": "676618bf-7c4b-4dd8-8399-8533b3e2b79b",
   "metadata": {},
   "source": [
    "# is check methods in python"
   ]
  },
  {
   "cell_type": "code",
   "execution_count": 161,
   "id": "924e209e-2abd-449e-ada9-3ab465122dac",
   "metadata": {},
   "outputs": [],
   "source": [
    "s = \"Hello\""
   ]
  },
  {
   "cell_type": "code",
   "execution_count": 153,
   "id": "93fe588f-b6c7-4d59-9e52-8bfa1b3a6fd5",
   "metadata": {},
   "outputs": [
    {
     "data": {
      "text/plain": [
       "True"
      ]
     },
     "execution_count": 153,
     "metadata": {},
     "output_type": "execute_result"
    }
   ],
   "source": [
    "s.isalpha()"
   ]
  },
  {
   "cell_type": "code",
   "execution_count": 154,
   "id": "24e0151d-b464-4cbd-990c-357d34cb917a",
   "metadata": {},
   "outputs": [
    {
     "data": {
      "text/plain": [
       "True"
      ]
     },
     "execution_count": 154,
     "metadata": {},
     "output_type": "execute_result"
    }
   ],
   "source": [
    "s.isalnum()"
   ]
  },
  {
   "cell_type": "code",
   "execution_count": 157,
   "id": "e2f80184-ffa3-4489-898d-c0c3f93e04d8",
   "metadata": {},
   "outputs": [
    {
     "data": {
      "text/plain": [
       "True"
      ]
     },
     "execution_count": 157,
     "metadata": {},
     "output_type": "execute_result"
    }
   ],
   "source": [
    "s.isdigit()"
   ]
  },
  {
   "cell_type": "code",
   "execution_count": 162,
   "id": "7a8c20da-636d-4e0c-b5f3-520cfd445b9a",
   "metadata": {},
   "outputs": [
    {
     "data": {
      "text/plain": [
       "True"
      ]
     },
     "execution_count": 162,
     "metadata": {},
     "output_type": "execute_result"
    }
   ],
   "source": [
    "s.istitle() #"
   ]
  },
  {
   "cell_type": "code",
   "execution_count": 165,
   "id": "7caa554b-2d98-44b2-847c-24980ac8b130",
   "metadata": {},
   "outputs": [],
   "source": [
    "emoji_text = \"हेलो 👋🌍\""
   ]
  },
  {
   "cell_type": "code",
   "execution_count": 166,
   "id": "fd8712e9-70b4-47eb-a7c9-ea3172f33e04",
   "metadata": {},
   "outputs": [
    {
     "data": {
      "text/plain": [
       "'हेलो 👋🌍'"
      ]
     },
     "execution_count": 166,
     "metadata": {},
     "output_type": "execute_result"
    }
   ],
   "source": [
    "emoji_text"
   ]
  },
  {
   "cell_type": "code",
   "execution_count": 168,
   "id": "1a12b286-e7c3-4e3b-ae9e-4cc36d6c16cf",
   "metadata": {},
   "outputs": [
    {
     "data": {
      "text/plain": [
       "b'\\xe0\\xa4\\xb9\\xe0\\xa5\\x87\\xe0\\xa4\\xb2\\xe0\\xa5\\x8b \\xf0\\x9f\\x91\\x8b\\xf0\\x9f\\x8c\\x8d'"
      ]
     },
     "execution_count": 168,
     "metadata": {},
     "output_type": "execute_result"
    }
   ],
   "source": [
    "#encoding in python\n",
    "emoji_text.encode('utf-8') # encode to bytes"
   ]
  },
  {
   "cell_type": "code",
   "execution_count": null,
   "id": "bed585df-89a8-4e6c-a182-14c9d0ebed47",
   "metadata": {},
   "outputs": [],
   "source": []
  },
  {
   "cell_type": "code",
   "execution_count": null,
   "id": "c4bd5920-f6e0-4acd-ab49-4cfedacac9db",
   "metadata": {},
   "outputs": [],
   "source": []
  },
  {
   "cell_type": "code",
   "execution_count": null,
   "id": "f44101a6-b2ab-4b68-a374-914a125fddfb",
   "metadata": {},
   "outputs": [],
   "source": []
  },
  {
   "cell_type": "code",
   "execution_count": null,
   "id": "bc15a423-e3a0-4d47-9f5e-86d364e92ff7",
   "metadata": {},
   "outputs": [],
   "source": []
  }
 ],
 "metadata": {
  "kernelspec": {
   "display_name": "Python 3 (ipykernel)",
   "language": "python",
   "name": "python3"
  },
  "language_info": {
   "codemirror_mode": {
    "name": "ipython",
    "version": 3
   },
   "file_extension": ".py",
   "mimetype": "text/x-python",
   "name": "python",
   "nbconvert_exporter": "python",
   "pygments_lexer": "ipython3",
   "version": "3.13.5"
  }
 },
 "nbformat": 4,
 "nbformat_minor": 5
}
