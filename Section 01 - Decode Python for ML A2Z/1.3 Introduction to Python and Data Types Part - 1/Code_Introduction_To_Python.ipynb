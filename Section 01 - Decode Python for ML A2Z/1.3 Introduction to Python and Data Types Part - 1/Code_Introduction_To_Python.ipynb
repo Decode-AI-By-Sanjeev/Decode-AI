{
 "cells": [
  {
   "cell_type": "markdown",
   "id": "d884f304-84f5-4d5e-957f-8485d59758ea",
   "metadata": {},
   "source": [
    "# Introduction to Python \n",
    "\n",
    "> *“Any fool can write code that a computer can understand. Good programmers write code that humans can understand.”*  \n",
    "> — Martin Fowler\n",
    "\n",
    "---\n",
    "## 📘 Topics to be Covered\n",
    "\n",
    "1. **What is Python ?**  \n",
    "2. **Key Features of Python**  \n",
    "3. **Limitations of Python**  \n",
    "4. **Scope of Python**  \n",
    "5. **Python — A Programming or a Scripting Language?**  \n",
    "6. **Python Internals: Stages of Execution (The Python Execution Model)**  \n",
    "7. **Primitive data types in Python**  \n",
    "\n",
    "---"
   ]
  },
  {
   "cell_type": "markdown",
   "id": "da1b500b-7e9d-4ff3-9151-67f6e61cd5cd",
   "metadata": {},
   "source": [
    "\n",
    "## 1. What is Python?\n",
    "\n",
    "**Python** is a high-level, interpreted programming language known for its **simplicity**, **readability**, and **versatility**.\n",
    "\n",
    "- Created by **Guido van Rossum**\n",
    "- First released in **1991**\n",
    "- Now used by companies like **Google**, **Netflix**, **NASA**, **Tesla**, and **Meta**\n",
    "\n",
    "Python makes it **easy for beginners to start**, while still being **powerful enough** for experts to build complex systems.\n",
    "\n",
    "Python is one of the most popular programming language. why ? \n",
    "\n",
    "- Used in **cutting-edge fields**: AI, Machine Learning, Data Science, Automation, and more.\n",
    "- Beginner-friendly syntax.\n",
    "- Fast development and prototyping.\n",
    "- A huge collection of libraries for **everything**.\n",
    "- A massive, supportive community.\n",
    "\n",
    "---\n",
    "\n",
    "## 2. Key Features of Python\n",
    "\n",
    "- **Interpreted** – No compilation required; run code line-by-line.\n",
    "- **Dynamically Typed** – No need to declare variable types.\n",
    "- **High-Level Language** – Write code like you're writing English.\n",
    "- **Object-Oriented** – Build reusable and organized code.\n",
    "- **Cross-Platform** – Runs on Windows, Mac, Linux seamlessly.\n",
    "\n",
    "---\n",
    "## 3. Limitations of Python\n",
    "\n",
    "Even the best tools have limitations:\n",
    "\n",
    "- **Slower than C++/Java** because it is interpreted.\n",
    "- **Not ideal for mobile app development.**\n",
    "- **GIL (Global Interpreter Lock)**: Limits true multithreading.\n",
    "- **Runtime Errors** due to dynamic typing.\n",
    "- **High memory usage** compared to lower-level languages.\n",
    "\n",
    "---\n",
    "\n",
    "## 4. Scope of Python\n",
    "\n",
    "Python shines in:\n",
    "\n",
    "| Domain             | Tools/Libraries         | What You Can Build                             |\n",
    "|-------------------|-------------------------|------------------------------------------------|\n",
    "| Data Science       | `pandas`, `numpy`        | Analyze real-world data                        |\n",
    "| Machine Learning   | `scikit-learn`, `xgboost`| Predict house prices, recommend videos         |\n",
    "| AI / Deep Learning | `tensorflow`, `pytorch`  | Build chatbots, autonomous systems             |\n",
    "| Web Development    | `Flask`, `Django`        | Build websites and REST APIs                   |\n",
    "| Automation         | `selenium`, `pyautogui`  | Auto-fill forms, schedule emails               |\n",
    "| Games              | `pygame`                 | Build 2D games and interactive apps            |\n",
    "\n",
    "---\n"
   ]
  },
  {
   "cell_type": "markdown",
   "id": "f8c05caf-6ccc-400f-a584-835dd7f7504d",
   "metadata": {},
   "source": [
    "## 5. Python — A Programming or a Scripting Language?\n",
    "\n",
    "---\n",
    "- Python is a general-purpose programming language that is often used as a scripting language.\n",
    "- Python as a scripting language - Used for quick automation or system-level tasks.\n",
    "  ```python\n",
    "  \n",
    "    # Rename all .txt files in a folder\n",
    "    import os\n",
    "    folder = \"C:/Users/Sanjeev/Desktop/textfiles\"\n",
    "    for filename in os.listdir(folder):\n",
    "        if filename.endswith(\".txt\"):\n",
    "            new_name = filename.replace(\" \", \"_\")\n",
    "            os.rename(os.path.join(folder, filename), os.path.join(folder, new_name))\n",
    "            \n",
    "  ```\n",
    "- Python as a programming language - Used to build applications by organizing code using modules/classes/functions.\n",
    "    ```python\n",
    "  \n",
    "    # Simple Student Management System\n",
    "    class Student:\n",
    "        def __init__(self, name, marks):\n",
    "            self.name = name\n",
    "            self.marks = marks\n",
    "    \n",
    "        def get_grade(self):\n",
    "            if self.marks >= 90:\n",
    "                return \"A\"\n",
    "            elif self.marks >= 75:\n",
    "                return \"B\"\n",
    "            else:\n",
    "                return \"C\"\n",
    "    \n",
    "    def main():\n",
    "        students = [\n",
    "            Student(\"Sanjeev\", 88),\n",
    "            Student(\"Shambhavi\", 95)\n",
    "        ]\n",
    "    \n",
    "        for s in students:\n",
    "            print(f\"{s.name} got grade: {s.get_grade()}\")\n",
    "    \n",
    "    if __name__ == \"__main__\":\n",
    "        main()\n",
    "    \n",
    "                \n",
    "   ```\n",
    "- **Python is an object-oriented programming language like Java** – you can write class-based code, just like Java.  \n",
    "- **Python is interpreted**, but **Java is compiled** – it runs via an interpreter rather than being compiled to machine code directly.\n",
    "\n",
    "Let’s understand this more clearly with an analogy:\n",
    "\n",
    "Analogy: Chef & Recipe\n",
    "\n",
    "| Concept                        |  **Python**                |   **Java**                       |\n",
    "|-------------------------------|-----------------------------|----------------------------------|\n",
    "| **Cooking Style (OOP)**        | Object-Oriented             | Object-Oriented                  |\n",
    "| **Cooking Method (Execution)** | Interpreted *(live cooking)* | Compiled *(pre-cooked and served)* |\n",
    "\n",
    "---"
   ]
  },
  {
   "cell_type": "markdown",
   "id": "d69e507f-7cab-4c19-9ba5-7c9b4f29be36",
   "metadata": {},
   "source": [
    "## 6. Python Internals: Stages of Execution (The Python Execution Model)\n",
    "\n",
    "- Sample Python code for Analysis : \n",
    "```python\n",
    "   x = 5 + 3\n",
    "```\n",
    "    The above code is saved in .py file in local system.\n",
    "\n",
    "### 6.1. Lexical Analysis and Tokenization\n",
    "\n",
    "- The first step in the execution process is **lexical analysis**, also known as **tokenization**.\n",
    "- During this phase, the source code is converted into a sequence of **tokens**.\n",
    "- **Tokens**:  \n",
    "  `[ x (identifier) , = (operator), 5 (literal), + (operator), 3 (literal) ]`\n"
   ]
  },
  {
   "cell_type": "markdown",
   "id": "c3e437e2-e004-44af-88a4-97171c04f08a",
   "metadata": {},
   "source": [
    "\n",
    "### 6.2. Syntax Analysis and Abstract Syntax Tree (AST)\n",
    "\n",
    "- During this phase, the sequence of tokens is analyzed to determine its grammatical structure.\n",
    "- The output of this phase is an Abstract Syntax Tree (AST), which represents the hierarchical structure of the source code.\n",
    "  ![AST Example](ast_image.png)"
   ]
  },
  {
   "cell_type": "markdown",
   "id": "4d779793-e9df-4c41-8208-d63dd33be110",
   "metadata": {},
   "source": [
    "\n",
    "### 6.3. Bytecode Compilation\n",
    "\n",
    "- The AST is then compiled into bytecode, which is a low-level, platform-independent representation of the source code.\n",
    "- Bytecode is a set of instructions that can be efficiently executed by the Python Virtual Machine (PVM).\n",
    "- Generates a .pyc file\n",
    "- Bytecode Examples\n",
    "  ```python\n",
    "    1 LOAD_CONST 5\n",
    "    2 LOAD_CONST 3\n",
    "    3 BINARY_ADD\n",
    "    4 STORE_NAME x\n",
    "    ```\n"
   ]
  },
  {
   "cell_type": "markdown",
   "id": "9f88eaf1-42d3-4960-887c-3fedffe96f3c",
   "metadata": {},
   "source": [
    "\n",
    "\n",
    "### 6.4. Execution by the Python Virtual Machine (PVM)\n",
    "\n",
    "- PVM is the Python Interpreter that converts the Python byte code into machine-executable code.\n",
    "- PVM interpreter reads and executes the given file line by line.\n",
    "- The AST is then compiled into bytecode, which is a low-level, platform-independent representation of the source code.\n",
    "- CPU runs the native machine instructions triggered by the PVM\n",
    "\n",
    "---\n"
   ]
  },
  {
   "cell_type": "markdown",
   "id": "4ade2a31-00a3-4a49-a706-cf03e7ee43e3",
   "metadata": {},
   "source": [
    "## 7. Fundamental Data types in Python\n",
    "In Python, datatypes define what kind of value a variable can hold. Python is dynamically typed, so you don’t have to declare types explicitly—they're inferred at runtime.\n",
    "\n",
    "Fundamental (or primitive) data types are the basic building blocks of data in Python. They are simple, core types from which more complex structures can be made.\n",
    "\n",
    "A literal is a value. A variable is a name pointing to that value.\n",
    "\n",
    "A variable in Python is defined through assignment. There is no concept of declaring a variable outside of that assignment."
   ]
  },
  {
   "cell_type": "markdown",
   "id": "d08d5b68-5444-42aa-8b36-56a4048a4580",
   "metadata": {},
   "source": [
    "### Integers\n",
    "\n",
    "Integer literals are created by any number without a decimal or complex component."
   ]
  },
  {
   "cell_type": "code",
   "execution_count": 10,
   "id": "a24bb247-d8cd-41c1-8335-b4e211a7dc2f",
   "metadata": {},
   "outputs": [
    {
     "name": "stdout",
     "output_type": "stream",
     "text": [
      "Type : <class 'int'>\n",
      "val : 1234\n"
     ]
    }
   ],
   "source": [
    "# integers\n",
    "x = 1234\n",
    "\n",
    "print(f'Type : {type(x)}')\n",
    "print(f'val : {x}')"
   ]
  },
  {
   "cell_type": "markdown",
   "id": "0a2260b1-40cd-424a-acef-e7cc9476ed6d",
   "metadata": {},
   "source": [
    "In Python, everything — even primitive data types like int, str, bool, etc. — is a class\n",
    "\n",
    "Every value (even 5, \"hello\", True) is an instance of a class.\n",
    "\n",
    "This makes Python powerful and flexible."
   ]
  },
  {
   "cell_type": "markdown",
   "id": "45f09d3e-a178-4415-8153-2858ccbcb1ac",
   "metadata": {},
   "source": [
    "### Floats\n",
    "\n",
    "Float literals can be created by adding a decimal component to a number."
   ]
  },
  {
   "cell_type": "code",
   "execution_count": 8,
   "id": "6221d7c8-00fa-465e-927d-d07fd764bee1",
   "metadata": {},
   "outputs": [
    {
     "name": "stdout",
     "output_type": "stream",
     "text": [
      "Type : <class 'float'>\n",
      "val : 1.0\n"
     ]
    }
   ],
   "source": [
    "# float\n",
    "x = 1.0\n",
    "\n",
    "print(f'Type : {type(x)}')\n",
    "print(f'val : {x}')"
   ]
  },
  {
   "cell_type": "markdown",
   "id": "7165e82a-74d7-44cd-8cf1-807cb45377d8",
   "metadata": {},
   "source": [
    "### Boolean\n",
    "\n",
    "Boolean can be defined by typing True/False without quotes"
   ]
  },
  {
   "cell_type": "code",
   "execution_count": 7,
   "id": "0cfd01eb-5def-411c-8d46-49f724f65dd1",
   "metadata": {},
   "outputs": [
    {
     "name": "stdout",
     "output_type": "stream",
     "text": [
      "Type : <class 'bool'>\n",
      "val : True\n"
     ]
    }
   ],
   "source": [
    "# boolean\n",
    "b1 = True\n",
    "b2 = False\n",
    "\n",
    "print(f'Type : {type(b1)}')\n",
    "print(f'val : {b1}')"
   ]
  },
  {
   "cell_type": "markdown",
   "id": "9410d6c1-db5d-476f-ad42-54ef7610f7de",
   "metadata": {},
   "source": [
    "### Strings\n",
    "\n",
    "String literals can be defined with any of single quotes ('), double quotes (\") or triple quotes (''' or \"\"\"). All give the same result with two important differences.\n",
    "\n",
    "If you quote with single quotes, you do not have to escape double quotes and vice-versa.\n",
    "If you quote with triple quotes, your string can span multiple lines."
   ]
  },
  {
   "cell_type": "code",
   "execution_count": 15,
   "id": "507f5402-ec3e-4f8a-8164-52f551e3c65f",
   "metadata": {},
   "outputs": [
    {
     "name": "stdout",
     "output_type": "stream",
     "text": [
      "name Type : <class 'str'>\n",
      "name val : Hello I'm double quotes !\n",
      "greet Type : <class 'str'>\n",
      "greet val : Hello I'm single quotes!\n",
      "multi_line Type : <class 'str'>\n",
      "multi_line val : \n",
      "Hi\n",
      "This is Python\n",
      "\n"
     ]
    }
   ],
   "source": [
    "name = \"Hello I'm double quotes !\"           # Double quotes\n",
    "print(f'name Type : {type(name)}')\n",
    "print(f'name val : {name}')\n",
    "#--------------\n",
    "greet = 'Hello I\\'m single quotes!'            # Single quotes\n",
    "print(f'greet Type : {type(greet)}')\n",
    "print(f'greet val : {greet}')\n",
    "#--------------\n",
    "multi_line = '''\n",
    "Hi\n",
    "This is Python\n",
    "'''          # Triple quotes for multi-line strings\n",
    "print(f'multi_line Type : {type(multi_line)}')\n",
    "print(f'multi_line val : {multi_line}')"
   ]
  },
  {
   "cell_type": "markdown",
   "id": "1c3d9ab5-83a9-423f-b65d-8a3588433c77",
   "metadata": {},
   "source": [
    "### Complex\n",
    "\n",
    "Complex literals can be created by using the notation x + yj where x is the real component and y is the imaginary component."
   ]
  },
  {
   "cell_type": "code",
   "execution_count": 16,
   "id": "ff725eb1-d878-4282-a011-88c51c88baeb",
   "metadata": {},
   "outputs": [
    {
     "data": {
      "text/plain": [
       "complex"
      ]
     },
     "execution_count": 16,
     "metadata": {},
     "output_type": "execute_result"
    }
   ],
   "source": [
    "# complex numbers: note the use of `j` to specify the imaginary part\n",
    "x = 1.0 - 2.0j\n",
    "type(x)"
   ]
  },
  {
   "cell_type": "code",
   "execution_count": 17,
   "id": "01d2fedf-c5a9-44fa-ac07-373b1fb0f3e4",
   "metadata": {},
   "outputs": [
    {
     "name": "stdout",
     "output_type": "stream",
     "text": [
      "(1-2j)\n"
     ]
    }
   ],
   "source": [
    "print(x)"
   ]
  },
  {
   "cell_type": "code",
   "execution_count": 18,
   "id": "742b7237-3f68-46ea-8412-4c2f90a22f9c",
   "metadata": {},
   "outputs": [
    {
     "name": "stdout",
     "output_type": "stream",
     "text": [
      "1.0 -2.0\n"
     ]
    }
   ],
   "source": [
    "print(x.real, x.imag)"
   ]
  },
  {
   "cell_type": "markdown",
   "id": "82bd6347-0061-4f0c-9265-9e6691e9a239",
   "metadata": {},
   "source": [
    "### Dynamic Typing\n",
    "\n",
    "In Python, while the value that a variable points to has a type, the variable itself has no strict type in its definition. You can re-use the same variable to point to an object of a different type. "
   ]
  },
  {
   "cell_type": "code",
   "execution_count": 19,
   "id": "b3d2c68e-0807-49b6-902e-f110d4ac8949",
   "metadata": {},
   "outputs": [
    {
     "name": "stdout",
     "output_type": "stream",
     "text": [
      "10\n",
      "ten\n"
     ]
    }
   ],
   "source": [
    "ten = 10\n",
    "print(ten)\n",
    "\n",
    "ten = 'ten'\n",
    "print(ten)"
   ]
  },
  {
   "cell_type": "markdown",
   "id": "0142aa92-3b30-4761-b7f2-3a83d5d2b4d8",
   "metadata": {},
   "source": [
    "### Boolean Type"
   ]
  },
  {
   "cell_type": "code",
   "execution_count": 21,
   "id": "0b95e0fc-020d-4d6d-ba2a-b12e35a05754",
   "metadata": {},
   "outputs": [
    {
     "name": "stdout",
     "output_type": "stream",
     "text": [
      "True\n",
      "False\n"
     ]
    }
   ],
   "source": [
    "is_valid = True\n",
    "print(is_valid)\n",
    "is_empty = False\n",
    "print(is_valid)"
   ]
  },
  {
   "cell_type": "code",
   "execution_count": 23,
   "id": "c3a7c2a9-9a3e-446a-bae9-34237bc89972",
   "metadata": {},
   "outputs": [
    {
     "name": "stdout",
     "output_type": "stream",
     "text": [
      "False\n",
      "True\n",
      "False\n",
      "True\n"
     ]
    }
   ],
   "source": [
    "# Boolean evaluation\n",
    "print(True and False)\n",
    "print(True or False)\n",
    "print(not True)\n",
    "print('a' == 'a')"
   ]
  },
  {
   "cell_type": "markdown",
   "id": "4baeebf7-1a13-4464-994b-ea7feae2f88e",
   "metadata": {},
   "source": [
    "### None Type\n",
    "\n",
    "Represents the absence of a value."
   ]
  },
  {
   "cell_type": "code",
   "execution_count": 25,
   "id": "cd46a91f-1524-42d4-9371-359b895bcd18",
   "metadata": {},
   "outputs": [
    {
     "name": "stdout",
     "output_type": "stream",
     "text": [
      "None\n",
      "<class 'NoneType'>\n"
     ]
    }
   ],
   "source": [
    "data = None\n",
    "print(data)\n",
    "print(type(data))"
   ]
  },
  {
   "cell_type": "markdown",
   "id": "5626d6c5-551f-4051-86ba-0c56f38553a6",
   "metadata": {},
   "source": [
    "### Type Checking and Conversion"
   ]
  },
  {
   "cell_type": "code",
   "execution_count": 24,
   "id": "880d803b-2306-4a15-8299-6e5b2082f681",
   "metadata": {},
   "outputs": [
    {
     "name": "stdout",
     "output_type": "stream",
     "text": [
      "<class 'str'>\n",
      "<class 'int'>\n"
     ]
    }
   ],
   "source": [
    "a = \"10\"\n",
    "print(type(a))\n",
    "a = int(a)\n",
    "print(type(a))"
   ]
  },
  {
   "cell_type": "code",
   "execution_count": null,
   "id": "496e8273-deca-4a11-84ff-3206b99905ac",
   "metadata": {},
   "outputs": [],
   "source": []
  },
  {
   "cell_type": "markdown",
   "id": "b8ac3ece-2118-4b2e-a2ad-cba7fd58efcc",
   "metadata": {},
   "source": [
    "## 📚 References\n",
    "\n",
    "1. [The Python execution model details src 1](https://www.geeksforgeeks.org/internal-working-of-python/)  \n",
    "2. [The Python execution model src 2](https://medium.com/@rajat01221/execution-policy-in-python-the-math-behind-python-18bd289eb40e)  "
   ]
  }
 ],
 "metadata": {
  "kernelspec": {
   "display_name": "Python 3 (ipykernel)",
   "language": "python",
   "name": "python3"
  },
  "language_info": {
   "codemirror_mode": {
    "name": "ipython",
    "version": 3
   },
   "file_extension": ".py",
   "mimetype": "text/x-python",
   "name": "python",
   "nbconvert_exporter": "python",
   "pygments_lexer": "ipython3",
   "version": "3.13.5"
  }
 },
 "nbformat": 4,
 "nbformat_minor": 5
}
