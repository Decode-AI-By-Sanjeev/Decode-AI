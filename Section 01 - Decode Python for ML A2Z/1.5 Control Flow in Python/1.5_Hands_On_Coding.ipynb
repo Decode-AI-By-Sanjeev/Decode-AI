{
 "cells": [
  {
   "cell_type": "code",
   "execution_count": null,
   "id": "8914a5ca-d348-4813-b422-90b1f24e3e00",
   "metadata": {},
   "outputs": [],
   "source": [
    "# decodeaienv -activate"
   ]
  },
  {
   "cell_type": "code",
   "execution_count": 18,
   "id": "530d1d17-9672-4d81-affc-5c2e8a4e0f98",
   "metadata": {},
   "outputs": [
    {
     "name": "stdout",
     "output_type": "stream",
     "text": [
      "No voter found\n"
     ]
    }
   ],
   "source": [
    "\n",
    "# problem: given a list of voters, check whether there is any voter with targetAge\n",
    "\n",
    "# for\n",
    "targetAge = 50\n",
    "age_list = [51,42,25,43,21]\n",
    "\n",
    "found = False\n",
    "\n",
    "for age in age_list:\n",
    "    if age == targetAge:\n",
    "        found = True\n",
    "\n",
    "if found == True:\n",
    "    print(\"voter exists with target age\")\n",
    "else:\n",
    "    print(\"No voter found\")\n"
   ]
  },
  {
   "cell_type": "code",
   "execution_count": 20,
   "id": "84ee51f1-4790-4d47-8c3e-6449b4307b58",
   "metadata": {},
   "outputs": [
    {
     "name": "stdout",
     "output_type": "stream",
     "text": [
      "voter exists with target age\n"
     ]
    }
   ],
   "source": [
    "# while\n",
    "\n",
    "targetAge = 50\n",
    "age_list = [51,42,25,43,21,50]\n",
    "\n",
    "found = False\n",
    "n = len(age_list)\n",
    "\n",
    "for idx in range(n): #[0,n-1]\n",
    "    age = age_list[idx]\n",
    "    if age == targetAge:\n",
    "        found = True\n",
    "\n",
    "if found == True:\n",
    "    print(\"voter exists with target age\")\n",
    "else:\n",
    "    print(\"No voter found\")"
   ]
  },
  {
   "cell_type": "code",
   "execution_count": 23,
   "id": "ad60e2a7-e3ca-40db-ba89-25a8c0b8f25e",
   "metadata": {},
   "outputs": [
    {
     "name": "stdout",
     "output_type": "stream",
     "text": [
      "voter exists with target age\n"
     ]
    }
   ],
   "source": [
    "# problem: given a list of voters, check whether there is any voter with targetAge\n",
    "\n",
    "# break\n",
    "\n",
    "targetAge = 50\n",
    "age_list = [51,42,25,43,21,50]\n",
    "\n",
    "found = False\n",
    "\n",
    "for age in age_list: # iterate to all age for a person\n",
    "    if age == targetAge:\n",
    "        found = True\n",
    "        break\n",
    "\n",
    "if found == True:\n",
    "    print(\"voter exists with target age\")\n",
    "else:\n",
    "    print(\"No voter found\")"
   ]
  },
  {
   "cell_type": "code",
   "execution_count": 25,
   "id": "9a5e80a1-ba9a-4a23-8bd9-43645d037b6c",
   "metadata": {},
   "outputs": [
    {
     "name": "stdout",
     "output_type": "stream",
     "text": [
      "avg age is 37.75 years\n"
     ]
    }
   ],
   "source": [
    "# continue\n",
    "\n",
    "# find the average age of all the eligible voters from the list of applicants\n",
    "\n",
    "age_list = [15,23,35,23,70,15]\n",
    "\n",
    "# avg_age = sum_of_all_eligible_voter / no_of_eligible_voters\n",
    "\n",
    "sum_of_all_eligible_voter = 0\n",
    "no_of_eligible_voters = 0\n",
    "\n",
    "for age in age_list:\n",
    "    if age < 18:\n",
    "        continue\n",
    "    sum_of_all_eligible_voter += age\n",
    "    no_of_eligible_voters += 1\n",
    "    \n",
    "avgAge = 0\n",
    "if no_of_eligible_voters>0:\n",
    "    avgAge = sum_of_all_eligible_voter / no_of_eligible_voters\n",
    "\n",
    "print(f'avg age is {avgAge} years')"
   ]
  },
  {
   "cell_type": "code",
   "execution_count": 28,
   "id": "386ee212-6d5a-4184-8623-7b72b5dfe607",
   "metadata": {},
   "outputs": [],
   "source": [
    "#pass\n",
    "\n",
    "def calcSumAge():\n",
    "    pass\n"
   ]
  },
  {
   "cell_type": "code",
   "execution_count": null,
   "id": "cfa5c807-a24b-4385-98a6-60317ea4877b",
   "metadata": {},
   "outputs": [],
   "source": []
  }
 ],
 "metadata": {
  "kernelspec": {
   "display_name": "Python 3 (ipykernel)",
   "language": "python",
   "name": "python3"
  },
  "language_info": {
   "codemirror_mode": {
    "name": "ipython",
    "version": 3
   },
   "file_extension": ".py",
   "mimetype": "text/x-python",
   "name": "python",
   "nbconvert_exporter": "python",
   "pygments_lexer": "ipython3",
   "version": "3.13.5"
  }
 },
 "nbformat": 4,
 "nbformat_minor": 5
}
