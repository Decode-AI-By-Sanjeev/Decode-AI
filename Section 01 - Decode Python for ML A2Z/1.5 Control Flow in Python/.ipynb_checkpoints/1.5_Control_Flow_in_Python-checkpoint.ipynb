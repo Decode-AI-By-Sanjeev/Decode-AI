{
  "nbformat": 4,
  "nbformat_minor": 0,
  "metadata": {
    "colab": {
      "provenance": []
    },
    "kernelspec": {
      "name": "python3",
      "display_name": "Python 3"
    },
    "language_info": {
      "name": "python"
    }
  },
  "cells": [
    {
      "cell_type": "markdown",
      "source": [
        "# Introduction to Control Flow in Python\n",
        "\n",
        "Control flow is essential in Python (and any programming language) because it allows your program to make decisions and execute different code paths depending on conditions.\n",
        "\n",
        "Without control flow, every program would just run line by line from top to bottom without any logic or flexibility."
      ],
      "metadata": {
        "id": "XEVHdR48gF8f"
      }
    },
    {
      "cell_type": "markdown",
      "source": [
        "✅ Types of Control Flow in Python:\n",
        "\n",
        "Conditional Statements: `if`, `elif`, `else`\n",
        "\n",
        "Loops: `for`, `while`\n",
        "\n",
        "Loop Control: `break`, `continue`, `pass`"
      ],
      "metadata": {
        "id": "JRaf-YfViQDc"
      }
    },
    {
      "cell_type": "markdown",
      "source": [
        "## 1 Conditional Statements: `if-elif-else`"
      ],
      "metadata": {
        "id": "ENK2ENbla11r"
      }
    },
    {
      "cell_type": "markdown",
      "source": [
        "\n",
        "\n",
        "The first type of control flow satement is `if-elif-else`.\n",
        "\n",
        "if-elif-else helps your program:\n",
        "\n",
        "- Make decisions\n",
        "- Handle multiple conditions\n",
        "- Provide a fallback using else if nothing matches\n",
        "\n",
        "This statement helps with conditional execution of code, i.e., the piece of code to be executed is selected based on certain condition(s).\n",
        "\n",
        "conditions includes\n",
        "\n",
        "1.1 Comparison operators\n",
        "\n",
        "- For testing if conditions are true or false, first we need to learn the operators that can be used for comparison.\n",
        "- Some common python comparison operators are shown in below example\n",
        "\n",
        "1.2 Logical operators\n",
        "\n",
        "- Sometimes we may need to check multiple conditions simultaneously.\n",
        "- The logical operator and is used to check if all the conditions are true, while the logical operator or is used to check if either of the conditons is true.\n",
        "\n"
      ],
      "metadata": {
        "id": "sHf4YAP1hofl"
      }
    },
    {
      "cell_type": "markdown",
      "source": [
        "```python\n",
        "\"\"\"\n",
        "   ****************************** Comparison Operators ******************************\n",
        "\"\"\"\n",
        "\n",
        "# x == y\tProduce True if … x is equal to y\n",
        "# x != y\t… x is not equal to y\n",
        "# x > y\t… x is greater than y\n",
        "# x < y\t… x is less than y\n",
        "# x >= y\t… x is greater than or equal to y\n",
        "# x <= y\t… x is less than or equal to y\n",
        "```"
      ],
      "metadata": {
        "id": "NtCqgRA5ZjPP"
      }
    },
    {
      "cell_type": "markdown",
      "source": [
        "```python\n",
        "\"\"\"\n",
        "   ****************************** Logical operators ******************************\n",
        "\"\"\"\n",
        "#Checking if both the conditions are true using 'and'\n",
        "#Checking if either condition is true using 'or'\n",
        "\n",
        "```"
      ],
      "metadata": {
        "id": "9o7N2cJ3Z0gf"
      }
    },
    {
      "cell_type": "markdown",
      "source": [
        "```python\n",
        "if condition1:\n",
        "    # Code runs if condition1 is True\n",
        "elif condition2:\n",
        "    # Code runs if condition1 is False and condition2 is True\n",
        "elif condition3:\n",
        "    # (Optional) Code runs if above conditions are False and this one is True\n",
        "else:\n",
        "    # Code runs if none of the above conditions are True\n",
        "```"
      ],
      "metadata": {
        "id": "QVZcnH32Z_S5"
      }
    },
    {
      "cell_type": "code",
      "source": [
        "## Exercise Problem 1: write a code in python which will take age as input and tells whether the person can vote or not.\n",
        "\n",
        "age = int(input(\"Enter your age: \"))\n",
        "\n",
        "if age >= 18:\n",
        "    print(\"You can vote!\")\n",
        "elif age > 0:\n",
        "    print(\"You are too young to vote.\")\n",
        "else:\n",
        "    print(\"Invalid age entered.\")"
      ],
      "metadata": {
        "id": "wAV8ajsigD0H"
      },
      "execution_count": null,
      "outputs": []
    },
    {
      "cell_type": "code",
      "source": [
        "## Exercise Problem 2: Write a program in Python which takes a year as input from user and tell whether the year is leap year or not.\n",
        "\n",
        "\"\"\"\n",
        "# Leap year conditions:\n",
        "\n",
        "->Divisible by 4\n",
        "    -> divisible by 100\n",
        "        -> Divisible by 400 (Leap Year)\n",
        "        -> Not divisible by 400 (Not a leap year)\n",
        "    -> Not divisible by 100 (Leap Year)\n",
        "->Not Divisible by 4 (Not a leap year)\n",
        "\n",
        "\"\"\"\n",
        "year = int(input(\"Enter a year: \"))\n",
        "\n",
        "\n",
        "if (year % 4 == 0):\n",
        "    if (year % 100 == 0):\n",
        "        if (year % 400 == 0):\n",
        "            print(f\"{year} is a leap year.\")\n",
        "        else:\n",
        "            print(f\"{year} is not a leap year.\")\n",
        "    else:\n",
        "        print(f\"{year} is a leap year.\")\n",
        "else:\n",
        "    print(f\"{year} is not a leap year.\")\n"
      ],
      "metadata": {
        "id": "oL0P7amsbXAJ"
      },
      "execution_count": null,
      "outputs": []
    },
    {
      "cell_type": "markdown",
      "source": [
        "## 2. Loops: `for`, `while`\n"
      ],
      "metadata": {
        "id": "vZ6MFOA70EQa"
      }
    },
    {
      "cell_type": "code",
      "source": [
        "## Exercise Problem 1: Write a program in Python which takes a number as input from user and tell whether the number is prime or not\n",
        "\n",
        "# using for loop -------------\n",
        "num = int(input(\"Enter a number: \"))\n",
        "\n",
        "if num <= 1:\n",
        "    print(f\"{num} is not a prime number.\")\n",
        "else:\n",
        "    for i in range(2, num):\n",
        "        if num % i == 0:\n",
        "            print(f\"{num} is not a prime number.\")\n",
        "            break\n",
        "    else:\n",
        "        print(f\"{num} is a prime number.\")\n",
        "\n",
        "\n",
        "# using while loop -------------\n",
        "\n",
        "num = int(input(\"Enter a number: \"))\n",
        "\n",
        "if num <= 1:\n",
        "    print(f\"{num} is not a prime number.\")\n",
        "else:\n",
        "    i = 2\n",
        "    is_prime = True\n",
        "\n",
        "    while i < num:\n",
        "        if num % i == 0:\n",
        "            is_prime = False\n",
        "            break\n",
        "        i += 1\n",
        "\n",
        "    if is_prime:\n",
        "        print(f\"{num} is a prime number.\")\n",
        "    else:\n",
        "        print(f\"{num} is not a prime number.\")\n",
        "\n"
      ],
      "metadata": {
        "colab": {
          "base_uri": "https://localhost:8080/"
        },
        "id": "-l9fp9nhd0n9",
        "outputId": "57197a6d-3809-4ca0-b6b8-80faca6aeaf6"
      },
      "execution_count": null,
      "outputs": [
        {
          "output_type": "stream",
          "name": "stdout",
          "text": [
            "Enter a number: 5\n",
            "5 is a prime number.\n"
          ]
        }
      ]
    },
    {
      "cell_type": "code",
      "source": [
        "# Exercise Problem 2: Given a list of unique numbers and a target sum, print all pair of number whose sum is target. you can't take the same number twice\n",
        "\n",
        "arr = [1,2,3,4,5,6,7,8]\n",
        "target = 5\n",
        "\n",
        "n = len(arr)\n",
        "is_found = False\n",
        "\n",
        "for i in range(n):\n",
        "  for j in range(i+1,n):\n",
        "    if arr[i]+arr[j] ==  target:\n",
        "      is_found = True\n",
        "      print(arr[i],arr[j])\n",
        "\n",
        "\n",
        "if is_found == False:\n",
        "  print(\"No pair found\")"
      ],
      "metadata": {
        "colab": {
          "base_uri": "https://localhost:8080/"
        },
        "id": "R23fpoCed0rD",
        "outputId": "e4fa780a-e961-48f9-d1b9-54268574f010"
      },
      "execution_count": null,
      "outputs": [
        {
          "output_type": "stream",
          "name": "stdout",
          "text": [
            "1 4\n",
            "2 3\n"
          ]
        }
      ]
    },
    {
      "cell_type": "markdown",
      "source": [
        "## 3. Loop Control: `break`, `continue`, `pass`"
      ],
      "metadata": {
        "id": "kwiOxQew0RHl"
      }
    },
    {
      "cell_type": "code",
      "source": [
        "# Break Example 1: Given a list of numbers and a target, find the first occurence of target. -1 if not found.\n",
        "\n",
        "arr = [5,3,6,5,3,2,1]\n",
        "target = 3\n",
        "\n",
        "n = len(arr)\n",
        "idx = -1\n",
        "\n",
        "for i in range(n):\n",
        "  if arr[i] ==  target:\n",
        "      is_found = True\n",
        "      idx = i\n",
        "      break\n",
        "\n",
        "\n",
        "if is_found == True:\n",
        "  print(i)\n",
        "else:\n",
        "  print(\"No pair found\")"
      ],
      "metadata": {
        "colab": {
          "base_uri": "https://localhost:8080/"
        },
        "id": "LtNggISAd4JW",
        "outputId": "afcf382d-3b84-4b90-f14f-1e81ef255c92"
      },
      "execution_count": null,
      "outputs": [
        {
          "output_type": "stream",
          "name": "stdout",
          "text": [
            "1\n"
          ]
        }
      ]
    },
    {
      "cell_type": "code",
      "source": [
        "# Continue Example 1: given n, print all natural numbers less than equal to n which is divisible by 5\n",
        "\n",
        "n = 25\n",
        "\n",
        "for i in range(1,n+1):\n",
        "  if i%5 != 0:\n",
        "    continue\n",
        "\n",
        "  print(i)\n"
      ],
      "metadata": {
        "colab": {
          "base_uri": "https://localhost:8080/"
        },
        "id": "9dZSD6UQd4M_",
        "outputId": "6cc7669f-7250-45ba-f5b0-3d6a7091e0e9"
      },
      "execution_count": null,
      "outputs": [
        {
          "output_type": "stream",
          "name": "stdout",
          "text": [
            "5\n",
            "10\n",
            "15\n",
            "20\n",
            "25\n"
          ]
        }
      ]
    },
    {
      "cell_type": "markdown",
      "source": [
        "Pass: When you're writing code but haven't implemented certain parts yet, you can use pass as a placeholder to avoid syntax errors."
      ],
      "metadata": {
        "id": "8zS4ptMJlqgI"
      }
    },
    {
      "cell_type": "code",
      "source": [
        "# Pass Example:\n",
        "def process_data():\n",
        "    pass  # You haven't written the logic yet, but want the code to run\n",
        "\n",
        "# Without pass, Python will raise an IndentationError because the function body is empty."
      ],
      "metadata": {
        "id": "CQnLh7nqlZoX"
      },
      "execution_count": null,
      "outputs": []
    }
  ]
}